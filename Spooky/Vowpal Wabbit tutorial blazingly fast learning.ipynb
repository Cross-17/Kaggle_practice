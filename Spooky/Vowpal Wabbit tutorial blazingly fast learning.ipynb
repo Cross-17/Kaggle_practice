{
 "cells": [
  {
   "cell_type": "markdown",
   "metadata": {
    "_cell_guid": "403f8973-1fb5-422c-bd82-fb5d7041d8b2",
    "_uuid": "091313c11c12aaeef8bc25b39a205f79bb2588a6",
    "collapsed": true
   },
   "source": [
    "# <center> Vowpal Wabbit tutorial: blazingly fast learning\n",
    "In this tutorial, we'll cover (both theoratically and in practice) two reasons of Vowpal Wabbit's exceptional training speed, namely, online learning and hashing trick. We'll try it out on the competition's data as well as with news, letters, movie reviews datasets and gigabytes of StackOverflow questions."
   ]
  },
  {
   "cell_type": "markdown",
   "metadata": {
    "_cell_guid": "a783ea16-a0be-4a81-9d91-72c9ada412d0",
    "_uuid": "aba8923437f1bb67ff9615f218dbe3cb19145f4e"
   },
   "source": [
    "# Outline\n",
    "1. Stochastic gradient descent and online learning\n",
    "    - 1.1. SGD\n",
    "    - 1.2. Online approach to learning\n",
    "2. Categorical data processing: Label Encoding, One-Hot Encoding, Hashing trick\n",
    "    - 2.1. Label Encoding\n",
    "    - 2.2. One-Hot Encoding\n",
    "    - 2.3. Hashing trick\n",
    "3. Vowpal Wabbit\n",
    "    - 3.1. News. Binary classification\n",
    "    - 3.2. News. Multiclass classification\n",
    "    - 3.3. IMDB reviews\n",
    "    - 3.4. Classifying gigabytes of StackOverflow questions\n",
    "4. VW and Spooky Author Identification "
   ]
  },
  {
   "cell_type": "code",
   "execution_count": 9,
   "metadata": {
    "_cell_guid": "64efb6ef-3591-4036-8461-b7b467f404b7",
    "_uuid": "bd1f11458028d021571d4a77e3de846bf0dee992"
   },
   "outputs": [],
   "source": [
    "import warnings\n",
    "warnings.filterwarnings('ignore')\n",
    "import os\n",
    "import re\n",
    "import numpy as np\n",
    "import pandas as pd\n",
    "from tqdm import tqdm_notebook\n",
    "from sklearn.datasets import fetch_20newsgroups, load_files\n",
    "from sklearn.preprocessing import LabelEncoder, OneHotEncoder\n",
    "from sklearn.model_selection import train_test_split\n",
    "from sklearn.linear_model import LogisticRegression\n",
    "from sklearn.metrics import classification_report, accuracy_score, log_loss\n",
    "from sklearn.metrics import roc_auc_score, roc_curve, confusion_matrix\n",
    "from scipy.sparse import csr_matrix\n",
    "import matplotlib.pyplot as plt\n",
    "%matplotlib inline\n",
    "import seaborn as sns"
   ]
  },
  {
   "cell_type": "markdown",
   "metadata": {
    "_cell_guid": "ddb2276a-dd17-4229-8a0b-1860056dc08a",
    "_uuid": "8c3581ddac23e8621f7688aec41bbce23e91bc6c"
   },
   "source": [
    "# 1. Stochastic gradient descent and online learning\n",
    "##  1.1. Stochastic gradient descent\n",
    "\n",
    "Despite the fact that gradient descent is one of the first things learned in machine learning and optimization courses, it is hard to overrate one of it's modifications, namely, Stochastic Gradient Descent (SGD).\n",
    "\n",
    "Lets recap that the very idea of gradient descent is to minimize some function by making small steps in the direction of fastest function decreasing. The method was named due to the following fact from calculus: vector $\\nabla f = (\\frac{\\partial f}{\\partial x_1}, \\ldots \\frac{\\partial f}{\\partial x_n})^T$ of partial derivatives of the function $f(x) = f(x_1, \\ldots x_n)$ points to the direction of the fastest function growth. It means that by moving in the opposite direction (antigradient) it is possible to decrease the function value with the fastest rate.\n",
    "\n",
    "<img src='https://habrastorage.org/files/4f2/75d/a46/4f275da467a44fc4a8d1a11007776ed2.jpg' width=70%>\n",
    "\n",
    "Here is a snowboarder (me) in Sheregesh, Russian most popular winter resort. I highly recommended it if you like skiing or snowboarding. We place this picture not only for a good view but also for picturing the idea of gradient descent. If you have an aim to ride as fast as possible, you need to choose the way with steepest descent (as long as you stay alive). Calculating antigradient can be seen as evaluating the slope in each particular point."
   ]
  },
  {
   "cell_type": "markdown",
   "metadata": {
    "_cell_guid": "eda14ceb-ab19-4c75-a1ad-bbbbf3acb83d",
    "_uuid": "7c41b31a7549e4dbcd0c31824d425d18ec6b9fbb"
   },
   "source": [
    "**Example**\n",
    "\n",
    "The paired regression problem can be solved with gradient descent. Let us predict one variable with another, say, height with weight and assume that these variables are lineary dependent. Here we are using the SOCR dataset. "
   ]
  },
  {
   "cell_type": "code",
   "execution_count": 10,
   "metadata": {
    "_cell_guid": "84022022-7ce2-4fac-90ae-3cefc5a12961",
    "_uuid": "0873cf8a28158f2ebdd5b3b42d3026efcd8e6b58"
   },
   "outputs": [],
   "source": [
    "PATH_TO_ALL_DATA = 'input/spooky-vw-tutorial/'\n",
    "data_demo = pd.read_csv(os.path.join(PATH_TO_ALL_DATA, 'weights_heights.csv'))"
   ]
  },
  {
   "cell_type": "code",
   "execution_count": 11,
   "metadata": {
    "_cell_guid": "094aa0fc-8af4-4a13-88a7-4eedf53fd712",
    "_uuid": "a60148fd610f423b517a38dad8768f0f6c76d192"
   },
   "outputs": [
    {
     "data": {
      "image/png": "[encoded data removed]",
      "text/plain": [
       "<matplotlib.figure.Figure at 0x4ea0470>"
      ]
     },
     "metadata": {},
     "output_type": "display_data"
    }
   ],
   "source": [
    "plt.scatter(data_demo['Weight'], data_demo['Height']);\n",
    "plt.xlabel('Weight in lb')\n",
    "plt.ylabel('Height in inches');"
   ]
  },
  {
   "cell_type": "markdown",
   "metadata": {
    "_cell_guid": "1140d0cf-9aef-4d4b-8d74-86795ef71737",
    "_uuid": "ad436575e565a80eecc4a9fde161065ff1f22f9f"
   },
   "source": [
    "Here we have a vector $x$ of dimension $\\ell$ (weight of every person, i.e. training sample) and $y$, a vector which stores heights of every person in the dataset. \n",
    "\n",
    "The task is the following: find weights $w_0$ and $w_1$ such that predicting height with weight as $y_i = w_0 + w_1 x_i$ (where $y_i$ is $i$-th height value, $x_i$ is $i$-th weight value) minimizes the squared error (as well as mean squared error as $\\frac{1}{\\ell}$ doesn't make any difference ):\n",
    "$$SE(w_0, w_1) = \\frac{1}{2}\\sum_{i=1}^\\ell(y_i - (w_0 + w_1x_{i}))^2 \\rightarrow min_{w_0,w_1}$$\n",
    "\n",
    "We will use gradient descent, utilizing partial derivatives of $SE(w_0, w_1)$ over weights $w_0$ and $w_1$.\n",
    "An iterative training procedure is then defined by simple weight update formulas (we change model weights in small steps, proportionally to a small constant $\\eta$, towards antigradient of the function $SE(w_0, w_1)$):\n",
    "\n",
    "$$\\begin{array}{rcl} w_0^{(t+1)} = w_0^{(t)} -\\eta \\frac{\\partial SE}{\\partial w_0} |_{t} \\\\  w_1^{(t+1)} = w_1^{(t)} -\\eta \\frac{\\partial SE}{\\partial w_1} |_{t} \\end{array}$$\n",
    "\n",
    "Diving in into analytical computing of partial derivatives, we get the following: \n",
    "\n",
    "$$\\begin{array}{rcl} w_0^{(t+1)} = w_0^{(t)} + \\eta \\sum_{i=1}^{\\ell}(y_i - w_0^{(t)} - w_1^{(t)}x_i) \\\\  w_1^{(t+1)} = w_1^{(t)} + \\eta \\sum_{i=1}^{\\ell}(y_i - w_0^{(t)} - w_1^{(t)}x_i)x_i \\end{array}$$\n",
    "\n",
    "This math works quite well until the amount of data isn't very huge (we will not discuss issues with local minima, saddle points, choosing the value of learning rate (gradient descent step), moments and other stuff – lots these topics are well presented in [chapter](http://www.deeplearningbook.org/contents/numerical.html) \"Numeric Computation\" in \"Deep Learning\" book). \n",
    "There is an issue with this approach (batch gradient descent) - gradient evaluation requires the summation of some values for every object from training set. In other words, the algorithm requires a lot of iterations, at every iteration we have to recompute weights with formula which have a sum $\\sum_{i=1}^\\ell$ over the whole training set. What if we have billions of training samples?\n",
    "\n",
    "<img src=\"https://habrastorage.org/webt/ow/ng/cs/owngcs-lzoguklv1pn9vz_r4ssm.jpeg\" />\n",
    "\n",
    "Here goes stochastic gradient descent! Simply, we throw away the summation sign and update the weights only over single training samples (or some dozen of them). Considering our case:\n",
    "\n",
    "$$\\begin{array}{rcl} w_0^{(t+1)} = w_0^{(t)} + \\eta (y_i - w_0^{(t)} - w_1^{(t)}x_i) \\\\  w_1^{(t+1)} = w_1^{(t)} + \\eta (y_i - w_0^{(t)} - w_1^{(t)}x_i)x_i \\end{array}$$\n",
    "\n",
    "With this approach there is no guarantee that we will move in best possible direction at every iteration and we might need many more iterations, but we get virtually instant weight updates."
   ]
  },
  {
   "cell_type": "markdown",
   "metadata": {
    "_cell_guid": "dc9f67f3-4110-40b6-b7bd-a2736233d10f",
    "_uuid": "7d61f90cd77f5fc64646a22cdcaaa3e9ee012ebc"
   },
   "source": [
    "Andrew Ng has a good illustration in his machine learning [course](https://www.coursera.org/learn/machine-learning), lets take a look at it.\n",
    "\n",
    "<img src='https://habrastorage.org/files/f8d/90c/f83/f8d90cf83b044255bb07df3373f25fc7.png'>\n",
    "\n",
    "Here are contour plots of some function and we are looking for the global minimum of this function. The red curve shows weight changes (in this picture $\\theta_0$ and $\\theta_1$ correspond  to $w_0$ and $w_1$ in our example). According to the properties of a gradient, the direction of change in every point is orthogonal to contour plots. With stochastic gradient descent weights are changing in a less predictible manner and it even may seem that some steps are wrong – leading away from minima, but both procedures converge to the same solution."
   ]
  },
  {
   "cell_type": "markdown",
   "metadata": {
    "_cell_guid": "3583f288-f80e-4853-82d6-d3bdc5da50f5",
    "_uuid": "fbf630784df546a50ad03c698537e2b0980057a0"
   },
   "source": [
    "## 1.2. Online approach to learning\n",
    "Stochastic gradient descent, being one of optimization methods, gives us practical guidance for training both classifiers and regressors with huge amounts of data, up to hundreds of GiBs (depending on the computational resources on one's disposal).\n",
    "\n",
    "Considering the case of paired regression, we can store the training data set $(X,y)$ in HDD without loading it into RAM (it simply won't fit), read objects one by one and update the weights of our model:\n",
    "\n",
    "$$\\begin{array}{rcl} w_0^{(t+1)} = w_0^{(t)} + \\eta (y_i - w_0^{(t)} - w_1^{(t)}x_i) \\\\  w_1^{(t+1)} = w_1^{(t)} + \\eta (y_i - w_0^{(t)} - w_1^{(t)}x_i)x_i \\end{array}$$\n",
    "\n",
    "After working out the whole training dataset, the loss function we are trying to minimize (quadratic squared root error in case of regression or, for example, logistic loss for classification task), will decrease, but usually it takes dozens of passes over the training set to make the loss small enough. \n",
    "\n",
    "This approach to learning is usually called **online learning**, and this name emerged even before machine learning MOOC-s turned mainstream.\n",
    "\n",
    "We do not discuss many  specific things about SGD and if you want do dive into theory, a good choice is [\"Convex Optimization\" book by  Boyd](https://www.amazon.com/Convex-Optimization-Stephen-Boyd/dp/0521833787)). Instead, we will introduce the Vowpal Wabbit library, which is good for training simple models with huge data sets thanks to stochastic optimization and another trick – feature hashing, which we are introducing in the next part of the tutorial."
   ]
  },
  {
   "cell_type": "markdown",
   "metadata": {
    "_cell_guid": "abaadfeb-a49c-4fc9-8cc4-c7739e4f9edc",
    "_uuid": "23782a78c5bac799ed50cc994f3768163fc70a7c"
   },
   "source": [
    "In Scikit-learn classifiers and regressors, trained with SGD, are named  `SGDClassifier` and `SGDRegressor` from `sklearn.linear_model`. These are nice implementations of SGD but we'll focus on VW as being superior to sklearn's SGD models in many aspects including computational performance."
   ]
  },
  {
   "cell_type": "markdown",
   "metadata": {
    "_cell_guid": "9bb0708a-2e81-4040-816b-9dee68595d3f",
    "_uuid": "56b085b90c338a0e436544c2c5345d7a2716f612"
   },
   "source": [
    "# 2. Categorial features processing: Label Encoding, One-Hot Encoding and Hashing trick\n",
    "\n",
    "## 2.1. Label Encoding\n",
    "Many classification and regression algorithms operate in euclidean or metric spaces, implying that data is represented with vectors of real numbers. However, in real data we often meet categorial features with discrete values range, like yes/no or  January/February/.../December. We will see how to process this kind of data, particularly with linear models and how to deal with lots of categorial features even when these features have lots of unique values."
   ]
  },
  {
   "cell_type": "markdown",
   "metadata": {
    "_cell_guid": "44ebb1ca-8d55-47a1-bfa1-0c1bee8ce99f",
    "_uuid": "29058442a542088bb018bcf8158fcbbf4e79cef8"
   },
   "source": [
    "Here we explore the UCI bank marketing [dataset](https://archive.ics.uci.edu/ml/datasets/bank+marketing), where most of  features are categorial."
   ]
  },
  {
   "cell_type": "code",
   "execution_count": 12,
   "metadata": {
    "_cell_guid": "be6b51fd-ad36-4265-9086-fde116c6d5e4",
    "_uuid": "c8f015ed0ce62cdfc232529b9db5e17f1ebf55f5"
   },
   "outputs": [
    {
     "data": {
      "text/html": [
       "<div>\n",
       "<style>\n",
       "    .dataframe thead tr:only-child th {\n",
       "        text-align: right;\n",
       "    }\n",
       "\n",
       "    .dataframe thead th {\n",
       "        text-align: left;\n",
       "    }\n",
       "\n",
       "    .dataframe tbody tr th {\n",
       "        vertical-align: top;\n",
       "    }\n",
       "</style>\n",
       "<table border=\"1\" class=\"dataframe\">\n",
       "  <thead>\n",
       "    <tr style=\"text-align: right;\">\n",
       "      <th></th>\n",
       "      <th>age</th>\n",
       "      <th>job</th>\n",
       "      <th>marital</th>\n",
       "      <th>education</th>\n",
       "      <th>default</th>\n",
       "      <th>housing</th>\n",
       "      <th>loan</th>\n",
       "      <th>contact</th>\n",
       "      <th>month</th>\n",
       "      <th>day_of_week</th>\n",
       "      <th>duration</th>\n",
       "      <th>campaign</th>\n",
       "      <th>pdays</th>\n",
       "      <th>previous</th>\n",
       "      <th>poutcome</th>\n",
       "      <th>emp.var.rate</th>\n",
       "      <th>cons.price.idx</th>\n",
       "      <th>cons.conf.idx</th>\n",
       "      <th>euribor3m</th>\n",
       "      <th>nr.employed</th>\n",
       "    </tr>\n",
       "  </thead>\n",
       "  <tbody>\n",
       "    <tr>\n",
       "      <th>0</th>\n",
       "      <td>26</td>\n",
       "      <td>student</td>\n",
       "      <td>single</td>\n",
       "      <td>high.school</td>\n",
       "      <td>no</td>\n",
       "      <td>no</td>\n",
       "      <td>no</td>\n",
       "      <td>telephone</td>\n",
       "      <td>jun</td>\n",
       "      <td>mon</td>\n",
       "      <td>901</td>\n",
       "      <td>1</td>\n",
       "      <td>999</td>\n",
       "      <td>0</td>\n",
       "      <td>nonexistent</td>\n",
       "      <td>1.4</td>\n",
       "      <td>94.465</td>\n",
       "      <td>-41.8</td>\n",
       "      <td>4.961</td>\n",
       "      <td>5228.1</td>\n",
       "    </tr>\n",
       "    <tr>\n",
       "      <th>1</th>\n",
       "      <td>46</td>\n",
       "      <td>admin.</td>\n",
       "      <td>married</td>\n",
       "      <td>university.degree</td>\n",
       "      <td>no</td>\n",
       "      <td>yes</td>\n",
       "      <td>no</td>\n",
       "      <td>cellular</td>\n",
       "      <td>aug</td>\n",
       "      <td>tue</td>\n",
       "      <td>208</td>\n",
       "      <td>2</td>\n",
       "      <td>999</td>\n",
       "      <td>0</td>\n",
       "      <td>nonexistent</td>\n",
       "      <td>1.4</td>\n",
       "      <td>93.444</td>\n",
       "      <td>-36.1</td>\n",
       "      <td>4.963</td>\n",
       "      <td>5228.1</td>\n",
       "    </tr>\n",
       "    <tr>\n",
       "      <th>2</th>\n",
       "      <td>49</td>\n",
       "      <td>blue-collar</td>\n",
       "      <td>married</td>\n",
       "      <td>basic.4y</td>\n",
       "      <td>unknown</td>\n",
       "      <td>yes</td>\n",
       "      <td>yes</td>\n",
       "      <td>telephone</td>\n",
       "      <td>jun</td>\n",
       "      <td>tue</td>\n",
       "      <td>131</td>\n",
       "      <td>5</td>\n",
       "      <td>999</td>\n",
       "      <td>0</td>\n",
       "      <td>nonexistent</td>\n",
       "      <td>1.4</td>\n",
       "      <td>94.465</td>\n",
       "      <td>-41.8</td>\n",
       "      <td>4.864</td>\n",
       "      <td>5228.1</td>\n",
       "    </tr>\n",
       "    <tr>\n",
       "      <th>3</th>\n",
       "      <td>31</td>\n",
       "      <td>technician</td>\n",
       "      <td>married</td>\n",
       "      <td>university.degree</td>\n",
       "      <td>no</td>\n",
       "      <td>no</td>\n",
       "      <td>no</td>\n",
       "      <td>cellular</td>\n",
       "      <td>jul</td>\n",
       "      <td>tue</td>\n",
       "      <td>404</td>\n",
       "      <td>1</td>\n",
       "      <td>999</td>\n",
       "      <td>0</td>\n",
       "      <td>nonexistent</td>\n",
       "      <td>-2.9</td>\n",
       "      <td>92.469</td>\n",
       "      <td>-33.6</td>\n",
       "      <td>1.044</td>\n",
       "      <td>5076.2</td>\n",
       "    </tr>\n",
       "    <tr>\n",
       "      <th>4</th>\n",
       "      <td>42</td>\n",
       "      <td>housemaid</td>\n",
       "      <td>married</td>\n",
       "      <td>university.degree</td>\n",
       "      <td>no</td>\n",
       "      <td>yes</td>\n",
       "      <td>no</td>\n",
       "      <td>telephone</td>\n",
       "      <td>nov</td>\n",
       "      <td>mon</td>\n",
       "      <td>85</td>\n",
       "      <td>1</td>\n",
       "      <td>999</td>\n",
       "      <td>0</td>\n",
       "      <td>nonexistent</td>\n",
       "      <td>-0.1</td>\n",
       "      <td>93.200</td>\n",
       "      <td>-42.0</td>\n",
       "      <td>4.191</td>\n",
       "      <td>5195.8</td>\n",
       "    </tr>\n",
       "  </tbody>\n",
       "</table>\n",
       "</div>"
      ],
      "text/plain": [
       "   age          job  marital          education  default housing loan  \\\n",
       "0   26      student   single        high.school       no      no   no   \n",
       "1   46       admin.  married  university.degree       no     yes   no   \n",
       "2   49  blue-collar  married           basic.4y  unknown     yes  yes   \n",
       "3   31   technician  married  university.degree       no      no   no   \n",
       "4   42    housemaid  married  university.degree       no     yes   no   \n",
       "\n",
       "     contact month day_of_week  duration  campaign  pdays  previous  \\\n",
       "0  telephone   jun         mon       901         1    999         0   \n",
       "1   cellular   aug         tue       208         2    999         0   \n",
       "2  telephone   jun         tue       131         5    999         0   \n",
       "3   cellular   jul         tue       404         1    999         0   \n",
       "4  telephone   nov         mon        85         1    999         0   \n",
       "\n",
       "      poutcome  emp.var.rate  cons.price.idx  cons.conf.idx  euribor3m  \\\n",
       "0  nonexistent           1.4          94.465          -41.8      4.961   \n",
       "1  nonexistent           1.4          93.444          -36.1      4.963   \n",
       "2  nonexistent           1.4          94.465          -41.8      4.864   \n",
       "3  nonexistent          -2.9          92.469          -33.6      1.044   \n",
       "4  nonexistent          -0.1          93.200          -42.0      4.191   \n",
       "\n",
       "   nr.employed  \n",
       "0       5228.1  \n",
       "1       5228.1  \n",
       "2       5228.1  \n",
       "3       5076.2  \n",
       "4       5195.8  "
      ]
     },
     "execution_count": 12,
     "metadata": {},
     "output_type": "execute_result"
    }
   ],
   "source": [
    "df = pd.read_csv(os.path.join(PATH_TO_ALL_DATA, 'bank_train.csv'))\n",
    "labels = pd.read_csv(os.path.join(PATH_TO_ALL_DATA,\n",
    "                                  'bank_train_target.csv'), header=None)\n",
    "\n",
    "df.head()"
   ]
  },
  {
   "cell_type": "markdown",
   "metadata": {
    "_cell_guid": "d81909b1-6b0f-47f5-9d10-f983fe1edcc7",
    "_uuid": "d900d6aa25e49a150388a9618b8f36bb76ac8667"
   },
   "source": [
    "We see, most of features are not represented by numbers. It poses a problem: we cannot use most of machine learning methods (at least those imlemented in Scikit-learn) out-of-the-box.\n",
    "\n",
    "Let's explore the feature \"education\"."
   ]
  },
  {
   "cell_type": "code",
   "execution_count": 13,
   "metadata": {
    "_cell_guid": "d5cb0f31-1e52-49a0-9bdb-ae3207541710",
    "_uuid": "136b05d444ff42d4e8521e51066bf9cd22c023fa"
   },
   "outputs": [
    {
     "data": {
      "image/png": "[encoded data removed]",
      "text/plain": [
       "<matplotlib.figure.Figure at 0x767f198>"
      ]
     },
     "metadata": {},
     "output_type": "display_data"
    }
   ],
   "source": [
    "df['education'].value_counts().plot.barh();"
   ]
  },
  {
   "cell_type": "markdown",
   "metadata": {
    "_cell_guid": "ca94e540-92a0-41bb-a67b-906275c778e9",
    "_uuid": "284a387b80dba61981db40dabd3fc2f895616011"
   },
   "source": [
    "The most straightforward solution would be to map each value of this feature into a unique number. For example we can map  `university.degree` to 0, `basic.9y` to 1 and so on. One can use `sklearn.preprocessing.LabelEncoder` to perform this mapping."
   ]
  },
  {
   "cell_type": "code",
   "execution_count": 15,
   "metadata": {
    "_cell_guid": "fb569cfb-711b-428d-9a29-5393dff4b348",
    "_uuid": "05c9087139ca3fcdf3b715b9b30f566bdaf0ad1c",
    "collapsed": true
   },
   "outputs": [],
   "source": [
    "label_encoder = LabelEncoder()"
   ]
  },
  {
   "cell_type": "markdown",
   "metadata": {
    "_cell_guid": "e75f24ed-b8ed-41dd-96c2-dcd1f42d7014",
    "_uuid": "276ccbe10a9744f1cca107fb5b7542a314b961fa"
   },
   "source": [
    "The `fit` method of this class finds all unique values and builds the actual mapping between categories and numbers, and the `transform` method  converts categories into numbers. After `fit` is executed, `label_encoder` will have the `classes_` attribute, with all unique values of the feature. Let us count them to make sure the transformation was correct."
   ]
  },
  {
   "cell_type": "code",
   "execution_count": 16,
   "metadata": {
    "_cell_guid": "c692cf31-3233-4b92-8bb9-de7d7be15315",
    "_uuid": "efe26525483e1c3ba137e8f1c55f92c76ab4c799"
   },
   "outputs": [
    {
     "name": "stdout",
     "output_type": "stream",
     "text": [
      "{0: 'basic.4y', 1: 'basic.6y', 2: 'basic.9y', 3: 'high.school', 4: 'illiterate', 5: 'professional.course', 6: 'university.degree', 7: 'unknown'}\n"
     ]
    },
    {
     "data": {
      "image/png": "[encoded data removed]",
      "text/plain": [
       "<matplotlib.figure.Figure at 0x767f6d8>"
      ]
     },
     "metadata": {},
     "output_type": "display_data"
    }
   ],
   "source": [
    "mapped_education = pd.Series(label_encoder.fit_transform(df['education']))\n",
    "mapped_education.value_counts().plot.barh()\n",
    "print(dict(enumerate(label_encoder.classes_)))"
   ]
  },
  {
   "cell_type": "code",
   "execution_count": 18,
   "metadata": {
    "_cell_guid": "4658ebf0-6610-4c6f-88d0-3b1027a5c212",
    "_uuid": "68fba174918a7c498100b8bb2c4f9822a4c9a659"
   },
   "outputs": [
    {
     "data": {
      "text/html": [
       "<div>\n",
       "<style>\n",
       "    .dataframe thead tr:only-child th {\n",
       "        text-align: right;\n",
       "    }\n",
       "\n",
       "    .dataframe thead th {\n",
       "        text-align: left;\n",
       "    }\n",
       "\n",
       "    .dataframe tbody tr th {\n",
       "        vertical-align: top;\n",
       "    }\n",
       "</style>\n",
       "<table border=\"1\" class=\"dataframe\">\n",
       "  <thead>\n",
       "    <tr style=\"text-align: right;\">\n",
       "      <th></th>\n",
       "      <th>age</th>\n",
       "      <th>job</th>\n",
       "      <th>marital</th>\n",
       "      <th>education</th>\n",
       "      <th>default</th>\n",
       "      <th>housing</th>\n",
       "      <th>loan</th>\n",
       "      <th>contact</th>\n",
       "      <th>month</th>\n",
       "      <th>day_of_week</th>\n",
       "      <th>duration</th>\n",
       "      <th>campaign</th>\n",
       "      <th>pdays</th>\n",
       "      <th>previous</th>\n",
       "      <th>poutcome</th>\n",
       "      <th>emp.var.rate</th>\n",
       "      <th>cons.price.idx</th>\n",
       "      <th>cons.conf.idx</th>\n",
       "      <th>euribor3m</th>\n",
       "      <th>nr.employed</th>\n",
       "    </tr>\n",
       "  </thead>\n",
       "  <tbody>\n",
       "    <tr>\n",
       "      <th>0</th>\n",
       "      <td>26</td>\n",
       "      <td>student</td>\n",
       "      <td>single</td>\n",
       "      <td>3</td>\n",
       "      <td>no</td>\n",
       "      <td>no</td>\n",
       "      <td>no</td>\n",
       "      <td>telephone</td>\n",
       "      <td>jun</td>\n",
       "      <td>mon</td>\n",
       "      <td>901</td>\n",
       "      <td>1</td>\n",
       "      <td>999</td>\n",
       "      <td>0</td>\n",
       "      <td>nonexistent</td>\n",
       "      <td>1.4</td>\n",
       "      <td>94.465</td>\n",
       "      <td>-41.8</td>\n",
       "      <td>4.961</td>\n",
       "      <td>5228.1</td>\n",
       "    </tr>\n",
       "    <tr>\n",
       "      <th>1</th>\n",
       "      <td>46</td>\n",
       "      <td>admin.</td>\n",
       "      <td>married</td>\n",
       "      <td>6</td>\n",
       "      <td>no</td>\n",
       "      <td>yes</td>\n",
       "      <td>no</td>\n",
       "      <td>cellular</td>\n",
       "      <td>aug</td>\n",
       "      <td>tue</td>\n",
       "      <td>208</td>\n",
       "      <td>2</td>\n",
       "      <td>999</td>\n",
       "      <td>0</td>\n",
       "      <td>nonexistent</td>\n",
       "      <td>1.4</td>\n",
       "      <td>93.444</td>\n",
       "      <td>-36.1</td>\n",
       "      <td>4.963</td>\n",
       "      <td>5228.1</td>\n",
       "    </tr>\n",
       "    <tr>\n",
       "      <th>2</th>\n",
       "      <td>49</td>\n",
       "      <td>blue-collar</td>\n",
       "      <td>married</td>\n",
       "      <td>0</td>\n",
       "      <td>unknown</td>\n",
       "      <td>yes</td>\n",
       "      <td>yes</td>\n",
       "      <td>telephone</td>\n",
       "      <td>jun</td>\n",
       "      <td>tue</td>\n",
       "      <td>131</td>\n",
       "      <td>5</td>\n",
       "      <td>999</td>\n",
       "      <td>0</td>\n",
       "      <td>nonexistent</td>\n",
       "      <td>1.4</td>\n",
       "      <td>94.465</td>\n",
       "      <td>-41.8</td>\n",
       "      <td>4.864</td>\n",
       "      <td>5228.1</td>\n",
       "    </tr>\n",
       "    <tr>\n",
       "      <th>3</th>\n",
       "      <td>31</td>\n",
       "      <td>technician</td>\n",
       "      <td>married</td>\n",
       "      <td>6</td>\n",
       "      <td>no</td>\n",
       "      <td>no</td>\n",
       "      <td>no</td>\n",
       "      <td>cellular</td>\n",
       "      <td>jul</td>\n",
       "      <td>tue</td>\n",
       "      <td>404</td>\n",
       "      <td>1</td>\n",
       "      <td>999</td>\n",
       "      <td>0</td>\n",
       "      <td>nonexistent</td>\n",
       "      <td>-2.9</td>\n",
       "      <td>92.469</td>\n",
       "      <td>-33.6</td>\n",
       "      <td>1.044</td>\n",
       "      <td>5076.2</td>\n",
       "    </tr>\n",
       "    <tr>\n",
       "      <th>4</th>\n",
       "      <td>42</td>\n",
       "      <td>housemaid</td>\n",
       "      <td>married</td>\n",
       "      <td>6</td>\n",
       "      <td>no</td>\n",
       "      <td>yes</td>\n",
       "      <td>no</td>\n",
       "      <td>telephone</td>\n",
       "      <td>nov</td>\n",
       "      <td>mon</td>\n",
       "      <td>85</td>\n",
       "      <td>1</td>\n",
       "      <td>999</td>\n",
       "      <td>0</td>\n",
       "      <td>nonexistent</td>\n",
       "      <td>-0.1</td>\n",
       "      <td>93.200</td>\n",
       "      <td>-42.0</td>\n",
       "      <td>4.191</td>\n",
       "      <td>5195.8</td>\n",
       "    </tr>\n",
       "  </tbody>\n",
       "</table>\n",
       "</div>"
      ],
      "text/plain": [
       "   age          job  marital  education  default housing loan    contact  \\\n",
       "0   26      student   single          3       no      no   no  telephone   \n",
       "1   46       admin.  married          6       no     yes   no   cellular   \n",
       "2   49  blue-collar  married          0  unknown     yes  yes  telephone   \n",
       "3   31   technician  married          6       no      no   no   cellular   \n",
       "4   42    housemaid  married          6       no     yes   no  telephone   \n",
       "\n",
       "  month day_of_week  duration  campaign  pdays  previous     poutcome  \\\n",
       "0   jun         mon       901         1    999         0  nonexistent   \n",
       "1   aug         tue       208         2    999         0  nonexistent   \n",
       "2   jun         tue       131         5    999         0  nonexistent   \n",
       "3   jul         tue       404         1    999         0  nonexistent   \n",
       "4   nov         mon        85         1    999         0  nonexistent   \n",
       "\n",
       "   emp.var.rate  cons.price.idx  cons.conf.idx  euribor3m  nr.employed  \n",
       "0           1.4          94.465          -41.8      4.961       5228.1  \n",
       "1           1.4          93.444          -36.1      4.963       5228.1  \n",
       "2           1.4          94.465          -41.8      4.864       5228.1  \n",
       "3          -2.9          92.469          -33.6      1.044       5076.2  \n",
       "4          -0.1          93.200          -42.0      4.191       5195.8  "
      ]
     },
     "execution_count": 18,
     "metadata": {},
     "output_type": "execute_result"
    }
   ],
   "source": [
    "df['education'] = mapped_education\n",
    "df.head()"
   ]
  },
  {
   "cell_type": "markdown",
   "metadata": {
    "_cell_guid": "ead4109a-0bc3-476c-be13-59c152e0cb1c",
    "_uuid": "4c02df6d2afbcd5a47d591004fe9a068e95ecb65"
   },
   "source": [
    "Let's apply such transformation to all columns with type `object`."
   ]
  },
  {
   "cell_type": "code",
   "execution_count": 19,
   "metadata": {
    "_cell_guid": "f6b6056e-3823-4caf-a617-d99ab490512d",
    "_uuid": "8079ecf58d4fa138d92c21f46b001cb3ed050a0a"
   },
   "outputs": [
    {
     "data": {
      "text/html": [
       "<div>\n",
       "<style>\n",
       "    .dataframe thead tr:only-child th {\n",
       "        text-align: right;\n",
       "    }\n",
       "\n",
       "    .dataframe thead th {\n",
       "        text-align: left;\n",
       "    }\n",
       "\n",
       "    .dataframe tbody tr th {\n",
       "        vertical-align: top;\n",
       "    }\n",
       "</style>\n",
       "<table border=\"1\" class=\"dataframe\">\n",
       "  <thead>\n",
       "    <tr style=\"text-align: right;\">\n",
       "      <th></th>\n",
       "      <th>age</th>\n",
       "      <th>job</th>\n",
       "      <th>marital</th>\n",
       "      <th>education</th>\n",
       "      <th>default</th>\n",
       "      <th>housing</th>\n",
       "      <th>loan</th>\n",
       "      <th>contact</th>\n",
       "      <th>month</th>\n",
       "      <th>day_of_week</th>\n",
       "      <th>duration</th>\n",
       "      <th>campaign</th>\n",
       "      <th>pdays</th>\n",
       "      <th>previous</th>\n",
       "      <th>poutcome</th>\n",
       "      <th>emp.var.rate</th>\n",
       "      <th>cons.price.idx</th>\n",
       "      <th>cons.conf.idx</th>\n",
       "      <th>euribor3m</th>\n",
       "      <th>nr.employed</th>\n",
       "    </tr>\n",
       "  </thead>\n",
       "  <tbody>\n",
       "    <tr>\n",
       "      <th>0</th>\n",
       "      <td>26</td>\n",
       "      <td>8</td>\n",
       "      <td>2</td>\n",
       "      <td>3</td>\n",
       "      <td>0</td>\n",
       "      <td>0</td>\n",
       "      <td>0</td>\n",
       "      <td>1</td>\n",
       "      <td>4</td>\n",
       "      <td>1</td>\n",
       "      <td>901</td>\n",
       "      <td>1</td>\n",
       "      <td>999</td>\n",
       "      <td>0</td>\n",
       "      <td>1</td>\n",
       "      <td>1.4</td>\n",
       "      <td>94.465</td>\n",
       "      <td>-41.8</td>\n",
       "      <td>4.961</td>\n",
       "      <td>5228.1</td>\n",
       "    </tr>\n",
       "    <tr>\n",
       "      <th>1</th>\n",
       "      <td>46</td>\n",
       "      <td>0</td>\n",
       "      <td>1</td>\n",
       "      <td>6</td>\n",
       "      <td>0</td>\n",
       "      <td>2</td>\n",
       "      <td>0</td>\n",
       "      <td>0</td>\n",
       "      <td>1</td>\n",
       "      <td>3</td>\n",
       "      <td>208</td>\n",
       "      <td>2</td>\n",
       "      <td>999</td>\n",
       "      <td>0</td>\n",
       "      <td>1</td>\n",
       "      <td>1.4</td>\n",
       "      <td>93.444</td>\n",
       "      <td>-36.1</td>\n",
       "      <td>4.963</td>\n",
       "      <td>5228.1</td>\n",
       "    </tr>\n",
       "    <tr>\n",
       "      <th>2</th>\n",
       "      <td>49</td>\n",
       "      <td>1</td>\n",
       "      <td>1</td>\n",
       "      <td>0</td>\n",
       "      <td>1</td>\n",
       "      <td>2</td>\n",
       "      <td>2</td>\n",
       "      <td>1</td>\n",
       "      <td>4</td>\n",
       "      <td>3</td>\n",
       "      <td>131</td>\n",
       "      <td>5</td>\n",
       "      <td>999</td>\n",
       "      <td>0</td>\n",
       "      <td>1</td>\n",
       "      <td>1.4</td>\n",
       "      <td>94.465</td>\n",
       "      <td>-41.8</td>\n",
       "      <td>4.864</td>\n",
       "      <td>5228.1</td>\n",
       "    </tr>\n",
       "    <tr>\n",
       "      <th>3</th>\n",
       "      <td>31</td>\n",
       "      <td>9</td>\n",
       "      <td>1</td>\n",
       "      <td>6</td>\n",
       "      <td>0</td>\n",
       "      <td>0</td>\n",
       "      <td>0</td>\n",
       "      <td>0</td>\n",
       "      <td>3</td>\n",
       "      <td>3</td>\n",
       "      <td>404</td>\n",
       "      <td>1</td>\n",
       "      <td>999</td>\n",
       "      <td>0</td>\n",
       "      <td>1</td>\n",
       "      <td>-2.9</td>\n",
       "      <td>92.469</td>\n",
       "      <td>-33.6</td>\n",
       "      <td>1.044</td>\n",
       "      <td>5076.2</td>\n",
       "    </tr>\n",
       "    <tr>\n",
       "      <th>4</th>\n",
       "      <td>42</td>\n",
       "      <td>3</td>\n",
       "      <td>1</td>\n",
       "      <td>6</td>\n",
       "      <td>0</td>\n",
       "      <td>2</td>\n",
       "      <td>0</td>\n",
       "      <td>1</td>\n",
       "      <td>7</td>\n",
       "      <td>1</td>\n",
       "      <td>85</td>\n",
       "      <td>1</td>\n",
       "      <td>999</td>\n",
       "      <td>0</td>\n",
       "      <td>1</td>\n",
       "      <td>-0.1</td>\n",
       "      <td>93.200</td>\n",
       "      <td>-42.0</td>\n",
       "      <td>4.191</td>\n",
       "      <td>5195.8</td>\n",
       "    </tr>\n",
       "  </tbody>\n",
       "</table>\n",
       "</div>"
      ],
      "text/plain": [
       "   age  job  marital  education  default  housing  loan  contact  month  \\\n",
       "0   26    8        2          3        0        0     0        1      4   \n",
       "1   46    0        1          6        0        2     0        0      1   \n",
       "2   49    1        1          0        1        2     2        1      4   \n",
       "3   31    9        1          6        0        0     0        0      3   \n",
       "4   42    3        1          6        0        2     0        1      7   \n",
       "\n",
       "   day_of_week  duration  campaign  pdays  previous  poutcome  emp.var.rate  \\\n",
       "0            1       901         1    999         0         1           1.4   \n",
       "1            3       208         2    999         0         1           1.4   \n",
       "2            3       131         5    999         0         1           1.4   \n",
       "3            3       404         1    999         0         1          -2.9   \n",
       "4            1        85         1    999         0         1          -0.1   \n",
       "\n",
       "   cons.price.idx  cons.conf.idx  euribor3m  nr.employed  \n",
       "0          94.465          -41.8      4.961       5228.1  \n",
       "1          93.444          -36.1      4.963       5228.1  \n",
       "2          94.465          -41.8      4.864       5228.1  \n",
       "3          92.469          -33.6      1.044       5076.2  \n",
       "4          93.200          -42.0      4.191       5195.8  "
      ]
     },
     "execution_count": 19,
     "metadata": {},
     "output_type": "execute_result"
    }
   ],
   "source": [
    "categorical_columns = df.columns[df.dtypes == 'object'].union(['education'])\n",
    "for column in categorical_columns:\n",
    "    df[column] = label_encoder.fit_transform(df[column])\n",
    "df.head()"
   ]
  },
  {
   "cell_type": "markdown",
   "metadata": {
    "_cell_guid": "a79eddaa-26d4-4316-a4d9-ce1a8f024e65",
    "_uuid": "89931fdf8b27f8e8ba8be53dc33368dc1dc3ad46"
   },
   "source": [
    "The main issue with this approach is that we've introduced some order while there might haven't been such.  \n",
    "\n",
    "For example, we implicitly introduced algebra over the values of the job feature, now we can substract the job of client #2 from the job of client #1 :"
   ]
  },
  {
   "cell_type": "code",
   "execution_count": 20,
   "metadata": {
    "_cell_guid": "9e85d727-a23c-4fda-859e-9cfa2491b044",
    "_uuid": "10efbea02831df6e1e8476a8813aedd227f9d4ae"
   },
   "outputs": [
    {
     "data": {
      "text/plain": [
       "-1.0"
      ]
     },
     "execution_count": 20,
     "metadata": {},
     "output_type": "execute_result"
    }
   ],
   "source": [
    "df.loc[1].job - df.loc[2].job"
   ]
  },
  {
   "cell_type": "markdown",
   "metadata": {
    "_cell_guid": "16ea6d8f-8d03-427b-a9f8-f8827cb9b629",
    "_uuid": "f91a2a86a06fb9b36dd932d4afb08dc7c178983f"
   },
   "source": [
    "Does this operation make sense? Maybe not. Let's try to train logisitic regression with this feature transformation."
   ]
  },
  {
   "cell_type": "code",
   "execution_count": 21,
   "metadata": {
    "_cell_guid": "7dede4d6-e787-4232-a1ac-01191a88ec88",
    "_uuid": "15c8fdb284d4e5166f3f56c4e9d8f1810186ff7c"
   },
   "outputs": [
    {
     "name": "stdout",
     "output_type": "stream",
     "text": [
      "             precision    recall  f1-score   support\n",
      "\n",
      "          0       0.89      1.00      0.94      6153\n",
      "          1       0.00      0.00      0.00       746\n",
      "\n",
      "avg / total       0.80      0.89      0.84      6899\n",
      "\n"
     ]
    }
   ],
   "source": [
    "def logistic_regression_accuracy_on(dataframe, labels):\n",
    "    features = dataframe.as_matrix()\n",
    "    train_features, test_features, train_labels, test_labels = \\\n",
    "        train_test_split(features, labels)\n",
    "\n",
    "    logit = LogisticRegression()\n",
    "    logit.fit(train_features, train_labels)\n",
    "    return classification_report(test_labels, logit.predict(test_features))\n",
    "\n",
    "print(logistic_regression_accuracy_on(df[categorical_columns], labels))"
   ]
  },
  {
   "cell_type": "markdown",
   "metadata": {
    "_cell_guid": "7ac2b754-b7e9-4bed-b90e-d27db1b72b01",
    "_uuid": "b2982316ff21f4585188cbb6987df0114cbe4b3f"
   },
   "source": [
    "We can see that logistic regression hasn't ever predicted class 1. In order to use linear models with categorial features we will take a different approach - One-Hot Encoding.\n",
    "\n",
    "## 2.2. One-Hot Encoding\n",
    "\n",
    "Suppose that some feature can have one of 10 unique values. In this case one-hot encoding creates 10 new features corresponding to these unique values, all of them *except one* are zeros."
   ]
  },
  {
   "cell_type": "code",
   "execution_count": 12,
   "metadata": {
    "_cell_guid": "df17447f-6ff8-4342-b755-c856fb1c7bd6",
    "_uuid": "6ca824f36f66c8e6889688e8f64c2ca6ec7605df",
    "scrolled": true
   },
   "outputs": [
    {
     "data": {
      "text/html": [
       "<div>\n",
       "<style>\n",
       "    .dataframe thead tr:only-child th {\n",
       "        text-align: right;\n",
       "    }\n",
       "\n",
       "    .dataframe thead th {\n",
       "        text-align: left;\n",
       "    }\n",
       "\n",
       "    .dataframe tbody tr th {\n",
       "        vertical-align: top;\n",
       "    }\n",
       "</style>\n",
       "<table border=\"1\" class=\"dataframe\">\n",
       "  <thead>\n",
       "    <tr style=\"text-align: right;\">\n",
       "      <th></th>\n",
       "      <th>0</th>\n",
       "      <th>1</th>\n",
       "      <th>2</th>\n",
       "      <th>3</th>\n",
       "      <th>4</th>\n",
       "      <th>5</th>\n",
       "      <th>6</th>\n",
       "      <th>7</th>\n",
       "      <th>8</th>\n",
       "      <th>9</th>\n",
       "    </tr>\n",
       "  </thead>\n",
       "  <tbody>\n",
       "    <tr>\n",
       "      <th>0</th>\n",
       "      <td>0</td>\n",
       "      <td>0</td>\n",
       "      <td>0</td>\n",
       "      <td>0</td>\n",
       "      <td>0</td>\n",
       "      <td>0</td>\n",
       "      <td>1</td>\n",
       "      <td>0</td>\n",
       "      <td>0</td>\n",
       "      <td>0</td>\n",
       "    </tr>\n",
       "  </tbody>\n",
       "</table>\n",
       "</div>"
      ],
      "text/plain": [
       "   0  1  2  3  4  5  6  7  8  9\n",
       "0  0  0  0  0  0  0  1  0  0  0"
      ]
     },
     "execution_count": 12,
     "metadata": {},
     "output_type": "execute_result"
    }
   ],
   "source": [
    "one_hot_example = pd.DataFrame([{i: 0 for i in range(10)}])\n",
    "one_hot_example.loc[0, 6] = 1\n",
    "one_hot_example"
   ]
  },
  {
   "cell_type": "markdown",
   "metadata": {
    "_cell_guid": "f4c2d551-d511-4b6a-a161-e80b167b6607",
    "_uuid": "ea9c96c96b528b9fda95fb0ebc53089e05de3a58"
   },
   "source": [
    "This idea is implemented in the `OneHotEncoder` class from `sklearn.preprocessing`. By default `OneHotEncoder` transforms data into a sparse matrix for the sake of saving memory space - most of the values are zeroes and we don't want to spare extra RAM. However, in this particular example we don't run into such problems, so we are going to use \"dense\" matrix representation."
   ]
  },
  {
   "cell_type": "code",
   "execution_count": 13,
   "metadata": {
    "_cell_guid": "29d1f40e-cfb4-4ee0-b9ee-8c779b7c803b",
    "_uuid": "fa7ad1f51154182f467a5df5dd7d43ec111132b8",
    "collapsed": true
   },
   "outputs": [],
   "source": [
    "onehot_encoder = OneHotEncoder(sparse=False)"
   ]
  },
  {
   "cell_type": "code",
   "execution_count": 14,
   "metadata": {
    "_cell_guid": "0d70a254-f732-40c9-b738-67ca6b8d2d24",
    "_uuid": "ecfb22058b460d751779df0f9492928a317914de"
   },
   "outputs": [
    {
     "data": {
      "text/html": [
       "<div>\n",
       "<style>\n",
       "    .dataframe thead tr:only-child th {\n",
       "        text-align: right;\n",
       "    }\n",
       "\n",
       "    .dataframe thead th {\n",
       "        text-align: left;\n",
       "    }\n",
       "\n",
       "    .dataframe tbody tr th {\n",
       "        vertical-align: top;\n",
       "    }\n",
       "</style>\n",
       "<table border=\"1\" class=\"dataframe\">\n",
       "  <thead>\n",
       "    <tr style=\"text-align: right;\">\n",
       "      <th></th>\n",
       "      <th>0</th>\n",
       "      <th>1</th>\n",
       "      <th>2</th>\n",
       "      <th>3</th>\n",
       "      <th>4</th>\n",
       "      <th>5</th>\n",
       "      <th>6</th>\n",
       "      <th>7</th>\n",
       "      <th>8</th>\n",
       "      <th>9</th>\n",
       "      <th>...</th>\n",
       "      <th>43</th>\n",
       "      <th>44</th>\n",
       "      <th>45</th>\n",
       "      <th>46</th>\n",
       "      <th>47</th>\n",
       "      <th>48</th>\n",
       "      <th>49</th>\n",
       "      <th>50</th>\n",
       "      <th>51</th>\n",
       "      <th>52</th>\n",
       "    </tr>\n",
       "  </thead>\n",
       "  <tbody>\n",
       "    <tr>\n",
       "      <th>0</th>\n",
       "      <td>0.0</td>\n",
       "      <td>1.0</td>\n",
       "      <td>0.0</td>\n",
       "      <td>1.0</td>\n",
       "      <td>0.0</td>\n",
       "      <td>0.0</td>\n",
       "      <td>0.0</td>\n",
       "      <td>1.0</td>\n",
       "      <td>0.0</td>\n",
       "      <td>0.0</td>\n",
       "      <td>...</td>\n",
       "      <td>0.0</td>\n",
       "      <td>1.0</td>\n",
       "      <td>0.0</td>\n",
       "      <td>0.0</td>\n",
       "      <td>0.0</td>\n",
       "      <td>0.0</td>\n",
       "      <td>0.0</td>\n",
       "      <td>0.0</td>\n",
       "      <td>1.0</td>\n",
       "      <td>0.0</td>\n",
       "    </tr>\n",
       "    <tr>\n",
       "      <th>1</th>\n",
       "      <td>1.0</td>\n",
       "      <td>0.0</td>\n",
       "      <td>0.0</td>\n",
       "      <td>0.0</td>\n",
       "      <td>0.0</td>\n",
       "      <td>1.0</td>\n",
       "      <td>0.0</td>\n",
       "      <td>1.0</td>\n",
       "      <td>0.0</td>\n",
       "      <td>0.0</td>\n",
       "      <td>...</td>\n",
       "      <td>0.0</td>\n",
       "      <td>0.0</td>\n",
       "      <td>0.0</td>\n",
       "      <td>0.0</td>\n",
       "      <td>0.0</td>\n",
       "      <td>0.0</td>\n",
       "      <td>0.0</td>\n",
       "      <td>0.0</td>\n",
       "      <td>1.0</td>\n",
       "      <td>0.0</td>\n",
       "    </tr>\n",
       "    <tr>\n",
       "      <th>2</th>\n",
       "      <td>0.0</td>\n",
       "      <td>1.0</td>\n",
       "      <td>0.0</td>\n",
       "      <td>0.0</td>\n",
       "      <td>0.0</td>\n",
       "      <td>1.0</td>\n",
       "      <td>0.0</td>\n",
       "      <td>0.0</td>\n",
       "      <td>1.0</td>\n",
       "      <td>0.0</td>\n",
       "      <td>...</td>\n",
       "      <td>0.0</td>\n",
       "      <td>1.0</td>\n",
       "      <td>0.0</td>\n",
       "      <td>0.0</td>\n",
       "      <td>0.0</td>\n",
       "      <td>0.0</td>\n",
       "      <td>0.0</td>\n",
       "      <td>0.0</td>\n",
       "      <td>1.0</td>\n",
       "      <td>0.0</td>\n",
       "    </tr>\n",
       "    <tr>\n",
       "      <th>3</th>\n",
       "      <td>1.0</td>\n",
       "      <td>0.0</td>\n",
       "      <td>0.0</td>\n",
       "      <td>0.0</td>\n",
       "      <td>0.0</td>\n",
       "      <td>1.0</td>\n",
       "      <td>0.0</td>\n",
       "      <td>1.0</td>\n",
       "      <td>0.0</td>\n",
       "      <td>0.0</td>\n",
       "      <td>...</td>\n",
       "      <td>1.0</td>\n",
       "      <td>0.0</td>\n",
       "      <td>0.0</td>\n",
       "      <td>0.0</td>\n",
       "      <td>0.0</td>\n",
       "      <td>0.0</td>\n",
       "      <td>0.0</td>\n",
       "      <td>0.0</td>\n",
       "      <td>1.0</td>\n",
       "      <td>0.0</td>\n",
       "    </tr>\n",
       "    <tr>\n",
       "      <th>4</th>\n",
       "      <td>0.0</td>\n",
       "      <td>1.0</td>\n",
       "      <td>0.0</td>\n",
       "      <td>1.0</td>\n",
       "      <td>0.0</td>\n",
       "      <td>0.0</td>\n",
       "      <td>0.0</td>\n",
       "      <td>1.0</td>\n",
       "      <td>0.0</td>\n",
       "      <td>0.0</td>\n",
       "      <td>...</td>\n",
       "      <td>0.0</td>\n",
       "      <td>0.0</td>\n",
       "      <td>0.0</td>\n",
       "      <td>0.0</td>\n",
       "      <td>1.0</td>\n",
       "      <td>0.0</td>\n",
       "      <td>0.0</td>\n",
       "      <td>0.0</td>\n",
       "      <td>1.0</td>\n",
       "      <td>0.0</td>\n",
       "    </tr>\n",
       "  </tbody>\n",
       "</table>\n",
       "<p>5 rows × 53 columns</p>\n",
       "</div>"
      ],
      "text/plain": [
       "    0    1    2    3    4    5    6    7    8    9  ...    43   44   45   46  \\\n",
       "0  0.0  1.0  0.0  1.0  0.0  0.0  0.0  1.0  0.0  0.0 ...   0.0  1.0  0.0  0.0   \n",
       "1  1.0  0.0  0.0  0.0  0.0  1.0  0.0  1.0  0.0  0.0 ...   0.0  0.0  0.0  0.0   \n",
       "2  0.0  1.0  0.0  0.0  0.0  1.0  0.0  0.0  1.0  0.0 ...   0.0  1.0  0.0  0.0   \n",
       "3  1.0  0.0  0.0  0.0  0.0  1.0  0.0  1.0  0.0  0.0 ...   1.0  0.0  0.0  0.0   \n",
       "4  0.0  1.0  0.0  1.0  0.0  0.0  0.0  1.0  0.0  0.0 ...   0.0  0.0  0.0  0.0   \n",
       "\n",
       "    47   48   49   50   51   52  \n",
       "0  0.0  0.0  0.0  0.0  1.0  0.0  \n",
       "1  0.0  0.0  0.0  0.0  1.0  0.0  \n",
       "2  0.0  0.0  0.0  0.0  1.0  0.0  \n",
       "3  0.0  0.0  0.0  0.0  1.0  0.0  \n",
       "4  1.0  0.0  0.0  0.0  1.0  0.0  \n",
       "\n",
       "[5 rows x 53 columns]"
      ]
     },
     "execution_count": 14,
     "metadata": {},
     "output_type": "execute_result"
    }
   ],
   "source": [
    "encoded_categorical_columns = pd.DataFrame(onehot_encoder.fit_transform(df[categorical_columns]))\n",
    "encoded_categorical_columns.head()"
   ]
  },
  {
   "cell_type": "markdown",
   "metadata": {
    "_cell_guid": "9db91f18-2a19-4c54-ae15-34cc7df16216",
    "_uuid": "0c162f2cc7d813cef43971aec666aaccc2aaa7b8"
   },
   "source": [
    "We've got 53 columns that correspond to the number of unique values of categorical features in our data set. When transformed with One-Hot Encoding, this data can be used with linear models:"
   ]
  },
  {
   "cell_type": "code",
   "execution_count": 15,
   "metadata": {
    "_cell_guid": "84c611df-8c2e-45dc-a108-aab6bf39a530",
    "_uuid": "cebd716350bc29dabb07f797db16e693fa92a76a"
   },
   "outputs": [
    {
     "name": "stdout",
     "output_type": "stream",
     "text": [
      "             precision    recall  f1-score   support\n",
      "\n",
      "          0       0.91      0.99      0.95      6137\n",
      "          1       0.66      0.18      0.29       762\n",
      "\n",
      "avg / total       0.88      0.90      0.87      6899\n",
      "\n"
     ]
    }
   ],
   "source": [
    "print(logistic_regression_accuracy_on(encoded_categorical_columns, labels))"
   ]
  },
  {
   "cell_type": "markdown",
   "metadata": {
    "_cell_guid": "361416b2-4279-434a-98bf-82f79de11f3d",
    "_uuid": "e7976bb1de18e2f63e78c9e7ec72266ca158b9c1"
   },
   "source": [
    "## 2.3. Hashing trick\n",
    "Real data can be even more volatile, we cannot guarantee that new values  of categorial features will not occur. This issue hampers the using ot the trained model with some new data. Besides that, `LabelEncoder` assumes preliminary analysis of the whole dataset and storage of constructed mappings in memory, which makes it difficult to work with big amounts of data.\n",
    "\n",
    "There is a simple approach to vectorization of categorial data, it is based on hashing, and is known as, surprisingly, the hashing trick. \n",
    "\n",
    "Hash functions can help us in finding unique codes for different feature values, for example:"
   ]
  },
  {
   "cell_type": "code",
   "execution_count": 16,
   "metadata": {
    "_cell_guid": "d9eb2e54-18e7-4056-8f28-f22a044596d8",
    "_uuid": "01064911e1e0af0b3829b0e0be2a965aa3e8eb3e"
   },
   "outputs": [
    {
     "name": "stdout",
     "output_type": "stream",
     "text": [
      "university.degree -> 1273810251979479580\n",
      "high.school -> -8951771964702175610\n",
      "illiterate -> -7118184842338203061\n"
     ]
    }
   ],
   "source": [
    "for s in ('university.degree', 'high.school', 'illiterate'):\n",
    "    print(s, '->', hash(s))"
   ]
  },
  {
   "cell_type": "markdown",
   "metadata": {
    "_cell_guid": "381e8137-cf66-418c-835a-84b5882cfdc2",
    "_uuid": "b93b5bcf1a9ad4a2dc92704bab63f831ea5e19bf"
   },
   "source": [
    "We don't use negative values or values of such high magnitude. We restrict the range of values for the hash function:"
   ]
  },
  {
   "cell_type": "code",
   "execution_count": 17,
   "metadata": {
    "_cell_guid": "943fc564-80f0-4350-980a-cce6c6a2e7cd",
    "_uuid": "b92f7eabc498b8339abed0f8fd400bba5750209a"
   },
   "outputs": [
    {
     "name": "stdout",
     "output_type": "stream",
     "text": [
      "university.degree -> 5\n",
      "high.school -> 15\n",
      "illiterate -> 14\n"
     ]
    }
   ],
   "source": [
    "hash_space = 25\n",
    "for s in ('university.degree', 'high.school', 'illiterate'):\n",
    "    print(s, '->', hash(s) % hash_space)"
   ]
  },
  {
   "cell_type": "markdown",
   "metadata": {
    "_cell_guid": "ae21a334-e53f-4cb1-abfc-fa7ed35ba1ae",
    "_uuid": "6eda4bc3ccce5ca01700bc95878fc4996b7aabaa"
   },
   "source": [
    "Imagine that our data set contains a single (not married yet) student, who received a call on Monday. His feature vectors  will be created similarly to the case of One-Hot Encoding, but in the united space with fixed range for all features:"
   ]
  },
  {
   "cell_type": "code",
   "execution_count": 18,
   "metadata": {
    "_cell_guid": "c94253b2-3981-4bbd-817f-96c3f660d464",
    "_uuid": "af62a2ed3770a537bc3168d0a06c6d20b737f887"
   },
   "outputs": [
    {
     "name": "stdout",
     "output_type": "stream",
     "text": [
      "job=student -> 12\n",
      "marital=single -> 22\n",
      "day_of_week=mon -> 24\n"
     ]
    },
    {
     "data": {
      "text/html": [
       "<div>\n",
       "<style>\n",
       "    .dataframe thead tr:only-child th {\n",
       "        text-align: right;\n",
       "    }\n",
       "\n",
       "    .dataframe thead th {\n",
       "        text-align: left;\n",
       "    }\n",
       "\n",
       "    .dataframe tbody tr th {\n",
       "        vertical-align: top;\n",
       "    }\n",
       "</style>\n",
       "<table border=\"1\" class=\"dataframe\">\n",
       "  <thead>\n",
       "    <tr style=\"text-align: right;\">\n",
       "      <th></th>\n",
       "      <th>0</th>\n",
       "      <th>1</th>\n",
       "      <th>2</th>\n",
       "      <th>3</th>\n",
       "      <th>4</th>\n",
       "      <th>5</th>\n",
       "      <th>6</th>\n",
       "      <th>7</th>\n",
       "      <th>8</th>\n",
       "      <th>9</th>\n",
       "      <th>...</th>\n",
       "      <th>15</th>\n",
       "      <th>16</th>\n",
       "      <th>17</th>\n",
       "      <th>18</th>\n",
       "      <th>19</th>\n",
       "      <th>20</th>\n",
       "      <th>21</th>\n",
       "      <th>22</th>\n",
       "      <th>23</th>\n",
       "      <th>24</th>\n",
       "    </tr>\n",
       "  </thead>\n",
       "  <tbody>\n",
       "    <tr>\n",
       "      <th>0</th>\n",
       "      <td>0.0</td>\n",
       "      <td>0.0</td>\n",
       "      <td>0.0</td>\n",
       "      <td>0.0</td>\n",
       "      <td>0.0</td>\n",
       "      <td>0.0</td>\n",
       "      <td>0.0</td>\n",
       "      <td>0.0</td>\n",
       "      <td>0.0</td>\n",
       "      <td>0.0</td>\n",
       "      <td>...</td>\n",
       "      <td>0.0</td>\n",
       "      <td>0.0</td>\n",
       "      <td>0.0</td>\n",
       "      <td>0.0</td>\n",
       "      <td>0.0</td>\n",
       "      <td>0.0</td>\n",
       "      <td>0.0</td>\n",
       "      <td>1.0</td>\n",
       "      <td>0.0</td>\n",
       "      <td>1.0</td>\n",
       "    </tr>\n",
       "  </tbody>\n",
       "</table>\n",
       "<p>1 rows × 25 columns</p>\n",
       "</div>"
      ],
      "text/plain": [
       "    0    1    2    3    4    5    6    7    8    9  ...    15   16   17   18  \\\n",
       "0  0.0  0.0  0.0  0.0  0.0  0.0  0.0  0.0  0.0  0.0 ...   0.0  0.0  0.0  0.0   \n",
       "\n",
       "    19   20   21   22   23   24  \n",
       "0  0.0  0.0  0.0  1.0  0.0  1.0  \n",
       "\n",
       "[1 rows x 25 columns]"
      ]
     },
     "execution_count": 18,
     "metadata": {},
     "output_type": "execute_result"
    }
   ],
   "source": [
    "hashing_example = pd.DataFrame([{i: 0.0 for i in range(hash_space)}])\n",
    "for s in ('job=student', 'marital=single', 'day_of_week=mon'):\n",
    "    print(s, '->', hash(s) % hash_space)\n",
    "    hashing_example.loc[0, hash(s) % hash_space] = 1\n",
    "hashing_example"
   ]
  },
  {
   "cell_type": "markdown",
   "metadata": {
    "_cell_guid": "4913a8ad-2ecc-4f50-b887-f19b51afdd01",
    "_uuid": "51d6391d6c180365161865070a0ebf589d2a344e"
   },
   "source": [
    "We want to point out: we hash not only feature values, but pairs of **feature name + feature value**. It's important to distinguish the same values of different features."
   ]
  },
  {
   "cell_type": "code",
   "execution_count": 22,
   "metadata": {
    "_cell_guid": "48540748-405a-413d-ac0c-5aa0422b9087",
    "_uuid": "e025f8486b3091090e93c27c082145b5f3e11967",
    "collapsed": true
   },
   "outputs": [],
   "source": [
    "assert hash('no') == hash('no')\n",
    "assert hash('housing=no') != hash('loan=no')"
   ]
  },
  {
   "cell_type": "markdown",
   "metadata": {
    "_cell_guid": "bfb6bdc6-9593-4a8f-a961-24221567c70f",
    "_uuid": "4ec7bcce511995a7d71a6542bbd71c9086f8f9e0"
   },
   "source": [
    "Is it possible that we have a collision (when hash codes, computed for two different combinations of feature names and values, coincide)? Sure, it is. But it can be seen that it is a rare case, with big enough  hashing spaces. And  even if the collision occurs, regression or classification metrics will not suffer much. Surprisingly, hash collisions in this case work as a sort of regularization.\n",
    "\n",
    "<img src=\"https://habrastorage.org/webt/4o/wx/59/4owx59vdvwc9mzrf81t2fa2rqrc.jpeg\">\n",
    "\n",
    "Perhaps, you ask \"WTF?\", hashing seems counterintuitive. Maybe, but sometimes this heuristics is in fact the only plausible approach to work with categorial data. Moreover, this technique has proved to just work. "
   ]
  },
  {
   "cell_type": "markdown",
   "metadata": {
    "_cell_guid": "d2361062-61d9-4dd6-bac2-cbf2bd0ccebb",
    "_uuid": "1a565b5d7413123af2b5997cd9f74266187effca"
   },
   "source": [
    "# 3. Vowpal Wabbit"
   ]
  },
  {
   "cell_type": "markdown",
   "metadata": {
    "_cell_guid": "e6a2e0f9-785e-4cf6-9013-b114099daddd",
    "_uuid": "01e502198f14273eadcab0f10e090ddbaba07b87"
   },
   "source": [
    "[Vowpal Wabbit](https://github.com/JohnLangford/vowpal_wabbit) (VW) is one of the most wide-spread machine learning libraries in industry. It is prominent for high training speed and support of many training modes. Especially, we are interested in online learning with big and high-dimentional data. This is one of major merits of the library. Also, with hashing trick implemented, Vowpal Wabbit is a perfect choice for working with text data.\n",
    "\n",
    "Shell is the main interface for VW. Well... I haven't found the way of installing VW in a Kaggle Kernel (hmm.. Kaggle, what about Docker?) so I've commented out the code in some cells in order not to spoil the output. "
   ]
  },
  {
   "cell_type": "code",
   "execution_count": 23,
   "metadata": {
    "_cell_guid": "24fd028f-416e-43ff-9530-5c8f47bde176",
    "_uuid": "4cc17ec6551c7e7dcf224a3b03794720d90cb966",
    "collapsed": true
   },
   "outputs": [],
   "source": [
    "# !vw --help"
   ]
  },
  {
   "cell_type": "markdown",
   "metadata": {
    "_cell_guid": "62f9eb36-c321-43bb-823b-16e0dfa807fd",
    "_uuid": "e1af0fd07d8be18a75d911a2ca939b8af9839cf2"
   },
   "source": [
    "Vowpal Wabbit reads data from files or from standard input stream (stdin) assuming the following format:\n",
    "\n",
    "`[Label] [Importance] [Tag]|Namespace Features |Namespace Features ... |Namespace Features`\n",
    "\n",
    "`Namespace=String[:Value]`\n",
    "\n",
    "`Features=(String[:Value] )*`\n",
    "\n",
    "here [] denotes non-mandatory elements, and (...)\\* means some repeats. \n",
    "\n",
    "- **Label** is a number. In case of classification it is usually 1 and -1, in case of regression it is some real float value\n",
    "- **Importance** is a number, it denotes sample weight during training. Setting this helps when working with imbalanced data.\n",
    "- **Tag** is some string without spaces - it is a \"name\" of sample, VW saves it upon prediction. In order to separate Tag and Importance it is better to start Tag with the ' character.\n",
    "- **Namespace** is for creation of separate feature spaces. \n",
    "- **Features** are object features inside **Namespace**. Features have weight 1.0 by default, but it can be changed, for example - feature:0.1. \n",
    "\n",
    "\n",
    "The following string matches the VW format:\n",
    "\n",
    "```\n",
    "1 1.0 |Subject WHAT car is this |Organization University of Maryland:0.5 College Park\n",
    "```\n",
    "\n",
    "\n",
    "Let's check it and run VW with this training sample:"
   ]
  },
  {
   "cell_type": "code",
   "execution_count": 21,
   "metadata": {
    "_cell_guid": "5cbedd43-8d8e-4577-9a67-4f2879f0666c",
    "_uuid": "250fa571012a53fbe15f9b16bd88244dae4f805a",
    "collapsed": true
   },
   "outputs": [],
   "source": [
    "#! echo '1 1.0 |Subject WHAT car is this |Organization University of Maryland:0.5 College Park' | vw"
   ]
  },
  {
   "cell_type": "markdown",
   "metadata": {
    "_cell_guid": "250ad844-c8bc-4cc6-a1dd-cf4770d7c840",
    "_uuid": "1d754e1b0d24913b137f42b84ccdf9d46ce53f05"
   },
   "source": [
    "VW is a wonderful tool for working with text data. We'll illustrate it with the [20newsgroups dataset](http://scikit-learn.org/stable/datasets/twenty_newsgroups.html), containing letters from 20 different news letters.\n",
    "\n",
    "\n",
    "## 3.1. News. Binary classification."
   ]
  },
  {
   "cell_type": "code",
   "execution_count": 24,
   "metadata": {
    "_cell_guid": "a37611a4-5bdb-40bb-9b89-bfddd8726ba9",
    "_uuid": "0f527d54e1a759be5fb53665ae4b768116094b27",
    "collapsed": true
   },
   "outputs": [],
   "source": [
    "# load data with sklearn's fubction \n",
    "newsgroups = fetch_20newsgroups(PATH_TO_ALL_DATA)"
   ]
  },
  {
   "cell_type": "code",
   "execution_count": 25,
   "metadata": {
    "_cell_guid": "7fad47bd-c5fc-4b56-b024-0e866137d07b",
    "_uuid": "a582c83f4d792d71d12e5063d7539c040b017a67"
   },
   "outputs": [
    {
     "data": {
      "text/plain": [
       "['alt.atheism',\n",
       " 'comp.graphics',\n",
       " 'comp.os.ms-windows.misc',\n",
       " 'comp.sys.ibm.pc.hardware',\n",
       " 'comp.sys.mac.hardware',\n",
       " 'comp.windows.x',\n",
       " 'misc.forsale',\n",
       " 'rec.autos',\n",
       " 'rec.motorcycles',\n",
       " 'rec.sport.baseball',\n",
       " 'rec.sport.hockey',\n",
       " 'sci.crypt',\n",
       " 'sci.electronics',\n",
       " 'sci.med',\n",
       " 'sci.space',\n",
       " 'soc.religion.christian',\n",
       " 'talk.politics.guns',\n",
       " 'talk.politics.mideast',\n",
       " 'talk.politics.misc',\n",
       " 'talk.religion.misc']"
      ]
     },
     "execution_count": 25,
     "metadata": {},
     "output_type": "execute_result"
    }
   ],
   "source": [
    "newsgroups['target_names']"
   ]
  },
  {
   "cell_type": "markdown",
   "metadata": {
    "_cell_guid": "9eab187f-162a-4a1c-bcaa-6e96bbaeb807",
    "_uuid": "307c3d13c7525e41cba581816a9ef75660d54fb2"
   },
   "source": [
    "Lets look at the first document from this collection:"
   ]
  },
  {
   "cell_type": "code",
   "execution_count": 26,
   "metadata": {
    "_cell_guid": "d571d3d0-fba9-4d2f-a4a9-3a36e80fe456",
    "_uuid": "039c32b72a84277884c788de8fe2a5e692a4dfb5"
   },
   "outputs": [
    {
     "name": "stdout",
     "output_type": "stream",
     "text": [
      "-----\n",
      "rec.autos\n",
      "-----\n",
      "From: lerxst@wam.umd.edu (where's my thing)\n",
      "Subject: WHAT car is this!?\n",
      "Nntp-Posting-Host: rac3.wam.umd.edu\n",
      "Organization: University of Maryland, College Park\n",
      "Lines: 15\n",
      "\n",
      " I was wondering if anyone out there could enlighten me on this car I saw\n",
      "the other day. It was a 2-door sports car, looked to be from the late 60s/\n",
      "early 70s. It was called a Bricklin. The doors were really small. In addition,\n",
      "the front bumper was separate from the rest of the body. This is \n",
      "all I know. If anyone can tellme a model name, engine specs, years\n",
      "of production, where this car is made, history, or whatever info you\n",
      "have on this funky looking car, please e-mail.\n",
      "\n",
      "Thanks,\n",
      "- IL\n",
      "   ---- brought to you by your neighborhood Lerxst ----\n",
      "----\n"
     ]
    }
   ],
   "source": [
    "text = newsgroups['data'][0]\n",
    "target = newsgroups['target_names'][newsgroups['target'][0]]\n",
    "\n",
    "print('-----')\n",
    "print(target)\n",
    "print('-----')\n",
    "print(text.strip())\n",
    "print('----')"
   ]
  },
  {
   "cell_type": "markdown",
   "metadata": {
    "_cell_guid": "bb940e9e-e2bf-4f39-b8a2-467100548f40",
    "_uuid": "a464de9c01ff461f95ef1cba04acbe0211723c58"
   },
   "source": [
    "Now we convert the data into something Vowpal Wabbit can understand, and we throw away words shorter than of 3 symbols. Here we skip many important NLP stages (stemming and lemmatization, for example), however, we will later see that VW solves the problem even without these steps."
   ]
  },
  {
   "cell_type": "code",
   "execution_count": 25,
   "metadata": {
    "_cell_guid": "61c25a92-1b0a-45cf-904f-6c35de89575f",
    "_uuid": "9b480cff8801ad51f371b05f6f63225c758883ca"
   },
   "outputs": [
    {
     "data": {
      "text/plain": [
       "'1 |text from lerxst wam umd edu where thing subject what car this nntp posting host rac3 wam umd edu organization university maryland college park lines was wondering anyone out there could enlighten this car saw the other day was door sports car looked from the late 60s early 70s was called bricklin the doors were really small addition the front bumper was separate from the rest the body this all know anyone can tellme model name engine specs years production where this car made history whatever info you have this funky looking car please mail thanks brought you your neighborhood lerxst\\n'"
      ]
     },
     "execution_count": 25,
     "metadata": {},
     "output_type": "execute_result"
    }
   ],
   "source": [
    "def to_vw_format(document, label=None):\n",
    "    return str(label or '') + ' |text ' + ' '.join(re.findall('\\w{3,}', document.lower())) + '\\n'\n",
    "\n",
    "to_vw_format(text, 1 if target == 'rec.autos' else -1)"
   ]
  },
  {
   "cell_type": "markdown",
   "metadata": {
    "_cell_guid": "a9ff9575-96b8-421c-9ebb-fe5de97b4d79",
    "_uuid": "0fada3ac4275dc108ea54a0be7efa8ab176ca06f"
   },
   "source": [
    "We split the dataset into train and test and write these to files. We will consider document as positive, if it corresponds to **rec.autos**. Thus, we construct the model which distinguishes letters about cars from others: "
   ]
  },
  {
   "cell_type": "code",
   "execution_count": 29,
   "metadata": {
    "_cell_guid": "297c4ed7-3157-412e-b3af-1bc59084defd",
    "_uuid": "f5754e324f2165a47ab603e2e5fafa5b681ea1e9",
    "collapsed": true
   },
   "outputs": [],
   "source": [
    "all_documents = newsgroups['data']\n",
    "all_targets = [1 if newsgroups['target_names'][target] == 'rec.autos' \n",
    "               else -1 for target in newsgroups['target']]"
   ]
  },
  {
   "cell_type": "code",
   "execution_count": 30,
   "metadata": {
    "_cell_guid": "d0cd644c-fdd2-4b46-9ff5-377ef12a3d6e",
    "_uuid": "623b5b239dda745dc0e79a7b225825eed8f98d09",
    "collapsed": true
   },
   "outputs": [],
   "source": [
    "train_documents, test_documents, train_labels, test_labels = \\\n",
    "    train_test_split(all_documents, all_targets, random_state=7)\n",
    "    \n",
    "# with open(os.path.join(PATH_TO_ALL_DATA, '20news_train.vw'), 'w') as vw_train_data:\n",
    "#     for text, target in zip(train_documents, train_labels):\n",
    "#         vw_train_data.write(to_vw_format(text, target))\n",
    "# with open(os.path.join(PATH_TO_ALL_DATA, '20news_test.vw'), 'w') as vw_test_data:\n",
    "#     for text in test_documents:\n",
    "#         vw_test_data.write(to_vw_format(text))"
   ]
  },
  {
   "cell_type": "markdown",
   "metadata": {
    "_cell_guid": "601ec250-c847-4c9e-8d47-ca00b8b659af",
    "_uuid": "6330fc49440e8801cbfee9aa075df523e845ae23"
   },
   "source": [
    "And now we pass the created file to Vowpal Wabbit. We solve the classification problem with hinge loss function (linear SVM). The trained model will be saved in the `20news_model.vw` file:"
   ]
  },
  {
   "cell_type": "code",
   "execution_count": 31,
   "metadata": {
    "_cell_guid": "80f2960a-2389-4810-9b04-1928b613b4b2",
    "_uuid": "7a5a15cc11e801a98b493bab026136c9eeb33816",
    "collapsed": true
   },
   "outputs": [],
   "source": [
    "# !vw -d $PATH_TO_ALL_DATA/20news_train.vw \\\n",
    "#  --loss_function hinge -f $PATH_TO_ALL_DATA/20news_model.vw"
   ]
  },
  {
   "cell_type": "markdown",
   "metadata": {
    "_cell_guid": "8d4e9c7a-c55b-4e18-a26a-d9b63db8ad47",
    "_uuid": "efc30d9b5fa31f0e39eb486e85f6775ac52cb229"
   },
   "source": [
    "Training is finished. VW prints a lot of interesting info while training (one can supress it with the `--quiet` parameter). More on this diagnostic output can be seen on [GitHub](https://github.com/JohnLangford/vowpal_wabbit/wiki/Tutorial#vws-diagnostic-information). Note how average loss drops while training. For loss computation VW uses samples it has never seen before, so this measure is usually correct. Now we apply trained model to the test set, saving predictions into a file with the `-p` flag:  "
   ]
  },
  {
   "cell_type": "code",
   "execution_count": 29,
   "metadata": {
    "_cell_guid": "17c99751-4e30-4251-b18f-fe6ed8a34e58",
    "_uuid": "276f1431b121543e67f668bb5e9d601dd882e98e",
    "collapsed": true
   },
   "outputs": [],
   "source": [
    "# !vw -i $PATH_TO_ALL_DATA/20news_model.vw -t -d $PATH_TO_ALL_DATA/20news_test.vw \\\n",
    "# -p $PATH_TO_ALL_DATA/20news_test_predictions.txt"
   ]
  },
  {
   "cell_type": "markdown",
   "metadata": {
    "_cell_guid": "b3c2b322-058b-4051-a29e-961e9691947f",
    "_uuid": "e478d52c8fd3c52b8a46d6e1dd5ebccfd691748e"
   },
   "source": [
    "Now we load predictions, compute AUC and plot the ROC curve:"
   ]
  },
  {
   "cell_type": "code",
   "execution_count": 32,
   "metadata": {
    "_cell_guid": "93d9f296-f06b-4d18-94a5-e18ccf88b094",
    "_uuid": "40b4112f1afa764db10b58b0ab05adfed48ab388"
   },
   "outputs": [
    {
     "data": {
      "image/png": "[encoded data removed]",
      "text/plain": [
       "<matplotlib.figure.Figure at 0xd127208>"
      ]
     },
     "metadata": {},
     "output_type": "display_data"
    }
   ],
   "source": [
    "with open(os.path.join(PATH_TO_ALL_DATA, '20news_test_predictions.txt')) as pred_file:\n",
    "    test_prediction = [float(label) \n",
    "                             for label in pred_file.readlines()]\n",
    "\n",
    "auc = roc_auc_score(test_labels, test_prediction)\n",
    "roc_curve = roc_curve(test_labels, test_prediction)\n",
    "\n",
    "with plt.xkcd():\n",
    "    plt.plot(roc_curve[0], roc_curve[1]);\n",
    "    plt.plot([0,1], [0,1])\n",
    "    plt.xlabel('FPR'); plt.ylabel('TPR'); plt.title('test AUC = %f' % (auc)); plt.axis([-0.05,1.05,-0.05,1.05]);"
   ]
  },
  {
   "cell_type": "markdown",
   "metadata": {
    "_cell_guid": "a302f698-1f6f-4653-a1a1-ef467919ca1e",
    "_uuid": "5aa3b9722f255cb9db25c8fe5991c1e2c7a17f71"
   },
   "source": [
    "AUC value we get states that here we've achieved high classification quality."
   ]
  },
  {
   "cell_type": "markdown",
   "metadata": {
    "_cell_guid": "6cc41756-d83c-48a5-93f6-56c238487b51",
    "_uuid": "47ea9632a74d49a003c1d876661af0113efd6bd4"
   },
   "source": [
    "# 3.2. News. Multiclass classification"
   ]
  },
  {
   "cell_type": "markdown",
   "metadata": {
    "_cell_guid": "ad900d77-3eb6-413b-ba95-7d33d036e655",
    "_uuid": "2fd54a3102db4cf3d3665877acffb3cead417a2f"
   },
   "source": [
    "We use same news dataset, but this time we solve multiclass classification problem. `Vowpal Wabbit` is a little picky – it loves labels starting from 1 till K, where K – is a number of classes in classification task (20 in our case). So we will use LabelEncoder and add 1 afterwards (`LabelEncoder` maps labels into range from 0 to K-1)."
   ]
  },
  {
   "cell_type": "code",
   "execution_count": 31,
   "metadata": {
    "_cell_guid": "e94dfe85-61d6-42d2-b19e-89923b511535",
    "_uuid": "30fca7585b9d841b5925ec9b3db9b12ff1bb5142",
    "collapsed": true
   },
   "outputs": [],
   "source": [
    "all_documents = newsgroups['data']\n",
    "topic_encoder = LabelEncoder()\n",
    "all_targets_mult = topic_encoder.fit_transform(newsgroups['target']) + 1"
   ]
  },
  {
   "cell_type": "markdown",
   "metadata": {
    "_cell_guid": "0d4b5845-3bc5-4c2d-ba00-5977b5f108cc",
    "_uuid": "93289fedab1875334df6632138311299dfe7dc4d"
   },
   "source": [
    "**Data is the same, but we change labels, train_labels_mult and test_labels_mult – label vectors from 1 to 20.**"
   ]
  },
  {
   "cell_type": "code",
   "execution_count": 32,
   "metadata": {
    "_cell_guid": "90e22502-efe9-4a2c-9868-fa6a18ed91b2",
    "_uuid": "f90ea2c247690e680d26f6d30992daf45ffd0315",
    "collapsed": true
   },
   "outputs": [],
   "source": [
    "train_documents, test_documents, train_labels_mult, test_labels_mult = \\\n",
    "    train_test_split(all_documents, all_targets_mult, random_state=7)\n",
    "    \n",
    "# with open(os.path.join(PATH_TO_ALL_DATA, '20news_train_mult.vw'), 'w') as vw_train_data:\n",
    "#     for text, target in zip(train_documents, train_labels_mult):\n",
    "#         vw_train_data.write(to_vw_format(text, target))\n",
    "# with open(os.path.join(PATH_TO_ALL_DATA, '20news_test_mult.vw'), 'w') as vw_test_data:\n",
    "#     for text in test_documents:\n",
    "#         vw_test_data.write(to_vw_format(text))"
   ]
  },
  {
   "cell_type": "markdown",
   "metadata": {
    "_cell_guid": "478ead84-c063-4383-baac-7deaa627d83f",
    "_uuid": "c0f488bb8182487c1393e5b9f0fdbc301de58a02"
   },
   "source": [
    "We train Vowpal Wabbit in multiclass classification mode, passing `oaa` parameter(\"one against all\"), with number of classes. Also, lets see parameters we can tune and model quality can be very depended on them (more info – in the official Vowpal Wabbit [tutorial](https://github.com/JohnLangford/vowpal_wabbit/wiki/Tutorial)):\n",
    " - learning rate (-l, 0.5 default) – rate of weight change on every step\n",
    " - learning rate decay (--power_t, 0.5 default) – it is proven by practice, that if learning rate drops along with further steps of stochastic gradient descent, we approach loss minimum better\n",
    " - loss function (--loss_function) – entire training algorithm depends on it. [Docs](https://github.com/JohnLangford/vowpal_wabbit/wiki/Loss-functions) about loss functions\n",
    " - Regularization (-l1) – note, that VW  calculates regularization for every object, that why we usually set regularization values small, about $10^{-20}.$\n",
    " \n",
    " Additionally we can try automatic Vowpal Wabbit parameters tuning with [Hyperopt](https://github.com/hyperopt/hyperopt)."
   ]
  },
  {
   "cell_type": "code",
   "execution_count": 33,
   "metadata": {
    "_cell_guid": "80ae364e-8332-41db-bdc3-7f642bb24d7a",
    "_uuid": "97ea9ebcb6ed46b5512f5a9364680e501c2925cf",
    "collapsed": true
   },
   "outputs": [],
   "source": [
    "# %%time\n",
    "# !vw --oaa 20 $PATH_TO_ALL_DATA/20news_train_mult.vw -f $PATH_TO_ALL_DATA/20news_model_mult.vw \\\n",
    "# --loss_function=hinge"
   ]
  },
  {
   "cell_type": "code",
   "execution_count": 34,
   "metadata": {
    "_cell_guid": "4d78df8b-f6d2-477a-b5be-a5f7364c0e56",
    "_uuid": "d30d194b2be9521d609d703385f528c24a557aa0",
    "collapsed": true
   },
   "outputs": [],
   "source": [
    "# %%time\n",
    "# !vw -i $PATH_TO_ALL_DATA/20news_model_mult.vw -t -d $PATH_TO_ALL_DATA/20news_test_mult.vw \\\n",
    "# -p $PATH_TO_ALL_DATA/20news_test_predictions_mult.txt"
   ]
  },
  {
   "cell_type": "code",
   "execution_count": 35,
   "metadata": {
    "_cell_guid": "bf4c66cf-3039-4ac4-a129-e52652c16d8d",
    "_uuid": "f6911717662ade8c466cc2f3681f356619d8676c",
    "collapsed": true
   },
   "outputs": [],
   "source": [
    "with open(os.path.join(PATH_TO_ALL_DATA, '20news_test_predictions_mult.txt')) as pred_file:\n",
    "    test_prediction_mult = [float(label) for label in pred_file.readlines()]"
   ]
  },
  {
   "cell_type": "code",
   "execution_count": 36,
   "metadata": {
    "_cell_guid": "c8cd9521-6c23-412b-959d-19e9f95bd5ee",
    "_uuid": "c110cfb692d0c280009ca815efa504f5889e28a6"
   },
   "outputs": [
    {
     "data": {
      "text/plain": [
       "0.8734535171438671"
      ]
     },
     "execution_count": 36,
     "metadata": {},
     "output_type": "execute_result"
    }
   ],
   "source": [
    "accuracy_score(test_labels_mult, test_prediction_mult)"
   ]
  },
  {
   "cell_type": "markdown",
   "metadata": {
    "_cell_guid": "365da3c4-6bcb-40fa-8786-d57415595491",
    "_uuid": "ab8ac32cc2357207807e8c262177e0347e9f6d71"
   },
   "source": [
    "Here is how often the model misclassifies atheism with other topics."
   ]
  },
  {
   "cell_type": "code",
   "execution_count": 37,
   "metadata": {
    "_cell_guid": "5b40bd39-4895-4713-be3a-2fea6fa37062",
    "_uuid": "fefe7d01f98e8cd3af7ce5a3b7d0f859755e5047"
   },
   "outputs": [
    {
     "name": "stdout",
     "output_type": "stream",
     "text": [
      "rec.autos 1\n",
      "rec.sport.baseball 1\n",
      "sci.med 1\n",
      "soc.religion.christian 3\n",
      "talk.religion.misc 5\n"
     ]
    }
   ],
   "source": [
    "M = confusion_matrix(test_labels_mult, test_prediction_mult)\n",
    "for i in np.where(M[0,:] > 0)[0][1:]:\n",
    "    print(newsgroups['target_names'][i], M[0,i])"
   ]
  },
  {
   "cell_type": "markdown",
   "metadata": {
    "_cell_guid": "cab1c6f7-515d-4bf3-9054-5bc25d81be8e",
    "_uuid": "dc891b0f4124cdc76a2f9db9340d49055a91e1f8"
   },
   "source": [
    "# 3.3. IMDB movie reviews\n",
    "In this part we will do binary classification of [IMDB](http://www.imdb.com) (International Movie DataBase) movie reviews. We will see how fast Vowpal Wabbit is.\n",
    "\n",
    "Using the `load_files` function from `sklearn.datasets` we load movie reviews [from here](https://yadi.sk/d/Tg1Tflur333iLr). If you want to reproduce the results, please download the archive, unzip it and set the path to `imdb_reviews` (it will contain *train* and *test* subdirectories). Unpacking can take several minutes as there are 100k of files. Both train and test sets hold 12500 good and bad movie reviews. First we split texts and labels."
   ]
  },
  {
   "cell_type": "code",
   "execution_count": 38,
   "metadata": {
    "_cell_guid": "aa499b93-4331-4dce-8b9d-ab3c77afec52",
    "_uuid": "4c219655c397260e2264555513dd27fb91515454",
    "collapsed": true
   },
   "outputs": [],
   "source": [
    "import pickle"
   ]
  },
  {
   "cell_type": "code",
   "execution_count": 39,
   "metadata": {
    "_cell_guid": "a1827aa1-5bc7-4838-bb01-68792de451b6",
    "_uuid": "e719b5b6c976cf9daf10a9f3b7c35b4cde79b057",
    "collapsed": true
   },
   "outputs": [],
   "source": [
    "# path_to_movies = os.path.expanduser('/Users/y.kashnitsky/Documnents/imdb_reviews')\n",
    "# reviews_train = load_files(os.path.join(path_to_movies, 'train'))\n",
    "with open(os.path.join(PATH_TO_ALL_DATA, 'reviews_train.pkl'), 'rb') as reviews_train_pkl:\n",
    "    reviews_train = pickle.load(reviews_train_pkl)\n",
    "text_train, y_train = reviews_train.data, reviews_train.target"
   ]
  },
  {
   "cell_type": "code",
   "execution_count": 40,
   "metadata": {
    "_cell_guid": "db550541-630a-47a5-8b98-246d94a3fb33",
    "_uuid": "593032d9be6e7aff583e0c7ba40e3e801b136edf"
   },
   "outputs": [
    {
     "name": "stdout",
     "output_type": "stream",
     "text": [
      "Number of documents in training data: 25000\n",
      "[12500 12500]\n"
     ]
    }
   ],
   "source": [
    "print(\"Number of documents in training data: %d\" % len(text_train))\n",
    "print(np.bincount(y_train))"
   ]
  },
  {
   "cell_type": "markdown",
   "metadata": {
    "_cell_guid": "50ea99f8-6680-4a77-b3fb-a9fb18fd11b3",
    "_uuid": "6cd9d12d23bec99ee3df859934378ed1a911be22"
   },
   "source": [
    "The same for the test set."
   ]
  },
  {
   "cell_type": "code",
   "execution_count": 41,
   "metadata": {
    "_cell_guid": "ce60fd02-e5d4-40aa-a5db-33556ef7063f",
    "_uuid": "8fea469dd838a26671f234d54cf82d6f57188e73"
   },
   "outputs": [
    {
     "name": "stdout",
     "output_type": "stream",
     "text": [
      "Number of documents in test data: 25000\n",
      "[12500 12500]\n"
     ]
    }
   ],
   "source": [
    "# reviews_test = load_files(os.path.join(path_to_movies, 'test'))\n",
    "with open(os.path.join(PATH_TO_ALL_DATA, 'reviews_test.pkl'), 'rb') as reviews_test_pkl:\n",
    "    reviews_test = pickle.load(reviews_test_pkl)\n",
    "text_test, y_test = reviews_test.data, reviews_train.target\n",
    "print(\"Number of documents in test data: %d\" % len(text_test))\n",
    "print(np.bincount(y_test))"
   ]
  },
  {
   "cell_type": "markdown",
   "metadata": {
    "_cell_guid": "a7f87c80-8d74-47f1-9d47-cd31542da37d",
    "_uuid": "d37600cecaa2fd716479ed286ca9985380722c40"
   },
   "source": [
    "Examples of some reviews and corresponding labels."
   ]
  },
  {
   "cell_type": "code",
   "execution_count": 42,
   "metadata": {
    "_cell_guid": "213017e1-25f0-4d08-8d9c-5341b449b8f6",
    "_uuid": "aea5acfcef80c4006dbcab233d237d2cd091ab48"
   },
   "outputs": [
    {
     "data": {
      "text/plain": [
       "b\"Zero Day leads you to think, even re-think why two boys/young men would do what they did - commit mutual suicide via slaughtering their classmates. It captures what must be beyond a bizarre mode of being for two humans who have decided to withdraw from common civility in order to define their own/mutual world via coupled destruction.<br /><br />It is not a perfect movie but given what money/time the filmmaker and actors had - it is a remarkable product. In terms of explaining the motives and actions of the two young suicide/murderers it is better than 'Elephant' - in terms of being a film that gets under our 'rationalistic' skin it is a far, far better film than almost anything you are likely to see. <br /><br />Flawed but honest with a terrible honesty.\""
      ]
     },
     "execution_count": 42,
     "metadata": {},
     "output_type": "execute_result"
    }
   ],
   "source": [
    "text_train[0]"
   ]
  },
  {
   "cell_type": "code",
   "execution_count": 43,
   "metadata": {
    "_cell_guid": "23c8ca4d-7287-406a-8381-f9c9c095f1b7",
    "_uuid": "976c29d60e5fc1da27e36b5c34dd1fa4185cd083"
   },
   "outputs": [
    {
     "data": {
      "text/plain": [
       "1"
      ]
     },
     "execution_count": 43,
     "metadata": {},
     "output_type": "execute_result"
    }
   ],
   "source": [
    "y_train[0] # good review"
   ]
  },
  {
   "cell_type": "code",
   "execution_count": 44,
   "metadata": {
    "_cell_guid": "b4cd5590-5952-4388-9960-37702e78be4f",
    "_uuid": "2fe24a84eb18599fb67664a63e3b2178ee29ee26"
   },
   "outputs": [
    {
     "data": {
      "text/plain": [
       "b'Words can\\'t describe how bad this movie is. I can\\'t explain it by writing only. You have too see it for yourself to get at grip of how horrible a movie really can be. Not that I recommend you to do that. There are so many clich\\xc3\\xa9s, mistakes (and all other negative things you can imagine) here that will just make you cry. To start with the technical first, there are a LOT of mistakes regarding the airplane. I won\\'t list them here, but just mention the coloring of the plane. They didn\\'t even manage to show an airliner in the colors of a fictional airline, but instead used a 747 painted in the original Boeing livery. Very bad. The plot is stupid and has been done many times before, only much, much better. There are so many ridiculous moments here that i lost count of it really early. Also, I was on the bad guys\\' side all the time in the movie, because the good guys were so stupid. \"Executive Decision\" should without a doubt be you\\'re choice over this one, even the \"Turbulence\"-movies are better. In fact, every other movie in the world is better than this one.'"
      ]
     },
     "execution_count": 44,
     "metadata": {},
     "output_type": "execute_result"
    }
   ],
   "source": [
    "text_train[1]"
   ]
  },
  {
   "cell_type": "code",
   "execution_count": 45,
   "metadata": {
    "_cell_guid": "0faa88f7-c96d-4073-9b16-b6d68d31d354",
    "_uuid": "f64122c2e93648b75494df26b1de4bf01358df35"
   },
   "outputs": [
    {
     "data": {
      "text/plain": [
       "0"
      ]
     },
     "execution_count": 45,
     "metadata": {},
     "output_type": "execute_result"
    }
   ],
   "source": [
    "y_train[1] # bad review"
   ]
  },
  {
   "cell_type": "code",
   "execution_count": 46,
   "metadata": {
    "_cell_guid": "23032bfe-25d1-4f79-b24e-a4cb69f44127",
    "_uuid": "0ce9e75db41712f6f9161f9d6cd8000381a5b3ba"
   },
   "outputs": [
    {
     "data": {
      "text/plain": [
       "'1 |text words can describe how bad this movie can explain writing only you have too see for yourself get grip how horrible movie really can not that recommend you that there are many clich xc3 xa9s mistakes and all other negative things you can imagine here that will just make you cry start with the technical first there are lot mistakes regarding the airplane won list them here but just mention the coloring the plane they didn even manage show airliner the colors fictional airline but instead used 747 painted the original boeing livery very bad the plot stupid and has been done many times before only much much better there are many ridiculous moments here that lost count really early also was the bad guys side all the time the movie because the good guys were stupid executive decision should without doubt you choice over this one even the turbulence movies are better fact every other movie the world better than this one\\n'"
      ]
     },
     "execution_count": 46,
     "metadata": {},
     "output_type": "execute_result"
    }
   ],
   "source": [
    "to_vw_format(str(text_train[1]), 1 if y_train[0] == 1 else -1)"
   ]
  },
  {
   "cell_type": "markdown",
   "metadata": {
    "_cell_guid": "886409fe-bdbf-4e09-9091-1912143715b9",
    "_uuid": "844598ae3aa0064ecfb4cb778df0c555a6b91403"
   },
   "source": [
    "Now we prepare training (`movie_reviews_train.vw`), validation (`movie_reviews_valid.vw`) and test (`movie_reviews_test.vw`) sets for Vowpal Wabbit. 70% of training set we hold for training process, 30% – for hold-out set."
   ]
  },
  {
   "cell_type": "code",
   "execution_count": 47,
   "metadata": {
    "_cell_guid": "c08edd2b-7290-4e70-9072-895e33923d44",
    "_uuid": "7309769413ef059831390aea012334a5d7482817",
    "collapsed": true
   },
   "outputs": [],
   "source": [
    "train_share = int(0.7 * len(text_train))\n",
    "train, valid = text_train[:train_share], text_train[train_share:]\n",
    "train_labels, valid_labels = y_train[:train_share], y_train[train_share:]"
   ]
  },
  {
   "cell_type": "code",
   "execution_count": 48,
   "metadata": {
    "_cell_guid": "a30cddd4-fceb-46ca-87a8-1b7b7d3b36d1",
    "_uuid": "9154377a268f463e98c17432a84a77d03e68052e"
   },
   "outputs": [
    {
     "data": {
      "text/plain": [
       "(17500, 7500)"
      ]
     },
     "execution_count": 48,
     "metadata": {},
     "output_type": "execute_result"
    }
   ],
   "source": [
    "len(train_labels), len(valid_labels)"
   ]
  },
  {
   "cell_type": "code",
   "execution_count": 49,
   "metadata": {
    "_cell_guid": "6d25382f-b135-47f8-a82c-2568ad02f9ff",
    "_uuid": "cce438177377598771a890dc94651de5a6a8495e",
    "collapsed": true
   },
   "outputs": [],
   "source": [
    "# with open('movie_reviews_train.vw', 'w') as vw_train_data:\n",
    "#     for text, target in zip(train, train_labels):\n",
    "#         vw_train_data.write(to_vw_format(str(text), 1 if target == 1 else -1))\n",
    "# with open('movie_reviews_valid.vw', 'w') as vw_train_data:\n",
    "#     for text, target in zip(valid, valid_labels):\n",
    "#         vw_train_data.write(to_vw_format(str(text), 1 if target == 1 else -1))\n",
    "# with open('movie_reviews_test.vw', 'w') as vw_test_data:\n",
    "#     for text in text_test:\n",
    "#         vw_test_data.write(to_vw_format(str(text)))"
   ]
  },
  {
   "cell_type": "code",
   "execution_count": 50,
   "metadata": {
    "_cell_guid": "cb999742-8ad7-428d-8f66-f015d38de4f8",
    "_uuid": "8d87247a0d044e81b545e37ffaa59a96712a252f"
   },
   "outputs": [
    {
     "name": "stdout",
     "output_type": "stream",
     "text": [
      "1 |text zero day leads you think even think why two boys young men would what they did commit mutual suicide via slaughtering their classmates captures what must beyond bizarre mode being for two humans who have decided withdraw from common civility order define their own mutual world via coupled destruction not perfect movie but given what money time the filmmaker and actors had remarkable product terms explaining the motives and actions the two young suicide murderers better than elephant terms being film that gets under our rationalistic skin far far better film than almost anything you are likely see flawed but honest with terrible honesty\r\n",
      "-1 |text words can describe how bad this movie can explain writing only you have too see for yourself get grip how horrible movie really can not that recommend you that there are many clich xc3 xa9s mistakes and all other negative things you can imagine here that will just make you cry start with the technical first there are lot mistakes regarding the airplane won list them here but just mention the coloring the plane they didn even manage show airliner the colors fictional airline but instead used 747 painted the original boeing livery very bad the plot stupid and has been done many times before only much much better there are many ridiculous moments here that lost count really early also was the bad guys side all the time the movie because the good guys were stupid executive decision should without doubt you choice over this one even the turbulence movies are better fact every other movie the world better than this one\r\n"
     ]
    }
   ],
   "source": [
    "!head -2 $PATH_TO_ALL_DATA/movie_reviews_train.vw"
   ]
  },
  {
   "cell_type": "code",
   "execution_count": 51,
   "metadata": {
    "_cell_guid": "f25cd0d3-1767-41f1-b7bf-096224619bc5",
    "_uuid": "b63440f7ffebc472ecbe54d8e3aef8c3a3b75fa1"
   },
   "outputs": [
    {
     "name": "stdout",
     "output_type": "stream",
     "text": [
      "1 |text matter life and death what can you really say that would properly justice the genius and beauty this film powell and pressburger visual imagination knows bounds every frame filled with fantastically bold compositions the switches between the bold colours the real world the stark black and white heaven ingenious showing visually just how much more vibrant life the final court scene also fantastic the judge and jury descend the stairway heaven hold court over peter david niven operation all the performances are spot roger livesey being standout and the romantic energy the film beautiful never has there been more romantic film than this there has haven seen matter life and death all about the power love and just how important life and jack cardiff cinematography reason enough watch the film alone the way lights kim hunter face makes her all the more beautiful what genius can make simple things such game table tennis look exciting and the sound design also impeccable the way the sound mutes vital points was decision way ahead its time this true classic that can restore anyone faith cinema under appreciated its initial release and today audiences but one all time favourites which why give this film word beautiful\r\n",
      "1 |text while this was better movie than 101 dalmations live action not animated version think still fell little short what disney could was well filmed the music was more suited the action and the effects were better done compared 101 the acting was perhaps better but then the human characters were given far more appropriate roles this sequel and glenn close really not missed the first movie she makes shine her poor lackey and the overzealous furrier sidekicks are wonderful characters play off and they add the spectacle disney has given this great family film with little objectionable material and yet remains fun and interesting for adults and children alike bound classic many disney films are here hoping the third will even better still because you know they probably want make one\r\n"
     ]
    }
   ],
   "source": [
    "!head -2 $PATH_TO_ALL_DATA/movie_reviews_valid.vw"
   ]
  },
  {
   "cell_type": "code",
   "execution_count": 52,
   "metadata": {
    "_cell_guid": "eaa1a658-e6e0-42f1-9c30-14be762fc7d9",
    "_uuid": "fd4e364bad19a64110f7ec839a56a2776222306c"
   },
   "outputs": [
    {
     "name": "stdout",
     "output_type": "stream",
     "text": [
      " |text don hate heather graham because she beautiful hate her because she fun watch this movie like the hip clothing and funky surroundings the actors this flick work well together casey affleck hysterical and heather graham literally lights the screen the minor characters goran visnjic sigh and patricia velazquez are talented they are gorgeous congratulations miramax director lisa krueger\r\n",
      " |text don know how this movie has received many positive comments one can call artistic and beautifully filmed but those things don make for the empty plot that was filled with sexual innuendos wish had not wasted time watch this movie rather than being biographical was poor excuse for promoting strange and lewd behavior was just another hollywood attempt convince that that kind life normal and from the very beginning asked self what was the point this movie and continued watching hoping that would change and was quite disappointed that continued the same vein glad did not spend the money see this theater\r\n"
     ]
    }
   ],
   "source": [
    "!head -2 $PATH_TO_ALL_DATA/movie_reviews_test.vw"
   ]
  },
  {
   "cell_type": "markdown",
   "metadata": {
    "_cell_guid": "0cedab5e-5896-4439-beeb-96b268382587",
    "_uuid": "6403759f3d06322ee2b8e4017f181bc9681661ea"
   },
   "source": [
    "**Now we launch Vowpal Wabbit with the following arguments:**\n",
    "\n",
    " - -d, path to training set (corresponding .vw file)\n",
    " - --loss_function – hinge (feel free to experiment here)\n",
    " - -f – path to the output file (which can also be in the .vw format)"
   ]
  },
  {
   "cell_type": "code",
   "execution_count": 53,
   "metadata": {
    "_cell_guid": "89094f9e-7453-4137-87b0-21df78627ae6",
    "_uuid": "4e27dea292bfde2224e802d60c00aad0fbac3274",
    "collapsed": true
   },
   "outputs": [],
   "source": [
    "# !vw -d $PATH_TO_ALL_DATA/movie_reviews_train.vw --loss_function hinge \\\n",
    "# -f $PATH_TO_ALL_DATA/movie_reviews_model.vw --quiet"
   ]
  },
  {
   "cell_type": "markdown",
   "metadata": {
    "_cell_guid": "7653ab5e-de84-47c0-9981-80fbd6a04783",
    "_uuid": "66ccbe8a95fea95703c28f21af5f6b9a3dcd87f6"
   },
   "source": [
    "Now we are going to make the hold-out prediction with the following VW arguments:\n",
    " - -i –path to the trained model (.vw file)\n",
    " - -t -d – path to hold-out set (.vw file) \n",
    " - -p – path to a txt-file where the predictions will be stored"
   ]
  },
  {
   "cell_type": "code",
   "execution_count": 54,
   "metadata": {
    "_cell_guid": "7fbac967-4a81-4eff-9d31-721a197ed568",
    "_uuid": "c8ae7e58aeacc3e88910b62aff684ab12fb970e1",
    "collapsed": true
   },
   "outputs": [],
   "source": [
    "# !vw -i $PATH_TO_ALL_DATA/movie_reviews_model.vw -t \\\n",
    "# -d $PATH_TO_ALL_DATA/movie_reviews_valid.vw -p $PATH_TO_ALL_DATA/movie_valid_pred.txt --quiet"
   ]
  },
  {
   "cell_type": "markdown",
   "metadata": {
    "_cell_guid": "5fa99f83-de1f-42d7-97ba-52da84c086f8",
    "_uuid": "9664438878f6d1c633bc67ee13266b929bab7dd0"
   },
   "source": [
    "Now we read predictions from file and estimate accuracy and ROC AUC. Note that VW prints probability estimates of +1 class. These estimates are distributed from  -1 to 1, so we convert these into binary answera (0 or 1) assuming that positive values belong to class 1."
   ]
  },
  {
   "cell_type": "code",
   "execution_count": 55,
   "metadata": {
    "_cell_guid": "609497c1-de20-436d-9910-018316f36e8e",
    "_uuid": "8cce125db3a615ff84b0892819f1b5f7c680a3e2"
   },
   "outputs": [
    {
     "name": "stdout",
     "output_type": "stream",
     "text": [
      "Accuracy: 0.885\n",
      "AUC: 0.942\n"
     ]
    }
   ],
   "source": [
    "with open(os.path.join(PATH_TO_ALL_DATA, 'movie_valid_pred.txt')) as pred_file:\n",
    "    valid_prediction = [float(label) \n",
    "                             for label in pred_file.readlines()]\n",
    "print(\"Accuracy: {}\".format(round(accuracy_score(valid_labels, \n",
    "               [int(pred_prob > 0) for pred_prob in valid_prediction]), 3)))\n",
    "print(\"AUC: {}\".format(round(roc_auc_score(valid_labels, valid_prediction), 3)))"
   ]
  },
  {
   "cell_type": "markdown",
   "metadata": {
    "_cell_guid": "699aac8c-8b17-4df1-9258-45f997ae0f79",
    "_uuid": "d19e8357504987994c53d41ea373891aab41afa6"
   },
   "source": [
    "And the same for the test set."
   ]
  },
  {
   "cell_type": "code",
   "execution_count": 56,
   "metadata": {
    "_cell_guid": "aaa8c5c7-aa05-4cdd-a06e-bf7325972691",
    "_uuid": "36f5d2d1336d537c95947e884207ecffe18e2d91",
    "collapsed": true
   },
   "outputs": [],
   "source": [
    "# !vw -i $PATH_TO_ALL_DATA/movie_reviews_model.vw -t \n",
    "# -d $PATH_TO_ALL_DATA/movie_reviews_test.vw \\\n",
    "# -p $PATH_TO_ALL_DATA/movie_test_pred.txt --quiet"
   ]
  },
  {
   "cell_type": "code",
   "execution_count": 57,
   "metadata": {
    "_cell_guid": "7a61e739-89f4-44d1-a290-9ad2be4bdffd",
    "_uuid": "b3cf5f3efa4dbaf05baff4f4900c61665f2d9fee"
   },
   "outputs": [
    {
     "name": "stdout",
     "output_type": "stream",
     "text": [
      "Accuracy: 0.88\n",
      "AUC: 0.94\n"
     ]
    }
   ],
   "source": [
    "with open(os.path.join(PATH_TO_ALL_DATA, 'movie_test_pred.txt')) as pred_file:\n",
    "    test_prediction = [float(label) \n",
    "                             for label in pred_file.readlines()]\n",
    "print(\"Accuracy: {}\".format(round(accuracy_score(y_test, \n",
    "               [int(pred_prob > 0) for pred_prob in test_prediction]), 3)))\n",
    "print(\"AUC: {}\".format(round(roc_auc_score(y_test, test_prediction), 3)))"
   ]
  },
  {
   "cell_type": "markdown",
   "metadata": {
    "_cell_guid": "b5ecbd7f-1bf9-496a-a35f-f82a1ea2db10",
    "_uuid": "45c4a3badafdf39fc53a6bbc32d2c43b15b88c98"
   },
   "source": [
    "Now we try to achieve higher accuracy by incorporating bigrams."
   ]
  },
  {
   "cell_type": "code",
   "execution_count": 58,
   "metadata": {
    "_cell_guid": "c5b25dce-c730-4031-8938-1b9fa64575b6",
    "_uuid": "98fbb3a6f858b362aef8f797469075eec9072aaf",
    "collapsed": true
   },
   "outputs": [],
   "source": [
    "# !vw -d $PATH_TO_ALL_DATA/movie_reviews_train.vw \\\n",
    "# --loss_function hinge --ngram 2 -f $PATH_TO_ALL_DATA/movie_reviews_model2.vw --quiet"
   ]
  },
  {
   "cell_type": "code",
   "execution_count": 59,
   "metadata": {
    "_cell_guid": "17ceb519-ab1f-4184-b9c2-9eb925b32ea8",
    "_uuid": "48aa4c0a6c58be2781ed607a2393de37083345ae",
    "collapsed": true
   },
   "outputs": [],
   "source": [
    "# !vw -i$PATH_TO_ALL_DATA/ movie_reviews_model2.vw -t -d $PATH_TO_ALL_DATA/movie_reviews_valid.vw \\\n",
    "# -p $PATH_TO_ALL_DATA/movie_valid_pred2.txt --quiet"
   ]
  },
  {
   "cell_type": "code",
   "execution_count": 60,
   "metadata": {
    "_cell_guid": "d1c01554-e2b6-4a55-97b9-0d17c8b26686",
    "_uuid": "be78a33c70c03e1bc9a48a25e804248930fba2c2"
   },
   "outputs": [
    {
     "name": "stdout",
     "output_type": "stream",
     "text": [
      "Accuracy: 0.894\n",
      "AUC: 0.954\n"
     ]
    }
   ],
   "source": [
    "with open(os.path.join(PATH_TO_ALL_DATA, 'movie_valid_pred2.txt')) as pred_file:\n",
    "    valid_prediction = [float(label) \n",
    "                             for label in pred_file.readlines()]\n",
    "print(\"Accuracy: {}\".format(round(accuracy_score(valid_labels, \n",
    "               [int(pred_prob > 0) for pred_prob in valid_prediction]), 3)))\n",
    "print(\"AUC: {}\".format(round(roc_auc_score(valid_labels, valid_prediction), 3)))"
   ]
  },
  {
   "cell_type": "code",
   "execution_count": 61,
   "metadata": {
    "_cell_guid": "3015a9e6-f814-4beb-9d37-f8c6a2e2c546",
    "_uuid": "f1aa2121a7ee92577ad4058b0688f8290d24e1d5",
    "collapsed": true
   },
   "outputs": [],
   "source": [
    "# !vw -i $PATH_TO_ALL_DATA/movie_reviews_model2.vw -t -d $PATH_TO_ALL_DATA/movie_reviews_test.vw \\\n",
    "# -p $PATH_TO_ALL_DATA/movie_test_pred2.txt --quiet"
   ]
  },
  {
   "cell_type": "code",
   "execution_count": 62,
   "metadata": {
    "_cell_guid": "527e0327-b208-47a0-9853-2e1bd06beb38",
    "_uuid": "22b7b6feb376fcbd44faf942914afaade9368b30"
   },
   "outputs": [
    {
     "name": "stdout",
     "output_type": "stream",
     "text": [
      "Accuracy: 0.888\n",
      "AUC: 0.952\n"
     ]
    }
   ],
   "source": [
    "with open(os.path.join(PATH_TO_ALL_DATA, 'movie_test_pred2.txt')) as pred_file:\n",
    "    test_prediction2 = [float(label) \n",
    "                             for label in pred_file.readlines()]\n",
    "print(\"Accuracy: {}\".format(round(accuracy_score(y_test, \n",
    "               [int(pred_prob > 0) for pred_prob in test_prediction2]), 3)))\n",
    "print(\"AUC: {}\".format(round(roc_auc_score(y_test, test_prediction2), 3)))"
   ]
  },
  {
   "cell_type": "markdown",
   "metadata": {
    "_cell_guid": "a8c85011-e7d2-42c5-8294-34177d6de387",
    "_uuid": "63990db5f343a0e9f44c0069091a66d9f35b954b"
   },
   "source": [
    "Bigrams really bettered our model!"
   ]
  },
  {
   "cell_type": "markdown",
   "metadata": {
    "_cell_guid": "22c8f4bc-07db-44ab-aed5-cab6db73689d",
    "_uuid": "b6c7d300b2f4c9d50358345c5145780f201745ea"
   },
   "source": [
    "# 3.4. Classifying gigabytes of StackOverflow questions"
   ]
  },
  {
   "cell_type": "markdown",
   "metadata": {
    "_cell_guid": "f3e9b72a-cc49-49c4-b663-b7df4632cf69",
    "_uuid": "a84523499443d63d08abe83c7a6ebe5bd7c63bf2"
   },
   "source": [
    "Now it is time to actually work with large datasets and Vowpal Wabbit. There is a 10 GiB dataset of StackOverflow questions [here](https://cloud.mail.ru/public/3bwi/bFYHDN5S5), the processed version is [here](https://drive.google.com/file/d/16swTa27pisOUu11Ap5_0HSS0A6L5RvvZ/view?usp=sharing). The original dataset is compised of 10 million questions, every question can have several tags. Data is quite clean, so don't call it \"Big Data\" even in a pub :)\n",
    "\n",
    "<img src='https://habrastorage.org/files/94f/314/7e1/94f3147e107c45dc80a42d29cf6d0e6e.jpg' width=50%>\n",
    "\n",
    "We chose only 10 tags (namely, 'javascript', 'java', 'python', 'ruby', 'php', 'c++', 'c#', 'go', 'scala' and 'swift'), and solve 10-class classification problem: we want to predict a tag corresponding to one of 10 popular programming languages, given only the texto f this question."
   ]
  },
  {
   "cell_type": "code",
   "execution_count": 63,
   "metadata": {
    "_cell_guid": "ab910dd7-922e-4d85-825e-68fee0005a31",
    "_uuid": "c01e42904278e7f21df1109e8afed96515538e36",
    "collapsed": true
   },
   "outputs": [],
   "source": [
    "# change the path to data\n",
    "# PATH_TO_STACKOVERFLOW_DATA = '/Users/y.kashnitsky/Documents/stackoverflow'"
   ]
  },
  {
   "cell_type": "markdown",
   "metadata": {
    "_cell_guid": "299a2038-eda6-4cac-96ff-638b39993c56",
    "_uuid": "2cce7434f48c59e765ca04980921d26bd51087ff"
   },
   "source": [
    "These are first 3 lines from a sample of the dataset."
   ]
  },
  {
   "cell_type": "code",
   "execution_count": 64,
   "metadata": {
    "_cell_guid": "6477773a-6537-46b4-a97e-b65228ae7028",
    "_uuid": "88d65c52c98bf7134a2a4a86e31a5e5c76b093a3"
   },
   "outputs": [
    {
     "name": "stdout",
     "output_type": "stream",
     "text": [
      "1 | i ve got some code in window scroll that checks if an element is visible then triggers another function however only the first section of code is firing both bits of code work in and of themselves if i swap their order whichever is on top fires correctly my code is as follows fn isonscreen function use strict var win window viewport top win scrolltop left win scrollleft bounds this offset viewport right viewport left + win width viewport bottom viewport top + win height bounds right bounds left + this outerwidth bounds bottom bounds top + this outerheight return viewport right lt bounds left viewport left gt bounds right viewport bottom lt bounds top viewport top gt bounds bottom window scroll function use strict var load_more_results ajax load_more_results isonscreen if load_more_results true loadmoreresults var load_more_staff ajax load_more_staff isonscreen if load_more_staff true loadmorestaff what am i doing wrong can you only fire one event from window scroll i assume not\r\n",
      "4 | redefining some constant in ruby ex foo bar generates the warning already initialized constant i m trying to write a sort of reallyconstants module where this code should have this behaviour reallyconstants define_constant foo bar gt sets the constant reallyconstants foo to bar reallyconstants foo gt bar reallyconstants foo foobar gt this should raise an exception that is constant redefinition should generate an exception is that possible\r\n",
      "1 | in my form panel i added a checkbox setting stateful true stateid loginpanelremeberme then before sending form i save state calling this savestate on the panel all other componenets save their state and whe i reload the page they recall the previous state but checkbox alway start in unchecked state is there any way to force save value\r\n"
     ]
    }
   ],
   "source": [
    "!head -3 $PATH_TO_ALL_DATA/stackoverflow_sample.vw"
   ]
  },
  {
   "cell_type": "markdown",
   "metadata": {
    "_cell_guid": "c6f3878f-14dc-4db7-8a7e-342bd50c2064",
    "_uuid": "ede9d5f834bcafe602ede57580d43cc9c66bf367"
   },
   "source": [
    "After selecting 10 tags we have 4.7G set which is divided into train, and test parts."
   ]
  },
  {
   "cell_type": "code",
   "execution_count": 65,
   "metadata": {
    "_cell_guid": "0af42cdc-e0a2-4f14-a01b-c06814555a31",
    "_uuid": "f129a969cb8f794c741ed2ae83189155389d976e",
    "collapsed": true
   },
   "outputs": [],
   "source": [
    "# !du -hs $PATH_TO_STACKOVERFLOW_DATA/stackoverflow_*.vw\n",
    "# 4,7G stackoverflow_10mln.vw\n",
    "# 1,6G stackoverflow_test.vw\n",
    "# 3,1G stackoverflow_train.vw"
   ]
  },
  {
   "cell_type": "markdown",
   "metadata": {
    "_cell_guid": "d4d62394-a317-49b2-bcf8-143ad1088803",
    "_uuid": "b13bba2f5490e6032a262f22812f8ebc71e20df7"
   },
   "source": [
    "We will process training part of the dataset (3.1 GiB) with Vowpal Wabbit and the following arguments: \n",
    "- -oaa 10 – mark for multiclass classification with 10 classes\n",
    "- -d – path to data\n",
    "- -f – path to output file of the trained model\n",
    "- -b 28 – we will use 28 bits for hashing resulting in the $2^{28}$-sized feature space\n",
    "- fix random seed for reproducibility"
   ]
  },
  {
   "cell_type": "code",
   "execution_count": 66,
   "metadata": {
    "_cell_guid": "b442e9c2-f882-4a50-8d86-5f20af65680f",
    "_uuid": "e958864c6d5f006d01b846a1af40f28943303369",
    "collapsed": true
   },
   "outputs": [],
   "source": [
    "# %%time\n",
    "# !vw --oaa 10 -d $PATH_TO_STACKOVERFLOW_DATA/stackoverflow_train.vw \\\n",
    "# -f vw_model1_10mln.vw -b 28 --random_seed 17 --quiet\n",
    "# CPU times: user 567 ms, sys: 212 ms, total: 778 ms\n",
    "# Wall time: 36.5 s"
   ]
  },
  {
   "cell_type": "code",
   "execution_count": 67,
   "metadata": {
    "_cell_guid": "084d7a47-841b-48ea-8a99-2a73f6fc623d",
    "_uuid": "966f6361ac0b979a32f769f10b2bfa885b04f497",
    "collapsed": true
   },
   "outputs": [],
   "source": [
    "# %%time\n",
    "# !vw -t -i vw_model1_10mln.vw -d $PATH_TO_STACKOVERFLOW_DATA/stackoverflow_test.vw \\\n",
    "# -p vw_test_pred.csv --random_seed 17 --quiet\n",
    "# CPU times: user 222 ms, sys: 86.4 ms, total: 308 ms\n",
    "# Wall time: 14.4 s"
   ]
  },
  {
   "cell_type": "code",
   "execution_count": 68,
   "metadata": {
    "_cell_guid": "5b687d6d-2184-447b-83d3-d9d821afc7ed",
    "_uuid": "23ba328602f55cb4e93103c46f2f4866645dbd94"
   },
   "outputs": [
    {
     "data": {
      "text/plain": [
       "0.91728604842865913"
      ]
     },
     "execution_count": 68,
     "metadata": {},
     "output_type": "execute_result"
    }
   ],
   "source": [
    "vw_pred = np.loadtxt(os.path.join(PATH_TO_ALL_DATA, 'vw_test_pred.csv'))\n",
    "test_labels = np.loadtxt(os.path.join(PATH_TO_ALL_DATA, 'stackoverflow_test_labels.txt'))\n",
    "accuracy_score(test_labels, vw_pred)"
   ]
  },
  {
   "cell_type": "markdown",
   "metadata": {
    "_cell_guid": "832a61d7-5d5e-411a-b6e3-e0817b2db0b1",
    "_uuid": "623eef2b8d8b5afe558fd92279ef6e847071d247"
   },
   "source": [
    "The model has trained and predicted in less than a minute (check it, the results are reported for MacBook Pro Mid 2015, 2,2 GHz Intel Core i7, 16 Gib RAM) and got almost 92% accuracy. Without any Hadoop cluster! :) Impressing, isn't is?"
   ]
  },
  {
   "cell_type": "markdown",
   "metadata": {
    "_cell_guid": "95562a45-b8e2-45d0-be5c-5780f051ecb4",
    "_uuid": "e5f0a612859c499651f051fd78df3d34ad2e3c30"
   },
   "source": [
    "# 4. VW and Spooky Author Identification\n",
    "And finally, we'll try to use Vowpal Wabbit in the task of identifiyng one of the three authors (Edgar Allan Poe, Mary Shelley, or HP Lovecraft) given pieces of their spooky texts."
   ]
  },
  {
   "cell_type": "markdown",
   "metadata": {
    "_cell_guid": "b1b1964c-cf0e-4088-ade7-21006e0c874c",
    "_uuid": "0c2aab70a5a745e06cc8bcde84c9e6fb08a5cc69"
   },
   "source": [
    "Let's load the data."
   ]
  },
  {
   "cell_type": "code",
   "execution_count": 69,
   "metadata": {
    "_cell_guid": "5f040180-4640-4206-8abd-339d8ce61c93",
    "_uuid": "0b44a05dad55dfc07145f6a6d5b3b6fb9a394ffe",
    "collapsed": true
   },
   "outputs": [],
   "source": [
    "train_texts = pd.read_csv('../input/spooky-author-identification/train.csv', index_col='id')\n",
    "test_texts = pd.read_csv('../input/spooky-author-identification/test.csv', index_col='id')\n",
    "sample_sub = pd.read_csv('../input/spooky-author-identification/sample_submission.csv', \n",
    "                         index_col='id')"
   ]
  },
  {
   "cell_type": "markdown",
   "metadata": {
    "_cell_guid": "cfc2f205-d120-403f-819d-12fa0e1a2b08",
    "_uuid": "3f2c78853a94a9b426d92654d00b20e0c8a980d2"
   },
   "source": [
    "Let's encode the authors."
   ]
  },
  {
   "cell_type": "code",
   "execution_count": 70,
   "metadata": {
    "_cell_guid": "0f6de304-1a52-42b1-b97c-760dcd2fcd44",
    "_uuid": "d388cb3353b13c229ef9223e5c0e2e914a2aca50",
    "collapsed": true
   },
   "outputs": [],
   "source": [
    "author_code = {\"EAP\": 1, \"MWS\": 2,\"HPL\": 3}"
   ]
  },
  {
   "cell_type": "code",
   "execution_count": 71,
   "metadata": {
    "_cell_guid": "aaaf81ea-f174-4d9e-8a95-740de6d4ce08",
    "_uuid": "2b4e7c330ca91323e00d2debf5bd8c72fd100a3f",
    "collapsed": true
   },
   "outputs": [],
   "source": [
    "train_texts[\"author_code\"] = train_texts[\"author\"].map(author_code)"
   ]
  },
  {
   "cell_type": "markdown",
   "metadata": {
    "_cell_guid": "7b351e54-0547-4a03-bf04-d7afdaa318f4",
    "_uuid": "98bb8fbf4852a0594847a111b65308c71e868ad5"
   },
   "source": [
    "This is going to be our simple validation scheme, we are just using the validation hold-out set."
   ]
  },
  {
   "cell_type": "code",
   "execution_count": 72,
   "metadata": {
    "_cell_guid": "d19fa4ab-5a54-47a0-83b1-aadc9f8a9ea5",
    "_uuid": "994972e46bf3a6dd142015b7d62549432635fc5b",
    "collapsed": true
   },
   "outputs": [],
   "source": [
    "train_texts_part, valid_texts = train_test_split(train_texts, test_size=0.3, random_state=17, \n",
    "                                                 stratify=train_texts[\"author_code\"], shuffle=True)"
   ]
  },
  {
   "cell_type": "code",
   "execution_count": 73,
   "metadata": {
    "_cell_guid": "87679d34-43c2-4104-816f-2415ce4d4c17",
    "_uuid": "a1a9cee3e358d9d536dccbd40ecdcc8487233f1f"
   },
   "outputs": [
    {
     "data": {
      "text/plain": [
       "(13705, 5874)"
      ]
     },
     "execution_count": 73,
     "metadata": {},
     "output_type": "execute_result"
    }
   ],
   "source": [
    "train_texts_part.shape[0], valid_texts.shape[0]"
   ]
  },
  {
   "cell_type": "markdown",
   "metadata": {
    "_cell_guid": "43a88ac0-dfca-4c8e-b40b-b7cea4e27b83",
    "_uuid": "afe94491005fb18e4b415bc6256a7c5a0dd08557",
    "collapsed": true
   },
   "source": [
    "To begin with, we are using only texts as features. Th following code will prepare the data to be fit into VW. "
   ]
  },
  {
   "cell_type": "code",
   "execution_count": 74,
   "metadata": {
    "_cell_guid": "180cf600-c229-4735-a918-c59a88fe5754",
    "_uuid": "fff31a86630dc69a06893454302db46fba99105a",
    "collapsed": true
   },
   "outputs": [],
   "source": [
    "def to_vw_only_text(out_vw, df, is_train=True):\n",
    "    with open(out_vw, \"w\") as out:\n",
    "        for i in range(df.shape[0]):\n",
    "            \n",
    "            if is_train:\n",
    "                target = df[\"author_code\"].iloc[i]\n",
    "            else:\n",
    "                # for the test set we can pick any target label – we don't need it actually\n",
    "                target = 1 \n",
    "                       \n",
    "            # remove special VW symbols\n",
    "            text = df[\"text\"].iloc[i].strip().replace('|', '').replace(':', '').lower() \n",
    "            # leave only words of 3 and more chars\n",
    "            words = re.findall(\"\\w{3,}\", text) \n",
    "            new_text = \" \".join(words) \n",
    "\n",
    "            s = \"{} |text {}\\n\".format(target, new_text)\n",
    "\n",
    "            out.write(s)    "
   ]
  },
  {
   "cell_type": "code",
   "execution_count": 75,
   "metadata": {
    "_cell_guid": "8ef5e13d-97f4-4379-b71d-f9e38991f23d",
    "_uuid": "c94295434fd5d437368a79272bb90bc2ab65b48a",
    "collapsed": true
   },
   "outputs": [],
   "source": [
    "# to_vw_only_text(\"train_part_only_text.vw\", train_texts_part)"
   ]
  },
  {
   "cell_type": "code",
   "execution_count": 76,
   "metadata": {
    "_cell_guid": "88f178af-3918-457d-ad09-b2cff316bd3f",
    "_uuid": "6f64f2a7725c871aab6c72c325df28f441110800",
    "scrolled": true
   },
   "outputs": [
    {
     "name": "stdout",
     "output_type": "stream",
     "text": [
      "3 |text time observed further mystery the tendency certain entities appear suddenly out empty space disappear totally with equal suddenness\r\n",
      "2 |text was conveyed home and the anguish that was visible countenance betrayed the secret elizabeth\r\n"
     ]
    }
   ],
   "source": [
    "!head -2 $PATH_TO_ALL_DATA/train_part_only_text.vw"
   ]
  },
  {
   "cell_type": "code",
   "execution_count": 77,
   "metadata": {
    "_cell_guid": "780fcf80-f771-4619-b68f-441d51f9c9a0",
    "_uuid": "4a7f170cf0cc0b0719d4c9b53cdc1a49f126a121",
    "collapsed": true
   },
   "outputs": [],
   "source": [
    "# to_vw_only_text(\"valid_only_text.vw\", valid_texts)"
   ]
  },
  {
   "cell_type": "code",
   "execution_count": 78,
   "metadata": {
    "_cell_guid": "ff8d10e9-c6d9-4f8f-b316-759aa3ea0fa9",
    "_uuid": "4e0970e6ea1231fa365ab016e281ee9677fe7a89"
   },
   "outputs": [
    {
     "name": "stdout",
     "output_type": "stream",
     "text": [
      "1 |text hair which had been raven black the day before was white you see now\r\n",
      "1 |text the city was comparative repose\r\n"
     ]
    }
   ],
   "source": [
    "!head -2 $PATH_TO_ALL_DATA/valid_only_text.vw"
   ]
  },
  {
   "cell_type": "code",
   "execution_count": 79,
   "metadata": {
    "_cell_guid": "9b4ca160-eb19-4df4-9b5f-81203491a847",
    "_uuid": "5faa7a7a017e14d76a7b6a42b1d6fa9350ad601c",
    "collapsed": true
   },
   "outputs": [],
   "source": [
    "# to_vw_only_text(\"train_only_text.vw\", train_texts)"
   ]
  },
  {
   "cell_type": "code",
   "execution_count": 80,
   "metadata": {
    "_cell_guid": "80d5621d-fff7-4a82-9ce8-60fd96b4b6d0",
    "_uuid": "0712ca776ea1ee9d72fadef546af2257c9eec69c"
   },
   "outputs": [
    {
     "name": "stdout",
     "output_type": "stream",
     "text": [
      "1 |text this process however afforded means ascertaining the dimensions dungeon might make its circuit and return the point whence set out without being aware the fact perfectly uniform seemed the wall\r\n",
      "3 |text never once occurred that the fumbling might mere mistake\r\n"
     ]
    }
   ],
   "source": [
    "!head -2 $PATH_TO_ALL_DATA/train_only_text.vw"
   ]
  },
  {
   "cell_type": "code",
   "execution_count": 81,
   "metadata": {
    "_cell_guid": "969b682c-9c82-48a0-9d29-a994d99ba4c4",
    "_uuid": "9b2dd32dfd675560a0994dd2ec88b3d6b4c697fa",
    "collapsed": true
   },
   "outputs": [],
   "source": [
    "# to_vw_only_text(\"test_only_text.vw\", test_texts, is_train=False)"
   ]
  },
  {
   "cell_type": "code",
   "execution_count": 82,
   "metadata": {
    "_cell_guid": "00fafdf1-61b3-499d-b0e4-6f0355a0b232",
    "_uuid": "0cb5f3918f9d44369dcd1c0c727d87cae5d8b7a3"
   },
   "outputs": [
    {
     "name": "stdout",
     "output_type": "stream",
     "text": [
      "1 |text still urged our leaving ireland with such inquietude and impatience father thought best yield\r\n",
      "1 |text fire wanted fanning could readily fanned with newspaper and the government grew weaker have doubt that leather and iron acquired durability proportion for very short time there was not pair bellows all rotterdam that ever stood need stitch required the assistance hammer\r\n"
     ]
    }
   ],
   "source": [
    "!head -2 $PATH_TO_ALL_DATA/test_only_text.vw"
   ]
  },
  {
   "cell_type": "markdown",
   "metadata": {
    "_cell_guid": "e64e7c66-82d8-4fdd-8dda-f670e112ec40",
    "_uuid": "0aa31bb86f8f80931b4403fcc68ba747e708e2bf"
   },
   "source": [
    "Here we train a VW model (actuall 3 one-against-all models), we use 28 bits for feature hashing resulting in $2^{28} \\approx 2.7 \\times 10^8$ features. The loss is set to logistic as it's works well for classification (and it's also our evaluation metric in the competition). We incorporate bigrams and perform 10 passes over the whole dataset."
   ]
  },
  {
   "cell_type": "code",
   "execution_count": 83,
   "metadata": {
    "_cell_guid": "6d76a679-9d5e-4409-ba0f-eebbf0da8af0",
    "_uuid": "105f8896584e606b85b0ccfa43dbd6cd4ebf7f2e",
    "collapsed": true
   },
   "outputs": [],
   "source": [
    "# !vw --oaa 3 train_part_only_text.vw -f model_only_text_part.vw -b 28 --random_seed 17 \\\n",
    "# --loss_function logistic --ngram 2 --passes 10 -k -c"
   ]
  },
  {
   "cell_type": "code",
   "execution_count": 84,
   "metadata": {
    "_cell_guid": "0ff6027a-01c7-40bc-8ced-da4a6fbdd898",
    "_uuid": "a566e1f5c55210ee234d15e875e7d4e44d010f62",
    "collapsed": true
   },
   "outputs": [],
   "source": [
    "# %%time\n",
    "# !vw -i model_only_text_part.vw -t -d valid_only_text.vw -p valid_pred1.txt --random_seed 17 -r valid_prob1.txt"
   ]
  },
  {
   "cell_type": "markdown",
   "metadata": {
    "_cell_guid": "1e8ce976-cf6e-496a-8032-e7181b09cedd",
    "_uuid": "d0fdbc4d36dbd085647593df674fb66bcdedd5fd"
   },
   "source": [
    "We get classification scores for each validation sample, so we'll perform sigmoid transformation to map them into [0,1] range. Further, we calculate the logistic loss between target vector in validation data set and the transformed predictions. It's handy to write a special function for all these steps."
   ]
  },
  {
   "cell_type": "code",
   "execution_count": 85,
   "metadata": {
    "_cell_guid": "61c00a14-e0a8-4bd2-8aba-b7472e306bda",
    "_uuid": "a196e84afc70c238382539e72c208296ddd7eeaa",
    "collapsed": true
   },
   "outputs": [],
   "source": [
    "def evaluate_vw_prediction(path_to_vw_pred_probs, is_test=False, target=None, write_submission=False,\n",
    "                          submission_file=None, test_index=test_texts.index, columns=['EAP', 'MWS', 'HPL']):\n",
    "    def sigmoid(z):\n",
    "        return 1 / (1 + np.exp(-z)) \n",
    "    \n",
    "    with open(path_to_vw_pred_probs) as pred_file:\n",
    "        pred_probs =  np.array([[float(pair.split(':')[1]) for pair in line.strip().split()] \n",
    "                         for line in pred_file.readlines()])\n",
    "        pred_probs  = sigmoid(pred_probs)\n",
    "        \n",
    "        if target is not None and not is_test:\n",
    "            print(log_loss(target, pred_probs))\n",
    "        \n",
    "        if write_submission and submission_file is not None:\n",
    "            subm_df = pd.DataFrame(pred_probs, columns=columns)\n",
    "            subm_df.index = test_index\n",
    "            subm_df.to_csv(submission_file)"
   ]
  },
  {
   "cell_type": "code",
   "execution_count": 86,
   "metadata": {
    "_cell_guid": "e33a4b6b-a41a-4edd-8365-bfd9a5e7743f",
    "_uuid": "c1312736898b93471cd9adb0f11e7742ae33d287"
   },
   "outputs": [
    {
     "name": "stdout",
     "output_type": "stream",
     "text": [
      "0.479509816783\n"
     ]
    }
   ],
   "source": [
    "evaluate_vw_prediction(os.path.join(PATH_TO_ALL_DATA, 'valid_prob1.txt'), \n",
    "                       target=valid_texts['author_code'])"
   ]
  },
  {
   "cell_type": "markdown",
   "metadata": {
    "_cell_guid": "e6752069-d5f1-422c-a6f4-a250050a1caa",
    "_uuid": "0a3a26446bcadea96151541f14fc1631fe87d241"
   },
   "source": [
    "Now it's high time to train VW on the full training set, make predictions for the test set and submit them to Kaggle."
   ]
  },
  {
   "cell_type": "code",
   "execution_count": 87,
   "metadata": {
    "_cell_guid": "7c7b539e-5759-4b98-8015-dda061315b51",
    "_uuid": "91ecaa2ae92ee51cb88823c3492ec8a37cf5396f",
    "collapsed": true
   },
   "outputs": [],
   "source": [
    "# !vw --oaa 3 train_only_text.vw -f model_only_text.vw -b 28 --random_seed 17 \\\n",
    "# --loss_function logistic --ngram 2 --passes 10 -k -c --quiet"
   ]
  },
  {
   "cell_type": "code",
   "execution_count": 88,
   "metadata": {
    "_cell_guid": "73f604ce-65f1-43e3-820e-e821384ac3c7",
    "_uuid": "3ff50fde59e4cdcfef60807d3d526417573140f2",
    "collapsed": true
   },
   "outputs": [],
   "source": [
    "# %%time\n",
    "# !vw -i model_only_text.vw -t -d test_only_text.vw -p test_pred1.txt --random_seed 17 -r test_prob1.txt --quiet"
   ]
  },
  {
   "cell_type": "code",
   "execution_count": 89,
   "metadata": {
    "_cell_guid": "8e57f895-ae5d-41ea-b939-7a5cba978a23",
    "_uuid": "c5b4a182dcad5803508c40b562d6db766745e46f",
    "collapsed": true
   },
   "outputs": [],
   "source": [
    "evaluate_vw_prediction(os.path.join(PATH_TO_ALL_DATA, 'test_prob1.txt'), \n",
    "                       is_test=True, write_submission=True,\n",
    "                       submission_file='submission1_only_text.csv')"
   ]
  },
  {
   "cell_type": "code",
   "execution_count": 90,
   "metadata": {
    "_cell_guid": "2c40de5d-cb99-4f07-939f-b9b0a8c2a6e1",
    "_uuid": "9ab0ff333260a630abe8f6f6e2d695197b2cdc57"
   },
   "outputs": [
    {
     "name": "stdout",
     "output_type": "stream",
     "text": [
      "id,EAP,MWS,HPL\r\n",
      "id02310,0.21302281257134767,0.7462194862375665,0.02739253612496469\r\n",
      "id24541,0.8236463649690904,0.0062378023959290705,0.143383189058737\r\n"
     ]
    }
   ],
   "source": [
    "!head -3 submission1_only_text.csv"
   ]
  },
  {
   "cell_type": "markdown",
   "metadata": {
    "_cell_guid": "e2ded01a-a2a4-4c49-8916-444ce60f40c0",
    "_uuid": "8aa060b5652870834de9bea7bec7683f8a8349a5"
   },
   "source": [
    "With this submission we get 0.43187 on the [Public Leaderboard](https://www.kaggle.com/c/spooky-author-identification/leaderboard)."
   ]
  },
  {
   "cell_type": "markdown",
   "metadata": {
    "_cell_guid": "649f265c-5171-49fe-8b7d-599f1ac7565c",
    "_uuid": "a3cd115f1102ab0a039715400684a7dd04d2325f"
   },
   "source": [
    "Let's add some features"
   ]
  },
  {
   "cell_type": "code",
   "execution_count": 91,
   "metadata": {
    "_cell_guid": "968a402a-f7ba-41a8-a37b-ad99e8ff1470",
    "_uuid": "d9d18e4023e0a5e2172e677cf3d2f6689dcd72cf",
    "collapsed": true
   },
   "outputs": [],
   "source": [
    "max_words_in_text = train_texts['text'].apply(lambda text: len(re.findall(\"\\w{3,}\", text.strip()))).max()\n",
    "max_unique_words_in_text = train_texts['text'].apply(lambda text: len(set(re.findall(\"\\w{3,}\", text.strip())))).max()\n",
    "max_aver_word_len_in_text = train_texts['text'].apply(lambda text: \n",
    "                                                      sum([len(w) for w in re.findall(\"\\w{3,}\", text.strip())]) / \n",
    "                                                      len(re.findall(\"\\w{3,}\", text.strip()))).max()"
   ]
  },
  {
   "cell_type": "code",
   "execution_count": 92,
   "metadata": {
    "_cell_guid": "14817e88-eca6-4d34-bc2c-0c2548f040a3",
    "_uuid": "d0bcdd037f3de3afbb95bb8f8f9630f8b9355cdd"
   },
   "outputs": [
    {
     "data": {
      "text/plain": [
       "(667, 400, 11.0)"
      ]
     },
     "execution_count": 92,
     "metadata": {},
     "output_type": "execute_result"
    }
   ],
   "source": [
    "max_words_in_text, max_unique_words_in_text, max_aver_word_len_in_text"
   ]
  },
  {
   "cell_type": "code",
   "execution_count": 93,
   "metadata": {
    "_cell_guid": "ba9fda37-1d11-4bf5-b47f-a5b59fce309a",
    "_uuid": "3cf86e42dc125e5dce443a8b967b051c6bc8e28b",
    "collapsed": true
   },
   "outputs": [],
   "source": [
    "def to_vw_text_and_some_features(out_vw, df, is_train=True):\n",
    "    with open(out_vw, \"w\") as out:\n",
    "        for i in range(df.shape[0]):\n",
    "            \n",
    "            if is_train:\n",
    "                target = df[\"author_code\"].iloc[i]\n",
    "            else:\n",
    "                # for the test set we can pick any target label – we don't need it actually\n",
    "                target = 1 \n",
    "                       \n",
    "            # remove special VW symbols\n",
    "            text = df[\"text\"].iloc[i].strip().replace('|', '').replace(':', '').lower() \n",
    "            # leave only words of 3 and more chars\n",
    "            words = re.findall(\"\\w{3,}\", text) \n",
    "            new_text = \" \".join(words)    \n",
    "            \n",
    "            num_words = round(len(words) / max_words_in_text, 4)\n",
    "            num_uniq_words = round(len(set(words)) / max_unique_words_in_text, 4)\n",
    "            aver_word_len = round(sum([len(w) for w in words]) / len(words) / max_aver_word_len_in_text, 4)\n",
    "\n",
    "            features = [num_words, num_uniq_words, aver_word_len] \n",
    "            features_vw = ' '.join(['{}:{}'.format(i[0], i[1]) for i in zip(range(len(features)), features)])\n",
    "            s = \"{} |text {} |num {}\\n\".format(target, new_text, features_vw)\n",
    "\n",
    "            out.write(s)   \n",
    " "
   ]
  },
  {
   "cell_type": "code",
   "execution_count": 94,
   "metadata": {
    "_cell_guid": "a3f1c58b-f4b5-4143-a5c1-a16c42fe45e6",
    "_uuid": "c67071e9c216fc5ad67a56c2fd1ad7d56500927e",
    "collapsed": true
   },
   "outputs": [],
   "source": [
    "# to_vw_text_and_some_features(\"train_part_text_feat.vw\", train_texts_part)"
   ]
  },
  {
   "cell_type": "code",
   "execution_count": 95,
   "metadata": {
    "_cell_guid": "e495d126-24ac-4b9e-a186-6e09165f3efa",
    "_uuid": "2476e90b19002504292954007a8e611d9e725b89",
    "scrolled": true
   },
   "outputs": [
    {
     "name": "stdout",
     "output_type": "stream",
     "text": [
      "3 |text time observed further mystery the tendency certain entities appear suddenly out empty space disappear totally with equal suddenness |num 0:0.027 1:0.045 2:0.5758\r\n",
      "2 |text was conveyed home and the anguish that was visible countenance betrayed the secret elizabeth |num 0:0.021 1:0.03 2:0.513\r\n"
     ]
    }
   ],
   "source": [
    "!head -2 $PATH_TO_ALL_DATA/train_part_text_feat.vw"
   ]
  },
  {
   "cell_type": "code",
   "execution_count": 96,
   "metadata": {
    "_cell_guid": "ab80886c-482c-4bb0-bf69-e321ad31423b",
    "_uuid": "538fbd0487d851a5ef16dc31cbb8db119a003b76",
    "collapsed": true
   },
   "outputs": [],
   "source": [
    "# to_vw_text_and_some_features(\"valid_text_feat.vw\", valid_texts)"
   ]
  },
  {
   "cell_type": "code",
   "execution_count": 97,
   "metadata": {
    "_cell_guid": "5c27ce62-cd00-44f5-acd0-0a0ee22075ec",
    "_uuid": "7229cde8e7dcd6e62f751d59c37d5f6600c6afd9",
    "collapsed": true
   },
   "outputs": [],
   "source": [
    "# to_vw_text_and_some_features(\"train_text_feat.vw\", train_texts)"
   ]
  },
  {
   "cell_type": "code",
   "execution_count": 98,
   "metadata": {
    "_cell_guid": "a1b091dd-f1ed-4fa4-88fc-3df6f37036f5",
    "_uuid": "82d864847f6eeb10961979126a6cf4480ffb556f",
    "collapsed": true
   },
   "outputs": [],
   "source": [
    "# to_vw_text_and_some_features(\"test_text_feat.vw\", test_texts, is_train=False)"
   ]
  },
  {
   "cell_type": "code",
   "execution_count": 99,
   "metadata": {
    "_cell_guid": "4c6cd4f9-3671-4b50-81b0-e19263122c78",
    "_uuid": "e6a23612d869c028552e9b70e86b5a6d8394d936",
    "collapsed": true
   },
   "outputs": [],
   "source": [
    "# !vw --oaa 3 train_part_text_feat.vw -f model_text_feat_part.vw -b 28 --random_seed 17 \\\n",
    "# --loss_function logistic --ngram 2 --passes 10 -k -c --quiet"
   ]
  },
  {
   "cell_type": "code",
   "execution_count": 100,
   "metadata": {
    "_cell_guid": "34a298a2-307b-4741-84ef-47cd22cb50e6",
    "_uuid": "4b85a6f41289744decd18f2d2eba4da10ece0301",
    "collapsed": true
   },
   "outputs": [],
   "source": [
    "# %%time\n",
    "# !vw -i model_text_feat_part.vw -t -d valid_text_feat.vw -p valid_pred2.txt --random_seed 17 -r valid_prob2.txt --quiet"
   ]
  },
  {
   "cell_type": "code",
   "execution_count": 101,
   "metadata": {
    "_cell_guid": "9b006652-15c4-4371-9a12-01d84c369de7",
    "_uuid": "aea1007d4a5adc6d15487b345a25095e27ab3128"
   },
   "outputs": [
    {
     "name": "stdout",
     "output_type": "stream",
     "text": [
      "0.468993972981\n"
     ]
    }
   ],
   "source": [
    "evaluate_vw_prediction(os.path.join(PATH_TO_ALL_DATA, 'valid_prob2.txt'), \n",
    "                       target=valid_texts['author_code'])"
   ]
  },
  {
   "cell_type": "code",
   "execution_count": 102,
   "metadata": {
    "_cell_guid": "8c29bc10-3045-4ea9-8657-a3bc60881330",
    "_uuid": "ae90c28dc310cbfd34d18ca287c1f131b5caba6b",
    "collapsed": true
   },
   "outputs": [],
   "source": [
    "# !vw --oaa 3 train_text_feat.vw -f model_text_feat.vw -b 28 --random_seed 17 \\\n",
    "# --loss_function logistic --ngram 2 --passes 10 -k -c --quiet"
   ]
  },
  {
   "cell_type": "code",
   "execution_count": 103,
   "metadata": {
    "_cell_guid": "b64a49e8-ef85-4ecc-8f2d-f4c48afc7969",
    "_uuid": "83da202271bbd4e33380c1cabf0b2a79d899e609",
    "collapsed": true
   },
   "outputs": [],
   "source": [
    "# %%time\n",
    "# !vw -i model_text_feat.vw -t -d test_text_feat.vw -p test_pred2.txt --random_seed 17 -r test_prob2.txt --quiet"
   ]
  },
  {
   "cell_type": "code",
   "execution_count": 104,
   "metadata": {
    "_cell_guid": "a82a1464-d5f2-481f-acbf-ed445fc697b8",
    "_uuid": "f0b4eae6df8f8a7eb6ce902aa02a228ea8b442bd",
    "collapsed": true
   },
   "outputs": [],
   "source": [
    "evaluate_vw_prediction(os.path.join(PATH_TO_ALL_DATA, 'test_prob2.txt'), \n",
    "                       is_test=True, write_submission=True,\n",
    "                       submission_file='submission2_text_feat.csv')"
   ]
  },
  {
   "cell_type": "markdown",
   "metadata": {
    "_cell_guid": "4ee985d4-bf27-44ee-b201-366e31f7aeb4",
    "_uuid": "b3ae8ee01c9ae031e6da313dfc30ad7e9dea637e"
   },
   "source": [
    "With this we get 0.43267 on public LB so it doesn't seem like a major improvement. However,  we'll take into account that our holdout score estimate is calculated with 5874 samples while the public leaderboard one – with $\\approx$ 2517 samples (30% $\\times$ 8392). Finally, we'll calculate the weighted sum of CV and LB scores to evaluate our submissions."
   ]
  },
  {
   "cell_type": "code",
   "execution_count": 105,
   "metadata": {
    "_cell_guid": "11d0f499-ccbc-4685-982c-9c17f302dbef",
    "_uuid": "f39c17df64e3a2bbf90e7e252dc7afd8e6db585d",
    "collapsed": true
   },
   "outputs": [],
   "source": [
    "def validate_submission_local_and_lb_mix(local_score, public_lb_score, local_size=5874, public_lb_size=2517):\n",
    "    return 1. / (local_size + public_lb_size) * (local_size * local_score +\n",
    "                                                public_lb_size * public_lb_score)"
   ]
  },
  {
   "cell_type": "code",
   "execution_count": 106,
   "metadata": {
    "_cell_guid": "c30b1cb4-8cdd-422b-aa4d-e0efc491c7bd",
    "_uuid": "4c8fc7c792503840ac1d772f1fa8dbd7b24a46d5"
   },
   "outputs": [
    {
     "data": {
      "text/plain": [
       "0.4652197032534859"
      ]
     },
     "execution_count": 106,
     "metadata": {},
     "output_type": "execute_result"
    }
   ],
   "source": [
    "# first submission\n",
    "validate_submission_local_and_lb_mix(local_score=.47951, public_lb_score=.43187)"
   ]
  },
  {
   "cell_type": "code",
   "execution_count": 107,
   "metadata": {
    "_cell_guid": "33356dc8-6d1f-4ce8-b422-2f738a063bdb",
    "_uuid": "c93da2c2150f1e9d56a311197fc18b47e979bafc"
   },
   "outputs": [
    {
     "data": {
      "text/plain": [
       "0.45810229889166965"
      ]
     },
     "execution_count": 107,
     "metadata": {},
     "output_type": "execute_result"
    }
   ],
   "source": [
    "# second submission\n",
    "validate_submission_local_and_lb_mix(local_score=.469, \n",
    "                                      public_lb_score=.43267)"
   ]
  },
  {
   "cell_type": "markdown",
   "metadata": {
    "_cell_guid": "91cbf31e-43a1-482d-af7a-02de3826b00f",
    "_uuid": "bf8903c882ff92061cb8ad971f097734254ed866"
   },
   "source": [
    "It seems 3 features helped here to lower logloss. However, feature engineering is not the main goal of this tutorial, there are already dozens of nice ones in [Kernels](https://www.kaggle.com/c/spooky-author-identification/kernels). \n",
    "\n",
    "You can experiment with lots of other features, bunches of features and techniques (word2vec, LDA, topic modelling, to name just a few possible approaches). Luckily, Vowpal Wabbit serves ideally for performing lots of \"design-implement-check\" iterations. Try it out and you'll definitely gain a new helpful skill!\n",
    "\n",
    "<img src=\"https://habrastorage.org/webt/_r/lz/wb/_rlzwbzedhlivdnhvfzk1apnzss.jpeg\" width=50%>"
   ]
  }
 ],
 "metadata": {
  "kernelspec": {
   "display_name": "Python 3",
   "language": "python",
   "name": "python3"
  },
  "language_info": {
   "codemirror_mode": {
    "name": "ipython",
    "version": 3
   },
   "file_extension": ".py",
   "mimetype": "text/x-python",
   "name": "python",
   "nbconvert_exporter": "python",
   "pygments_lexer": "ipython3",
   "version": "3.6.1"
  }
 },
 "nbformat": 4,
 "nbformat_minor": 1
}
