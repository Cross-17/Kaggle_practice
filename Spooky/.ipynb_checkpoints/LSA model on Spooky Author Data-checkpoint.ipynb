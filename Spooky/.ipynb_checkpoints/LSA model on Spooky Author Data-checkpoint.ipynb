{
 "cells": [
  {
   "cell_type": "markdown",
   "metadata": {
    "_cell_guid": "9121e0eb-6d91-4d11-ad29-b2fdfdf69e8c",
    "_uuid": "27da2cc2969fc2f37da1b108130d69dc00a96a4d"
   },
   "source": [
    "This kernel is very basic model. I hope it will help you.\n",
    "\n",
    "**Please upvote to encourage me to do more.**"
   ]
  },
  {
   "cell_type": "markdown",
   "metadata": {
    "_cell_guid": "202d2127-63a6-4fed-8e72-bfde6276320c",
    "_uuid": "f8184f996f44a13f408e8c6321389833a64d9892"
   },
   "source": [
    "![](https://78.media.tumblr.com/0a56b418334765ec595a0982fe25aac3/tumblr_ouloa3CUT41wq17fxo3_400.gif)"
   ]
  },
  {
   "cell_type": "code",
   "execution_count": 1,
   "metadata": {
    "_cell_guid": "208a71cc-64fa-4bcd-b05e-1e03c806c350",
    "_uuid": "0c6898a2b82f48d56828737e75782385247fde34"
   },
   "outputs": [
    {
     "name": "stdout",
     "output_type": "stream",
     "text": [
      "sample_submission.csv\n",
      "test.csv\n",
      "train.csv\n",
      "\n"
     ]
    }
   ],
   "source": [
    "# This Python 3 environment comes with many helpful analytics libraries installed\n",
    "# It is defined by the kaggle/python docker image: https://github.com/kaggle/docker-python\n",
    "# For example, here's several helpful packages to load in \n",
    "\n",
    "import numpy as np # linear algebra\n",
    "import pandas as pd # data processing, CSV file I/O (e.g. pd.read_csv)\n",
    "\n",
    "# Input data files are available in the \"../input/\" directory.\n",
    "# For example, running this (by clicking run or pressing Shift+Enter) will list the files in the input directory\n",
    "\n",
    "from subprocess import check_output\n",
    "print(check_output([\"ls\", \"../input\"]).decode(\"utf8\"))\n",
    "\n",
    "# Any results you write to the current directory are saved as output."
   ]
  },
  {
   "cell_type": "code",
   "execution_count": 2,
   "metadata": {
    "_cell_guid": "21beafb5-c9a9-4604-97b2-373b5a2f05dd",
    "_uuid": "31fcc6ee6f973485eaea715fd58d6253f1b64224"
   },
   "outputs": [
    {
     "data": {
      "text/html": [
       "<div>\n",
       "<style scoped>\n",
       "    .dataframe tbody tr th:only-of-type {\n",
       "        vertical-align: middle;\n",
       "    }\n",
       "\n",
       "    .dataframe tbody tr th {\n",
       "        vertical-align: top;\n",
       "    }\n",
       "\n",
       "    .dataframe thead th {\n",
       "        text-align: right;\n",
       "    }\n",
       "</style>\n",
       "<table border=\"1\" class=\"dataframe\">\n",
       "  <thead>\n",
       "    <tr style=\"text-align: right;\">\n",
       "      <th></th>\n",
       "      <th>id</th>\n",
       "      <th>text</th>\n",
       "      <th>author</th>\n",
       "    </tr>\n",
       "  </thead>\n",
       "  <tbody>\n",
       "    <tr>\n",
       "      <th>0</th>\n",
       "      <td>id26305</td>\n",
       "      <td>This process, however, afforded me no means of...</td>\n",
       "      <td>EAP</td>\n",
       "    </tr>\n",
       "    <tr>\n",
       "      <th>1</th>\n",
       "      <td>id17569</td>\n",
       "      <td>It never once occurred to me that the fumbling...</td>\n",
       "      <td>HPL</td>\n",
       "    </tr>\n",
       "    <tr>\n",
       "      <th>2</th>\n",
       "      <td>id11008</td>\n",
       "      <td>In his left hand was a gold snuff box, from wh...</td>\n",
       "      <td>EAP</td>\n",
       "    </tr>\n",
       "    <tr>\n",
       "      <th>3</th>\n",
       "      <td>id27763</td>\n",
       "      <td>How lovely is spring As we looked from Windsor...</td>\n",
       "      <td>MWS</td>\n",
       "    </tr>\n",
       "    <tr>\n",
       "      <th>4</th>\n",
       "      <td>id12958</td>\n",
       "      <td>Finding nothing else, not even gold, the Super...</td>\n",
       "      <td>HPL</td>\n",
       "    </tr>\n",
       "  </tbody>\n",
       "</table>\n",
       "</div>"
      ],
      "text/plain": [
       "        id                                               text author\n",
       "0  id26305  This process, however, afforded me no means of...    EAP\n",
       "1  id17569  It never once occurred to me that the fumbling...    HPL\n",
       "2  id11008  In his left hand was a gold snuff box, from wh...    EAP\n",
       "3  id27763  How lovely is spring As we looked from Windsor...    MWS\n",
       "4  id12958  Finding nothing else, not even gold, the Super...    HPL"
      ]
     },
     "execution_count": 2,
     "metadata": {},
     "output_type": "execute_result"
    }
   ],
   "source": [
    "train = pd.read_csv('../input/train.csv')\n",
    "train.head()"
   ]
  },
  {
   "cell_type": "code",
   "execution_count": 3,
   "metadata": {
    "_cell_guid": "3b7477cb-f1b2-42f0-817a-3233de025dd5",
    "_uuid": "bcf676cfb20d6c2cb7a6a88d1033ef94e0133ee1"
   },
   "outputs": [
    {
     "data": {
      "text/plain": [
       "array(['EAP', 'HPL', 'MWS'], dtype=object)"
      ]
     },
     "execution_count": 3,
     "metadata": {},
     "output_type": "execute_result"
    }
   ],
   "source": [
    "train['author'].unique()"
   ]
  },
  {
   "cell_type": "markdown",
   "metadata": {
    "_cell_guid": "1455505a-6076-4bb7-b0a1-1f91e5eda455",
    "_uuid": "7d8d9581af7e7a837ea2ae2c8301a1c2c0bae2a4"
   },
   "source": [
    "**hp lovecraft**\n",
    "![](data:image/jpeg;base64,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)"
   ]
  },
  {
   "cell_type": "markdown",
   "metadata": {
    "_cell_guid": "ec59caf2-2520-4465-8347-92d11adb67cc",
    "_uuid": "de18d93fa941e18096b4f29d0bb69c5b0a18eb2d"
   },
   "source": [
    "**edgar allan poe**\n",
    "![](data:image/jpeg;base64,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)"
   ]
  },
  {
   "cell_type": "markdown",
   "metadata": {
    "_cell_guid": "bc16f2af-0ee7-43c4-a192-4e710323a250",
    "_uuid": "03a573e00e6e31622d3cd6ccd37e42ae0c1fb54b"
   },
   "source": [
    "**Mary Wollstonecraft Shelley**\n",
    "![](data:image/jpeg;base64,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)"
   ]
  },
  {
   "cell_type": "code",
   "execution_count": 4,
   "metadata": {
    "_cell_guid": "9344c9b1-b3ea-4e0c-b6eb-3a8696155168",
    "_uuid": "68a0429c9da733ad9ab634eb4f8302e66cf897c9",
    "collapsed": true
   },
   "outputs": [],
   "source": [
    "import seaborn as sns"
   ]
  },
  {
   "cell_type": "code",
   "execution_count": 5,
   "metadata": {
    "_cell_guid": "0ea88dce-639d-491e-baad-559104817f78",
    "_uuid": "f4e09672b01a8f8dc67aadf3f26bae145bcddf41"
   },
   "outputs": [
    {
     "data": {
      "text/plain": [
       "<matplotlib.axes._subplots.AxesSubplot at 0x7f9a1abfa1d0>"
      ]
     },
     "execution_count": 5,
     "metadata": {},
     "output_type": "execute_result"
    },
    {
     "data": {
      "image/png": "[encoded data removed]",
      "text/plain": [
       "<matplotlib.figure.Figure at 0x7f9a1b2e3828>"
      ]
     },
     "metadata": {},
     "output_type": "display_data"
    }
   ],
   "source": [
    "sns.countplot('author',data = train)\n"
   ]
  },
  {
   "cell_type": "code",
   "execution_count": 6,
   "metadata": {
    "_cell_guid": "6e2b4efc-15df-4a81-a3ad-3e9e6a0ca0de",
    "_uuid": "632832b50f4609910bb2a5d44cfbf011405281d4",
    "collapsed": true
   },
   "outputs": [],
   "source": [
    "train['length'] = train.text.str.count(' ')"
   ]
  },
  {
   "cell_type": "code",
   "execution_count": 7,
   "metadata": {
    "_cell_guid": "9351d9cf-6f6a-4fb3-b0b1-f528dbfdaaf1",
    "_uuid": "34c6ac5c5ae05c1a407c9702322e050bfaa5fbfb"
   },
   "outputs": [
    {
     "data": {
      "text/html": [
       "<div>\n",
       "<style scoped>\n",
       "    .dataframe tbody tr th:only-of-type {\n",
       "        vertical-align: middle;\n",
       "    }\n",
       "\n",
       "    .dataframe tbody tr th {\n",
       "        vertical-align: top;\n",
       "    }\n",
       "\n",
       "    .dataframe thead th {\n",
       "        text-align: right;\n",
       "    }\n",
       "</style>\n",
       "<table border=\"1\" class=\"dataframe\">\n",
       "  <thead>\n",
       "    <tr style=\"text-align: right;\">\n",
       "      <th></th>\n",
       "      <th>id</th>\n",
       "      <th>text</th>\n",
       "      <th>author</th>\n",
       "      <th>length</th>\n",
       "    </tr>\n",
       "  </thead>\n",
       "  <tbody>\n",
       "    <tr>\n",
       "      <th>0</th>\n",
       "      <td>id26305</td>\n",
       "      <td>This process, however, afforded me no means of...</td>\n",
       "      <td>EAP</td>\n",
       "      <td>40</td>\n",
       "    </tr>\n",
       "    <tr>\n",
       "      <th>1</th>\n",
       "      <td>id17569</td>\n",
       "      <td>It never once occurred to me that the fumbling...</td>\n",
       "      <td>HPL</td>\n",
       "      <td>13</td>\n",
       "    </tr>\n",
       "    <tr>\n",
       "      <th>2</th>\n",
       "      <td>id11008</td>\n",
       "      <td>In his left hand was a gold snuff box, from wh...</td>\n",
       "      <td>EAP</td>\n",
       "      <td>35</td>\n",
       "    </tr>\n",
       "    <tr>\n",
       "      <th>3</th>\n",
       "      <td>id27763</td>\n",
       "      <td>How lovely is spring As we looked from Windsor...</td>\n",
       "      <td>MWS</td>\n",
       "      <td>33</td>\n",
       "    </tr>\n",
       "    <tr>\n",
       "      <th>4</th>\n",
       "      <td>id12958</td>\n",
       "      <td>Finding nothing else, not even gold, the Super...</td>\n",
       "      <td>HPL</td>\n",
       "      <td>26</td>\n",
       "    </tr>\n",
       "  </tbody>\n",
       "</table>\n",
       "</div>"
      ],
      "text/plain": [
       "        id                                               text author  length\n",
       "0  id26305  This process, however, afforded me no means of...    EAP      40\n",
       "1  id17569  It never once occurred to me that the fumbling...    HPL      13\n",
       "2  id11008  In his left hand was a gold snuff box, from wh...    EAP      35\n",
       "3  id27763  How lovely is spring As we looked from Windsor...    MWS      33\n",
       "4  id12958  Finding nothing else, not even gold, the Super...    HPL      26"
      ]
     },
     "execution_count": 7,
     "metadata": {},
     "output_type": "execute_result"
    }
   ],
   "source": [
    "train.head()"
   ]
  },
  {
   "cell_type": "code",
   "execution_count": 8,
   "metadata": {
    "_cell_guid": "7f85a659-d1f3-49a5-9f55-838d31f7889a",
    "_uuid": "85d9c11b00434f4c75be2adf0bcf71e0417a0dde"
   },
   "outputs": [
    {
     "data": {
      "text/plain": [
       "count    6044.000000\n",
       "mean       26.417273\n",
       "std        23.134440\n",
       "min         1.000000\n",
       "25%        14.000000\n",
       "50%        22.000000\n",
       "75%        33.000000\n",
       "max       860.000000\n",
       "Name: length, dtype: float64"
      ]
     },
     "execution_count": 8,
     "metadata": {},
     "output_type": "execute_result"
    }
   ],
   "source": [
    "train[train[\"author\"]==\"MWS\"][\"length\"].describe()"
   ]
  },
  {
   "cell_type": "code",
   "execution_count": 9,
   "metadata": {
    "_cell_guid": "c0cfc6c5-605e-4168-96a7-f634a00583ec",
    "_uuid": "b9e1f3fb44a33dcea465fd5368f88b8fc48aff45"
   },
   "outputs": [
    {
     "data": {
      "text/plain": [
       "count    5635.000000\n",
       "mean       26.799645\n",
       "std        14.123252\n",
       "min         3.000000\n",
       "25%        17.000000\n",
       "50%        25.000000\n",
       "75%        34.000000\n",
       "max       146.000000\n",
       "Name: length, dtype: float64"
      ]
     },
     "execution_count": 9,
     "metadata": {},
     "output_type": "execute_result"
    }
   ],
   "source": [
    "train[train[\"author\"]==\"HPL\"][\"length\"].describe()"
   ]
  },
  {
   "cell_type": "code",
   "execution_count": 10,
   "metadata": {
    "_cell_guid": "b9ca1dd7-c75b-4708-8f39-a79cf2d30701",
    "_uuid": "6f1a9e6be17d19bbbf0048216136f97c51b5bfc0"
   },
   "outputs": [
    {
     "data": {
      "text/plain": [
       "count    7900.000000\n",
       "mean       24.442405\n",
       "std        18.567706\n",
       "min         1.000000\n",
       "25%        11.000000\n",
       "50%        20.000000\n",
       "75%        32.000000\n",
       "max       266.000000\n",
       "Name: length, dtype: float64"
      ]
     },
     "execution_count": 10,
     "metadata": {},
     "output_type": "execute_result"
    }
   ],
   "source": [
    "train[train[\"author\"]==\"EAP\"][\"length\"].describe()\n"
   ]
  },
  {
   "cell_type": "code",
   "execution_count": 11,
   "metadata": {
    "_cell_guid": "7ae53cac-9b73-46e1-aa4a-9d0ccb892602",
    "_uuid": "19d6dbbb276ad772d5dfe8a75b8c261f0f8def9a"
   },
   "outputs": [
    {
     "data": {
      "text/html": [
       "<div>\n",
       "<style scoped>\n",
       "    .dataframe tbody tr th:only-of-type {\n",
       "        vertical-align: middle;\n",
       "    }\n",
       "\n",
       "    .dataframe tbody tr th {\n",
       "        vertical-align: top;\n",
       "    }\n",
       "\n",
       "    .dataframe thead th {\n",
       "        text-align: right;\n",
       "    }\n",
       "</style>\n",
       "<table border=\"1\" class=\"dataframe\">\n",
       "  <thead>\n",
       "    <tr style=\"text-align: right;\">\n",
       "      <th></th>\n",
       "      <th>id</th>\n",
       "      <th>text</th>\n",
       "      <th>author</th>\n",
       "      <th>length</th>\n",
       "    </tr>\n",
       "  </thead>\n",
       "  <tbody>\n",
       "    <tr>\n",
       "      <th>9215</th>\n",
       "      <td>id27184</td>\n",
       "      <td>Diotima approached the fountain seated herself...</td>\n",
       "      <td>MWS</td>\n",
       "      <td>860</td>\n",
       "    </tr>\n",
       "  </tbody>\n",
       "</table>\n",
       "</div>"
      ],
      "text/plain": [
       "           id                                               text author  \\\n",
       "9215  id27184  Diotima approached the fountain seated herself...    MWS   \n",
       "\n",
       "      length  \n",
       "9215     860  "
      ]
     },
     "execution_count": 11,
     "metadata": {},
     "output_type": "execute_result"
    }
   ],
   "source": [
    "train[train['length'] == 860]"
   ]
  },
  {
   "cell_type": "markdown",
   "metadata": {
    "_cell_guid": "4ebd985b-57c7-40f7-b02a-228aa7978bf5",
    "_uuid": "8ac0c22bd512017a83d6108fbd9cd37bd3de6830"
   },
   "source": [
    "![](data:image/jpeg;base64,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)"
   ]
  },
  {
   "cell_type": "code",
   "execution_count": 12,
   "metadata": {
    "_cell_guid": "d2574db9-c740-4132-87e7-234b2b084300",
    "_uuid": "1186ee5ae83773209e152476c0c2c910e58f7232"
   },
   "outputs": [
    {
     "data": {
      "text/plain": [
       "'Diotima approached the fountain seated herself on a mossy mound near it and her disciples placed themselves on the grass near her Without noticing me who sat close under her she continued her discourse addressing as it happened one or other of her listeners but before I attempt to repeat her words I will describe the chief of these whom she appeared to wish principally to impress One was a woman of about years of age in the full enjoyment of the most exquisite beauty her golden hair floated in ringlets on her shoulders her hazle eyes were shaded by heavy lids and her mouth the lips apart seemed to breathe sensibility But she appeared thoughtful unhappy her cheek was pale she seemed as if accustomed to suffer and as if the lessons she now heard were the only words of wisdom to which she had ever listened The youth beside her had a far different aspect his form was emaciated nearly to a shadow his features were handsome but thin worn his eyes glistened as if animating the visage of decay his forehead was expansive but there was a doubt perplexity in his looks that seemed to say that although he had sought wisdom he had got entangled in some mysterious mazes from which he in vain endeavoured to extricate himself As Diotima spoke his colour went came with quick changes the flexible muscles of his countenance shewed every impression that his mind received he seemed one who in life had studied hard but whose feeble frame sunk beneath the weight of the mere exertion of life the spark of intelligence burned with uncommon strength within him but that of life seemed ever on the eve of fading At present I shall not describe any other of this groupe but with deep attention try to recall in my memory some of the words of Diotima they were words of fire but their path is faintly marked on my recollection It requires a just hand, said she continuing her discourse, to weigh divide the good from evil On the earth they are inextricably entangled and if you would cast away what there appears an evil a multitude of beneficial causes or effects cling to it mock your labour When I was on earth and have walked in a solitary country during the silence of night have beheld the multitude of stars, the soft radiance of the moon reflected on the sea, which was studded by lovely islands When I have felt the soft breeze steal across my cheek as the words of love it has soothed cherished me then my mind seemed almost to quit the body that confined it to the earth with a quick mental sense to mingle with the scene that I hardly saw I felt Then I have exclaimed, oh world how beautiful thou art Oh brightest universe behold thy worshiper spirit of beauty of sympathy which pervades all things, now lifts my soul as with wings, how have you animated the light the breezes Deep inexplicable spirit give me words to express my adoration; my mind is hurried away but with language I cannot tell how I feel thy loveliness Silence or the song of the nightingale the momentary apparition of some bird that flies quietly past all seems animated with thee more than all the deep sky studded with worlds\" If the winds roared tore the sea and the dreadful lightnings seemed falling around me still love was mingled with the sacred terror I felt; the majesty of loveliness was deeply impressed on me So also I have felt when I have seen a lovely countenance or heard solemn music or the eloquence of divine wisdom flowing from the lips of one of its worshippers a lovely animal or even the graceful undulations of trees inanimate objects have excited in me the same deep feeling of love beauty; a feeling which while it made me alive eager to seek the cause animator of the scene, yet satisfied me by its very depth as if I had already found the solution to my enquires sic as if in feeling myself a part of the great whole I had found the truth secret of the universe But when retired in my cell I have studied contemplated the various motions and actions in the world the weight of evil has confounded me If I thought of the creation I saw an eternal chain of evil linked one to the other from the great whale who in the sea swallows destroys multitudes the smaller fish that live on him also torment him to madness to the cat whose pleasure it is to torment her prey I saw the whole creation filled with pain each creature seems to exist through the misery of another death havoc is the watchword of the animated world And Man also even in Athens the most civilized spot on the earth what a multitude of mean passions envy, malice a restless desire to depreciate all that was great and good did I see And in the dominions of the great being I saw man reduced?'"
      ]
     },
     "execution_count": 12,
     "metadata": {},
     "output_type": "execute_result"
    }
   ],
   "source": [
    "train.text.values[9215]"
   ]
  },
  {
   "cell_type": "code",
   "execution_count": 13,
   "metadata": {
    "_cell_guid": "76fefbfd-8093-42c4-bc2a-d59dffa7c552",
    "_uuid": "9d91bab65db2eec70592edcb2ccfba2257f6dd5e"
   },
   "outputs": [
    {
     "data": {
      "text/plain": [
       "<matplotlib.axes._subplots.AxesSubplot at 0x7f9a17824b00>"
      ]
     },
     "execution_count": 13,
     "metadata": {},
     "output_type": "execute_result"
    },
    {
     "data": {
      "image/png": "[encoded data removed]",
      "text/plain": [
       "<matplotlib.figure.Figure at 0x7f9a1789b588>"
      ]
     },
     "metadata": {},
     "output_type": "display_data"
    }
   ],
   "source": [
    "sns.boxplot(x = 'author',y = 'length',data = train)"
   ]
  },
  {
   "cell_type": "code",
   "execution_count": 14,
   "metadata": {
    "_cell_guid": "f167299a-e05f-4b9d-9ebb-4e72edee4472",
    "_uuid": "c2c4eb0a5e24e49baaac6c892cacbf21eac17a87",
    "collapsed": true
   },
   "outputs": [],
   "source": [
    "import nltk"
   ]
  },
  {
   "cell_type": "code",
   "execution_count": 15,
   "metadata": {
    "_cell_guid": "be010d3c-541e-4876-befd-2808b3658503",
    "_uuid": "79218c90b43f385e38d3cc4ac98c31f6fde5bc0d"
   },
   "outputs": [
    {
     "name": "stdout",
     "output_type": "stream",
     "text": [
      "['This', 'process', ',', 'however', ',', 'afforded', 'me', 'no', 'means', 'of', 'ascertaining', 'the', 'dimensions', 'of', 'my', 'dungeon', ';', 'as', 'I', 'might', 'make', 'its', 'circuit', ',', 'and', 'return', 'to', 'the', 'point', 'whence', 'I', 'set', 'out', ',', 'without', 'being', 'aware', 'of', 'the', 'fact', ';', 'so', 'perfectly', 'uniform', 'seemed', 'the', 'wall', '.']\n"
     ]
    }
   ],
   "source": [
    "print(nltk.word_tokenize(train.text[0]))\n"
   ]
  },
  {
   "cell_type": "code",
   "execution_count": 16,
   "metadata": {
    "_cell_guid": "3c52227c-d5b1-4b5d-9a51-a5db524947bd",
    "_uuid": "b9ea8dbc34e07d04443e94fcd24373b7b086c300",
    "collapsed": true
   },
   "outputs": [],
   "source": [
    "from sklearn.feature_extraction.text    import CountVectorizer,TfidfVectorizer"
   ]
  },
  {
   "cell_type": "code",
   "execution_count": 17,
   "metadata": {
    "_cell_guid": "93ddacb0-5305-4d08-8027-812df77f3c36",
    "_uuid": "c1173250f0747d773fc39199a7619e063ef9792a"
   },
   "outputs": [
    {
     "data": {
      "text/plain": [
       "['This process, however, afforded me no means of ascertaining the dimensions of my dungeon; as I might make its circuit, and return to the point whence I set out, without being aware of the fact; so perfectly uniform seemed the wall.',\n",
       " 'It never once occurred to me that the fumbling might be a mere mistake.',\n",
       " 'In his left hand was a gold snuff box, from which, as he capered down the hill, cutting all manner of fantastic steps, he took snuff incessantly with an air of the greatest possible self satisfaction.',\n",
       " 'How lovely is spring As we looked from Windsor Terrace on the sixteen fertile counties spread beneath, speckled by happy cottages and wealthier towns, all looked as in former years, heart cheering and fair.',\n",
       " 'Finding nothing else, not even gold, the Superintendent abandoned his attempts; but a perplexed look occasionally steals over his countenance as he sits thinking at his desk.',\n",
       " 'A youth passed in solitude, my best years spent under your gentle and feminine fosterage, has so refined the groundwork of my character that I cannot overcome an intense distaste to the usual brutality exercised on board ship: I have never believed it to be necessary, and when I heard of a mariner equally noted for his kindliness of heart and the respect and obedience paid to him by his crew, I felt myself peculiarly fortunate in being able to secure his services.',\n",
       " 'The astronomer, perhaps, at this point, took refuge in the suggestion of non luminosity; and here analogy was suddenly let fall.',\n",
       " 'The surcingle hung in ribands from my body.',\n",
       " \"I knew that you could not say to yourself 'stereotomy' without being brought to think of atomies, and thus of the theories of Epicurus; and since, when we discussed this subject not very long ago, I mentioned to you how singularly, yet with how little notice, the vague guesses of that noble Greek had met with confirmation in the late nebular cosmogony, I felt that you could not avoid casting your eyes upward to the great nebula in Orion, and I certainly expected that you would do so.\",\n",
       " 'I confess that neither the structure of languages, nor the code of governments, nor the politics of various states possessed attractions for me.',\n",
       " 'He shall find that I can feel my injuries; he shall learn to dread my revenge\" A few days after he arrived.',\n",
       " 'Here we barricaded ourselves, and, for the present were secure.',\n",
       " 'Herbert West needed fresh bodies because his life work was the reanimation of the dead.',\n",
       " 'The farm like grounds extended back very deeply up the hill, almost to Wheaton Street.',\n",
       " 'But a glance will show the fallacy of this idea.',\n",
       " 'He had escaped me, and I must commence a destructive and almost endless journey across the mountainous ices of the ocean, amidst cold that few of the inhabitants could long endure and which I, the native of a genial and sunny climate, could not hope to survive.',\n",
       " 'To these speeches they gave, of course, their own interpretation; fancying, no doubt, that at all events I should come into possession of vast quantities of ready money; and provided I paid them all I owed, and a trifle more, in consideration of their services, I dare say they cared very little what became of either my soul or my carcass.',\n",
       " 'Her native sprightliness needed no undue excitement, and her placid heart reposed contented on my love, the well being of her children, and the beauty of surrounding nature.',\n",
       " 'I even went so far as to speak of a slightly hectic cough with which, at one time, I had been troubled of a chronic rheumatism of a twinge of hereditary gout and, in conclusion, of the disagreeable and inconvenient, but hitherto carefully concealed, weakness of my eyes.',\n",
       " \"His facial aspect, too, was remarkable for its maturity; for though he shared his mother's and grandfather's chinlessness, his firm and precociously shaped nose united with the expression of his large, dark, almost Latin eyes to give him an air of quasi adulthood and well nigh preternatural intelligence.\",\n",
       " 'Now the net work was not permanently fastened to the hoop, but attached by a series of running loops or nooses.',\n",
       " 'It was not that the sounds were hideous, for they were not; but that they held vibrations suggesting nothing on this globe of earth, and that at certain intervals they assumed a symphonic quality which I could hardly conceive as produced by one player.',\n",
       " 'On every hand was a wilderness of balconies, of verandas, of minarets, of shrines, and fantastically carved oriels.',\n",
       " 'With how deep a spirit of wonder and perplexity was I wont to regard him from our remote pew in the gallery, as, with step solemn and slow, he ascended the pulpit This reverend man, with countenance so demurely benign, with robes so glossy and so clerically flowing, with wig so minutely powdered, so rigid and so vast, could this be he who, of late, with sour visage, and in snuffy habiliments, administered, ferule in hand, the Draconian laws of the academy?',\n",
       " 'These bizarre attempts at explanation were followed by others equally bizarre.',\n",
       " 'For many prodigies and signs had taken place, and far and wide, over sea and land, the black wings of the Pestilence were spread abroad.',\n",
       " \"All that as yet can fairly be said to be known is, that 'Pure gold can be made at will, and very readily from lead in connection with certain other substances, in kind and in proportions, unknown.' Speculation, of course, is busy as to the immediate and ultimate results of this discovery a discovery which few thinking persons will hesitate in referring to an increased interest in the matter of gold generally, by the late developments in California; and this reflection brings us inevitably to another the exceeding inopportuneness of Von Kempelen's analysis.\",\n",
       " 'I seemed to be upon the verge of comprehension without power to comprehend men, at times, find themselves upon the brink of remembrance without being able, in the end, to remember.',\n",
       " 'Our compasses, depth gauges, and other delicate instruments were ruined; so that henceforth our only reckoning would be guesswork, based on our watches, the calendar, and our apparent drift as judged by any objects we might spy through the portholes or from the conning tower.',\n",
       " 'This the young warriors took back with them to Sarnath as a symbol of conquest over the old gods and beings of Ib, and a sign of leadership in Mnar.',\n",
       " 'Meantime the whole Paradise of Arnheim bursts upon the view.',\n",
       " 'I was rich and young, and had a guardian appointed for me; and all about me would act as if I were one of their great society, while I must keep the secret that I really was cut off from them for ever.',\n",
       " 'We could make out little by the dim light, but they seemed to contain prophecies, detailed relations of events but lately passed; names, now well known, but of modern date; and often exclamations of exultation or woe, of victory or defeat, were traced on their thin scant pages.',\n",
       " 'Even now They talked in Their tombs.',\n",
       " 'Sheehan especially did they ply with inquiries, yet without eliciting any information of value concerning Old Bugs.',\n",
       " 'He cried aloud once, and a little later gave a gasp that was more terrible than a cry.',\n",
       " \"The old tracks crossed River Street at grade, and at once veered off into a region increasingly rural and with less and less of Innsmouth's abhorrent fishy odour.\",\n",
       " 'His soul overflowed with ardent affections, and his friendship was of that devoted and wondrous nature that the world minded teach us to look for only in the imagination.',\n",
       " 'After the first start, he replaced the tissue wrapping around the portrait, as if to shield it from the sordidness of the place.',\n",
       " '\"The present peculiar condition of affairs at court, and especially of those intrigues in which D is known to be involved, would render the instant availability of the document its susceptibility of being produced at a moment\\'s notice a point of nearly equal importance with its possession.\"',\n",
       " \"Wilbur's growth was indeed phenomenal, for within three months of his birth he had attained a size and muscular power not usually found in infants under a full year of age.\",\n",
       " 'Pausing, I succeeded with difficulty in raising it, whereupon there was revealed a black aperture, exhaling noxious fumes which caused my torch to sputter, and disclosing in the unsteady glare the top of a flight of stone steps.',\n",
       " 'It was all mud an\\' water, an\\' the sky was dark, an\\' the rain was wipin\\' aout all tracks abaout as fast as could be; but beginnin\\' at the glen maouth, whar the trees had moved, they was still some o\\' them awful prints big as bar\\'ls like he seen Monday.\"',\n",
       " 'The visits of Merrival to Windsor, before frequent, had suddenly ceased.',\n",
       " 'It is not to be supposed, however, that the great Underduk suffered this impertinence on the part of the little old man to pass off with impunity.',\n",
       " \"I need not tell you how sceptical I have hitherto been on the topic of the soul's immortality.\",\n",
       " 'I often compared myself to them, and finding that my chief superiority consisted in power, I soon persuaded myself that it was in power only that I was inferior to the chiefest potentates of the earth.',\n",
       " \"And the children's children, and the newcomers' children, grew up.\",\n",
       " 'Dr. Johnson, as I beheld him, was a full, pursy Man, very ill drest, and of slovenly Aspect.',\n",
       " 'Presently the murmur of water fell gently upon my ear and in a few moments afterward, as I turned with the road somewhat more abruptly than hitherto, I became aware that a building of some kind lay at the foot of a gentle declivity just before me.',\n",
       " 'Ellison was remarkable in the continuous profusion of good gifts lavished upon him by fortune.',\n",
       " 'I still continued in the plane of the elipse, but made little progress to the eastward.',\n",
       " 'It was useless to provide many things, for we should find abundant provision in every town.',\n",
       " 'They fly quickly over the snow in their sledges; the motion is pleasant, and, in my opinion, far more agreeable than that of an English stagecoach.',\n",
       " 'I pointed to the spot where he had disappeared, and we followed the track with boats; nets were cast, but in vain.',\n",
       " 'I have indistinct recollections of a great storm some time after I reached the boat; at any rate, I know that I heard peals of thunder and other tones which Nature utters only in her wildest moods.',\n",
       " 'There had seemed to be no one in the courtyard below, and I hoped there would be a chance to get away before the spreading of a general alarm.',\n",
       " 'Mein Gott do you take me vor a shicken?\" \"No oh no\" I replied, much alarmed, \"you are no chicken certainly not.\"',\n",
       " 'Perpetual fear had jaundiced his complexion, and shrivelled his whole person.',\n",
       " 'The sun set; the atmosphere grew dim and the evening star no longer shone companionless.',\n",
       " 'The rain ceased; the clouds sunk behind the horizon; it was now evening, and the sun descended swiftly the western sky.',\n",
       " 'Nothing, however, occurred except some hill noises; and when the day came there were many who hoped that the new horror had gone as swiftly as it had come.',\n",
       " 'The state rooms were sufficiently roomy, and each had two berths, one above the other.',\n",
       " \"It was getting dark, and the ancient roofs and chimney pots outside looked very queer through the bull's eye window panes.\",\n",
       " 'They were marched to various parts of the southern counties, quartered in deserted villages, a part were sent back to their own island, while the season of winter so far revived our energy, that the passes of the country were defended, and any increase of numbers prohibited.',\n",
       " 'We suffered no little from cold, and the dampness of the atmosphere was most unpleasant; but the ample space in the car enabled us to lie down, and by means of cloaks and a few blankets, we did sufficiently well.',\n",
       " 'I dared, I conquered them all, till now I have sold myself to death, with the sole condition that thou shouldst follow me Fire, and war, and plague, unite for thy destruction O my Raymond, there is no safety for thee\" With an heavy heart I listened to the changes of her delirium; I made her a bed of cloaks; her violence decreased and a clammy dew stood on her brow as the paleness of death succeeded to the crimson of fever, I placed her on the cloaks.',\n",
       " 'Again he seemed to be in the interior of a house an old house, apparently but the details and inhabitants were constantly changing, and he could never be certain of the faces or the furniture, or even of the room itself, since doors and windows seemed in just as great a state of flux as the more presumably mobile objects.',\n",
       " 'This gentleman was clothed from head to foot in a richly embroidered black silk velvet pall, wrapped negligently around his form after the fashion of a Spanish cloak.',\n",
       " 'The pigeons appeared distressed in the extreme, and struggled to escape; while the cat mewed piteously, and, with her tongue hanging out of her mouth, staggered to and fro in the car as if under the influence of poison.',\n",
       " '\"And what about the window panes?\" \"They were all gone.',\n",
       " 'I panted I gasped for breath There could be no doubt of the design of my tormentors oh most unrelenting oh most demoniac of men I shrank from the glowing metal to the centre of the cell.',\n",
       " 'With great difficulty I gained my feet, and looking dizzily around, was, at first, struck with the idea of our being among breakers; so terrific, beyond the wildest imagination, was the whirlpool of mountainous and foaming ocean within which we were engulfed.',\n",
       " 'The next morning I delivered my letters of introduction and paid a visit to some of the principal professors.',\n",
       " 'Nor did Raymond make an end without drawing in vivid and glowing colours, the splendour of a kingdom, in opposition to the commercial spirit of republicanism.',\n",
       " 'How this celebrated Magazine can sustain its evidently tremendous expenses, is more than we can understand.',\n",
       " 'In a week or two it had visibly faded, and in the course of a few months it was hardly discernible with the naked eye.\"',\n",
       " 'The stranger learned about twenty words at the first lesson; most of them, indeed, were those which I had before understood, but I profited by the others.',\n",
       " 'Each people looked on the coming struggle as that which would be to a great degree decisive; as, in case of victory, the next step would be the siege of Constantinople by the Greeks.',\n",
       " '\"But could not the cavity be detected by sounding?\"',\n",
       " 'My lieutenant, for instance, is a man of wonderful courage and enterprise; he is madly desirous of glory, or rather, to word my phrase more characteristically, of advancement in his profession.',\n",
       " 'Within twenty four hours that machine near the table will generate waves acting on unrecognised sense organs that exist in us as atrophied or rudimentary vestiges.',\n",
       " '\"Everybody got aout o\\' the idee o\\' dyin\\' excep\\' in canoe wars with the other islanders, or as sacrifices to the sea gods daown below, or from snake bite or plague or sharp gallopin\\' ailments or somethin\\' afore they cud take to the water but simply looked forrad to a kind o\\' change that wa\\'n\\'t a bit horrible arter a while.',\n",
       " 'The lips were of the usual marble pallor.',\n",
       " '\"That is absolutely needless,\" replied G .',\n",
       " 'Ahead lay sparse grass and scrub blueberry bushes, and beyond them the naked rock of the crag and the thin peak of the dreaded grey cottage.',\n",
       " 'To be near him, to be loved by him, to feel him again her own, was the limit of her desires.',\n",
       " 'The sky was serene; and, as I was unable to rest, I resolved to visit the spot where my poor William had been murdered.',\n",
       " 'I say \"thing\" be it observed for they tell me the Latin for it is rem.',\n",
       " 'All that he said threw greatly into the shade Cornelius Agrippa, Albertus Magnus, and Paracelsus, the lords of my imagination; but by some fatality the overthrow of these men disinclined me to pursue my accustomed studies.',\n",
       " 'The ex queen gives me Idris; Adrian is totally unfitted to succeed to the earldom, and that earldom in my hands becomes a kingdom.',\n",
       " 'The pupils, too, upon any accession or diminution of light, underwent contraction or dilation, just such as is observed in the feline tribe.',\n",
       " '\"Keep up the largest branch the one on this side,\" said Legrand.',\n",
       " 'And quivering awhile among the draperies of the room, it at length rested in full view upon the surface of the door of brass.',\n",
       " 'Maternal affection had not rendered Idris selfish; at the beginning of our calamity she had, with thoughtless enthusiasm, devoted herself to the care of the sick and helpless.',\n",
       " 'He came like a protecting spirit to the poor girl, who committed herself to his care; and after the interment of his friend he conducted her to Geneva and placed her under the protection of a relation.',\n",
       " 'I had expected some extravagant proposition, and remained silent awhile, collecting my thoughts that I might the better combat her fanciful scheme.',\n",
       " 'Matters had now assumed a really serious aspect, and I resolved to call at once upon my particular friend, Mr. Theodore Sinivate; for I knew that here at least I should get something like definite information.',\n",
       " 'The system had its disadvantages, and even its dangers.',\n",
       " 'Everyone seemed inclined to be silent now, as though holding a secret fear.',\n",
       " 'They still appeared in public together, and lived under the same roof.',\n",
       " '\"But, my dear fellow, you are joking then,\" said I, \"this is a very passable skull indeed, I may say that it is a very excellent skull, according to the vulgar notions about such specimens of physiology and your scarabæus must be the queerest scarabæus in the world if it resembles it.',\n",
       " 'I vaow afur Gawd, I dun\\'t know what he wants nor what he\\'s a tryin\\' to dew.\"',\n",
       " 'He began to answer with violence: \"Yes, yes, I hate you You are my bane, my poison, my disgust Oh No\" And then his manner changed, and fixing his eyes on me with an expression that convulsed every nerve and member of my frame \"you are none of all these; you are my light, my only one, my life.',\n",
       " 'I shivered as I wondered why I did not reach the light, and would have looked down had I dared.',\n",
       " 'The slow ravages of disease are not pleasant to watch, but in my case there was something subtler and more puzzling in the background.',\n",
       " 'As the Comte and his associates turned away from the lowly abode of the alchemists, the form of Charles Le Sorcier appeared through the trees.',\n",
       " 'As I have said, it happened when we were in the medical school, where West had already made himself notorious through his wild theories on the nature of death and the possibility of overcoming it artificially.',\n",
       " 'Besides, Perdita was with him in his retirement; she saw the moodiness that succeeded to this forced hilarity; she marked his disturbed sleep, his painful irritability once she had seen his tears hers had scarce ceased to flow, since she had beheld the big drops which disappointed pride had caused to gather in his eye, but which pride was unable to dispel.',\n",
       " 'I packed up my chemical instruments and the materials I had collected, resolving to finish my labours in some obscure nook in the northern highlands of Scotland.',\n",
       " 'The ideas of my friend may be summed up in a few words.',\n",
       " 'A definite point among the stars had a claim on him and was calling him.',\n",
       " 'I believe I shall be forced to call them both out.',\n",
       " 'God knows what that world can have been, or where he ever glimpsed the blasphemous shapes that loped and trotted and crawled through it; but whatever the baffling source of his images, one thing was plain.',\n",
       " 'Yet all these appearances have been given I beg pardon will be given by the learned of future ages, to the Ashimah of the Syrians.',\n",
       " 'My skin was embrowned by the sun; my step was firm with conscious power.',\n",
       " 'It was in these slums along Main Street that I would find the old Georgian churches, but they were all long abandoned.',\n",
       " '\"I believe, sir, you have forgotten to pay for your brandy and water.\"',\n",
       " 'I started forward and exclaimed, \"Villain Before you sign my death warrant, be sure that you are yourself safe.\"',\n",
       " 'Only his eyes stayed whole, and they glared with a propulsive, dilated incandescence which grew as the face around them charred and dwindled.',\n",
       " 'He determined to extract and condense all of glory, power, and achievement, which might have resulted from a long reign, into the three years of his Protectorate.',\n",
       " 'There was no advertisement of the picking up of this boat.',\n",
       " 'Baffled, the excavators sought a conference with the Superintendent, who ordered great lengths of rope to be taken to the pit, and spliced and lowered without cessation till a bottom might be discovered.',\n",
       " 'They had received orders that if I were again taken, I should be brought to the Earl; and his lenity made them expect a conclusion which they considered ill befitting my crime.',\n",
       " 'Then the lean Nith remarked that no one had seen the old man or his wife since the night the cats were away.',\n",
       " 'Six years had elapsed, passed in a dream but for one indelible trace, and I stood in the same place where I had last embraced my father before my departure for Ingolstadt.',\n",
       " '\"But that Kidd\\'s accumulations were immense, is well known.',\n",
       " 'And as I looked, I beheld the head rise, the black, liquid, and deep sunken eyes open in terror, and the thin, shadowed lips part as if for a scream too frightful to be uttered.',\n",
       " 'And from their high summits, one by one, drop everlasting dews.',\n",
       " \"I had now spent many hours in tears and mournful meditation; it was past twelve o'clock; all was at peace in the house, and the gentle air that stole in at my window did not rustle the leaves of the twining plants that shadowed it.\",\n",
       " 'With the traditionally receptive ears of the small boy, I learned much; though an habitual secretiveness caused me to tell no one of my information or my resolve.',\n",
       " 'He did not himself understand these words, or know why certain things made him feel certain emotions; but fancied that some unremembered dream must be responsible.',\n",
       " 'Look, I weep: for more than two years I have never enjoyed one moment free from anguish.',\n",
       " 'It is indeed demonstrable that every such impulse given the air, must, in the end, impress every individual thing that exists within the universe; and the being of infinite understanding the being whom we have imagined might trace the remote undulations of the impulse trace them upward and onward in their influences upon all particles of an matter upward and onward for ever in their modifications of old forms or, in other words, in their creation of new until he found them reflected unimpressive at last back from the throne of the Godhead.',\n",
       " 'Justine was called on for her defence.',\n",
       " 'His engagement broken, Galpin moved east to begin life anew; but before long, Appletonians heard of his dismissal in disgrace from New York University, where he had obtained an instructorship in English.',\n",
       " 'He had a narrow head, bulging, watery blue eyes that seemed never to wink, a flat nose, a receding forehead and chin, and singularly undeveloped ears.',\n",
       " 'It will be remembered, that, in the earliest stage of my speculations upon the possibility of a passage to the moon, the existence, in its vicinity, of an atmosphere, dense in proportion to the bulk of the planet, had entered largely into my calculations; this too in spite of many theories to the contrary, and, it may be added, in spite of a general disbelief in the existence of any lunar atmosphere at all.',\n",
       " 'My words flowed spontaneously my utterance was firm and quick.',\n",
       " 'Only a very rare affliction, of course, could bring about such vast and radical anatomical changes in a single individual after maturity changes involving osseous factors as basic as the shape of the skull but then, even this aspect was no more baffling and unheard of than the visible features of the malady as a whole.',\n",
       " \"As I fled from that accursed castle along the bog's edge I heard a new sound; common, yet unlike any I had heard before at Kilderry.\",\n",
       " 'He did not try to navigate after the first bold flight, for the reaction had taken something out of his soul.',\n",
       " 'A bear once, attempting to swim from Lofoden to Moskoe, was caught by the stream and borne down, while he roared terribly, so as to be heard on shore.',\n",
       " 'He obeyed her injunctions, and passed a year in exile in Cumberland.',\n",
       " 'He reverted to his past life, his successes in Greece, his favour at home.',\n",
       " 'Murderers, casting it in, would not have failed to attach a weight.',\n",
       " 'After each short and inevitable sleep I seemed older, whilst my friend aged with a rapidity almost shocking.',\n",
       " 'I look on the hands which executed the deed; I think on the heart in which the imagination of it was conceived and long for the moment when these hands will meet my eyes, when that imagination will haunt my thoughts no more.',\n",
       " 'Horrible sights were shaped to me in the turbid cloud that hovered over the city; and my only relief was derived from the struggles I made to approach the gate.',\n",
       " 'In order to reach it, he said, he would soar through abysses of emptiness, burning every obstacle that stood in his way.',\n",
       " '\"Pierre Moreau, tobacconist, deposes that he has been in the habit of selling small quantities of tobacco and snuff to Madame L\\'Espanaye for nearly four years.',\n",
       " 'I still quickened my pace.',\n",
       " 'I resolved to fly far from the scene of my misfortunes; but to me, hated and despised, every country must be equally horrible.',\n",
       " 'It was in the spirit of this wisdom that, among the ancient Hebrews, it was believed the gates of Heaven would be inevitably opened to that sinner, or saint, who, with good lungs and implicit confidence, should vociferate the word \"Amen\" It was in the spirit of this wisdom that, when a great plague raged at Athens, and every means had been in vain attempted for its removal, Epimenides, as Laertius relates, in his second book, of that philosopher, advised the erection of a shrine and temple \"to the proper God.\" LYTTLETON BARRY.',\n",
       " \"I feel confident he never would have dreamed of taking up his residence in Alexander the Great o nopolis had he been aware that, in Alexander the Great o nopolis, there lived a gentleman named John Smith if I rightly remember, who for many years had there quietly grown fat in editing and publishing the 'Alexander the Great o nopolis Gazette.'\",\n",
       " 'I will protect the first the latter I commit to your charge.',\n",
       " 'Miserable himself that he may render no other wretched, he ought to die.',\n",
       " 'The police heard a shot in the old Tillinghast house and found us there Tillinghast dead and me unconscious.',\n",
       " 'It is even possible that the train of my ideas would never have received the fatal impulse that led to my ruin.',\n",
       " 'I had not entered the army on my own initiative, but rather as a natural result of the enlistment of the man whose indispensable assistant I was the celebrated Boston surgical specialist, Dr. Herbert West.',\n",
       " 'It was my last link with a chapter of life forever closed, and I valued it highly.',\n",
       " 'The longer I meditated upon these the more intense grew the interest which had been excited within me.',\n",
       " 'She often repined; but her trust in the singleness of his affection was undisturbed; and, when they were together, unchecked by fear, she opened her heart to the fullest delight.',\n",
       " 'To me there was nothing grotesque in the bones and skeletons that strowed some of the stone crypts deep down among the foundations.',\n",
       " 'He was full of thought, and remained silent during a considerable part of our ride; at length he said, \"I must apologize to you for my abstraction; the truth is, Ryland\\'s motion comes on to night, and I am considering my reply.\"',\n",
       " 'The Thing cannot be described there is no language for such abysms of shrieking and immemorial lunacy, such eldritch contradictions of all matter, force, and cosmic order.',\n",
       " 'To add to our dilemma, we found the pumps choked and nearly useless.',\n",
       " 'By these means for they were ignorant men I found little difficulty in gaining them over to my purpose.',\n",
       " 'It was queer damnably queer and my uncle spoke almost sheepishly, as if half expecting not to be believed, when he declared that of the strange faces many had unmistakably borne the features of the Harris family.',\n",
       " 'For three months a night has not passed, during the greater part of which I have not been engaged, personally, in ransacking the D Hotel.',\n",
       " 'Raymond did not wonder, that, thus situated, the artist had shrunk from notice, but he did not for this alter his resolve.',\n",
       " 'Not any more does he long for the magic of farther hills, or sigh for secrets that peer like green reefs from a bottomless sea.',\n",
       " 'But while I endured punishment and pain in their defence with the spirit of an hero, I claimed as my reward their praise and obedience.',\n",
       " 'I must collect my thoughts.',\n",
       " 'Never imposing upon any one myself, I suffered no one to play the possum with me.',\n",
       " '\"Not so,\" said I, \"though I confess that my thoughts are not occupied as pleasantly as yours are.',\n",
       " 'Then, as I remained, paralysed with fear, he found his voice and in his dying breath screamed forth those words which have ever afterward haunted my days and my nights.',\n",
       " '\"Surely it is not the custom of Englishmen to receive strangers so inhospitably.\"',\n",
       " 'They remained confined for five months before the trial took place, the result of which deprived them of their fortune and condemned them to a perpetual exile from their native country.',\n",
       " \"they never stopped swimmin' in an' aout o' the river from that cursed reef o' Satan an' more an' more attic winders got a boarded up, an' more an' more noises was heerd in haouses as wa'n't s'posed to hev nobody in 'em. . . .\",\n",
       " 'At Lawrence he had been prominent in the mock fraternity of \"Tappa Tappa Keg\", where he was the wildest and merriest of the wild and merry young roysterers; but this immature, collegiate frivolity did not satisfy him.',\n",
       " \"The limbs, save for their black fur, roughly resembled the hind legs of prehistoric earth's giant saurians; and terminated in ridgy veined pads that were neither hooves nor claws.\",\n",
       " 'These are my enticements, and they are sufficient to conquer all fear of danger or death and to induce me to commence this laborious voyage with the joy a child feels when he embarks in a little boat, with his holiday mates, on an expedition of discovery up his native river.',\n",
       " 'There were adequate bolts on the two lateral doors to connecting rooms, and these I proceeded to fasten.',\n",
       " 'His supposition was that \"a well taught boy very thin and tall of his age sufficiently so that he could be concealed in a drawer almost immediately under the chess board\" played the game of chess and effected all the evolutions of the Automaton.',\n",
       " 'Interspersed about the room, crossing and recrossing in endless irregularity, were innumerable benches and desks, black, ancient, and time worn, piled desperately with much bethumbed books, and so beseamed with initial letters, names at full length, grotesque figures, and other multiplied efforts of the knife, as to have entirely lost what little of original form might have been their portion in days long departed.',\n",
       " 'If manly courage and resistance can save us, we will be saved.',\n",
       " 'The silver hair and benevolent countenance of the aged cottager won my reverence, while the gentle manners of the girl enticed my love.',\n",
       " 'I commenced by inuring my body to hardship.',\n",
       " 'But these absurdities I must not pause to detail.',\n",
       " 'I travelled only at night, fearful of encountering the visage of a human being.',\n",
       " 'Scarcely had we recovered our senses, before the foretopsail went into shreds, when we got up a storm stay sail and with this did pretty well for some hours, the ship heading the sea much more steadily than before.',\n",
       " 'The lower portion of the other is hidden from view by the head of the unwieldy bedstead which is thrust close up against it.',\n",
       " 'Adrian had introduced systematic modes of proceeding in the metropolis, which, while they were unable to stop the progress of death, yet prevented other evils, vice and folly, from rendering the awful fate of the hour still more tremendous.',\n",
       " '\"At a quarter past eight, being no longer able to draw breath without the most intolerable pain, I proceeded forthwith to adjust around the car the apparatus belonging to the condenser.',\n",
       " \"The professor had been stricken whilst returning from the Newport boat; falling suddenly, as witnesses said, after having been jostled by a nautical looking negro who had come from one of the queer dark courts on the precipitous hillside which formed a short cut from the waterfront to the deceased's home in Williams Street.\",\n",
       " 'Suddenly the wretch, animated with his last burst of strength, raised his hideous head from the damp and sunken pavement.',\n",
       " '\"Ha ha ha\" said that gentleman \"he he he hi hi hi ho ho ho hu hu hu hu very good indeed You must not be astonished, mon ami; our friend here is a wit a drole you must not understand him to the letter.\"',\n",
       " 'It is true that I may not find an opportunity of transmitting it to the world, but I will not fall to make the endeavour.',\n",
       " 'I repeat that in landscape arrangements, or collocations alone, is the physical Nature susceptible of \"exaltation\" and that, therefore, her susceptibility of improvement at this one point, was a mystery which, hitherto I had been unable to solve.',\n",
       " 'He also cut timber and began to repair the unused parts of his house a spacious, peaked roofed affair whose rear end was buried entirely in the rocky hillside, and whose three least ruined ground floor rooms had always been sufficient for himself and his daughter.',\n",
       " 'In the meantime it was folly to grieve, or to think.',\n",
       " 'The extreme darkness of the stage, whose only light was received from the fire under the cauldron, joined to a kind of mist that floated about it, rendered the unearthly shapes of the witches obscure and shadowy.',\n",
       " \"Sheehan's is the acknowledged centre to Chicago's subterranean traffic in liquor and narcotics, and as such has a certain dignity which extends even to the unkempt attachés of the place; but there was until lately one who lay outside the pale of that dignity one who shared the squalor and filth, but not the importance, of Sheehan's.\",\n",
       " 'Perhaps the gradation of his copy rendered it not so readily perceptible; or, more possibly, I owed my security to the master air of the copyist, who, disdaining the letter, which in a painting is all the obtuse can see, gave but the full spirit of his original for my individual contemplation and chagrin.',\n",
       " 'It was perhaps an effect of such surroundings that my mind early acquired a shade of melancholy.',\n",
       " '\"You ought to hear, though, what some of the old timers tell about the black reef off the coast Devil Reef, they call it.',\n",
       " 'The prince had provided all the appliances of pleasure.',\n",
       " 'For a week I tasted to the full the joys of that charnel conviviality which I must not describe, when the thing happened, and I was borne away to this accursed abode of sorrow and monotony.',\n",
       " \"He see enough, I tell ye, Mis' Corey This dun't mean no good, an' I think as all the men folks ought to git up a party an' do suthin'.\",\n",
       " 'No recognised school of sculpture had animated this terrible object, yet centuries and even thousands of years seemed recorded in its dim and greenish surface of unplaceable stone.',\n",
       " 'For a long time I dared not hope; but when his unobstructed breathing and the moisture that suffused his forehead, were tokens no longer to be mistaken of the departure of mortal malady, I ventured to whisper the news of the change to Idris, and at length succeeded in persuading her that I spoke truth.',\n",
       " 'He comprehended, moreover, the true character, the august aims, the supreme majesty and dignity of the poetic sentiment.',\n",
       " 'Else there is no immortality for man.',\n",
       " 'I laid the second tier, and the third, and the fourth; and then I heard the furious vibrations of the chain.',\n",
       " 'All in all, he became a disconcerting and even gruesome companion; yet in my gratitude for his healing I could not well abandon him to the strangers around him, and was careful to dust his room and attend to his needs each day, muffled in a heavy ulster which I bought especially for the purpose.',\n",
       " 'I longed for the love which had before filled it to overflowing.',\n",
       " 'It was a lambent glow of this sort which always played about the old woman and the small furry thing in those lighter, sharper dreams which prefaced his plunge into unknown abysses, and the thought that a wakeful second person could see the dream luminance was utterly beyond sane harbourage.',\n",
       " 'My first thought was Perdita; to her I must return; her I must support, drawing such food from despair as might best sustain her wounded heart; recalling her from the wild excesses of grief, by the austere laws of duty, and the soft tenderness of regret.',\n",
       " 'He owned affinity not only with mankind, but all nature was akin to him; the mountains and sky were his friends; the winds of heaven and the offspring of earth his playmates; while he the focus only of this mighty mirror, felt his life mingle with the universe of existence.',\n",
       " 'Uninquiring souls let this occurrence pass as one of the major clashes in a spasmodic war on liquor.',\n",
       " 'The rigging was found to be ill fitted, and greatly strained; and on the third day of the blow, about five in the afternoon, our mizzen mast, in a heavy lurch to windward, went by the board.',\n",
       " 'Alfred stood immoveable before him, his whole attention absorbed.',\n",
       " 'Beyond it the rusted railway and the Rowley road led off through a flat, marshy terrain dotted with islets of higher and dryer scrub grown land.',\n",
       " 'Williamson records and traditions were supplied in abundance by my grandfather; though for Orne material I had to depend on my uncle Walter, who put at my disposal the contents of all his files, including notes, letters, cuttings, heirlooms, photographs, and miniatures.',\n",
       " 'A closer scrutiny, however, satisfied me that it was intended for a kid.\" \"Ha ha\" said I, \"to be sure I have no right to laugh at you a million and a half of money is too serious a matter for mirth but you are not about to establish a third link in your chain you will not find any especial connexion between your pirates and a goat pirates, you know, have nothing to do with goats; they appertain to the farming interest.\"',\n",
       " 'It is no cause for wonder, surely, that even a gang of blackguards should make haste to get home, when a wide river is to be crossed in small boats, when storm impends, and when night approaches.',\n",
       " 'The connexion of the two events had about it so much of the palpable, that the true wonder would have been a failure of the populace to appreciate and to seize it.',\n",
       " 'When I heard the fears which had driven the people from Kilderry I laughed as loudly as my friend had laughed, for these fears were of the vaguest, wildest, and most absurd character.',\n",
       " 'Leave me; I am inexorable.\"',\n",
       " 'I listened to my father in silence and remained for some time incapable of offering any reply.',\n",
       " 'You hate me, but your abhorrence cannot equal that with which I regard myself.',\n",
       " 'I had been, albeit without definite reason, instinctively on my guard and that was to my advantage in the new and real crisis, whatever it might turn out to be.',\n",
       " 'I assured my patron that, if this was all, I was perfectly resigned to the task of playing Thomas Hawk.',\n",
       " 'A large bruise was discovered upon the pit of the stomach, produced, apparently, by the pressure of a knee.',\n",
       " \"Mem he'll answer, too.\",\n",
       " 'Let a composition be defective, let an emendation be wrought in its mere arrangement of form; let this emendation be submitted to every artist in the world; by each will its necessity be admitted.',\n",
       " 'The hangman, however, adjusted the noose about my neck.',\n",
       " 'Then with utter and horrifying suddenness we heard a frightful sound from below.',\n",
       " 'The boat, however, must not be detained.',\n",
       " \"We started about four o'clock Legrand, Jupiter, the dog, and myself.\",\n",
       " \"What do maps and records and guide books really tell of the North End? Bah At a guess I'll guarantee to lead you to thirty or forty alleys and networks of alleys north of Prince Street that aren't suspected by ten living beings outside of the foreigners that swarm them.\",\n",
       " 'It would be useless to describe the playing of Erich Zann on that dreadful night.',\n",
       " 'In this particular instance, it will be understood as most probable, that she proceeded upon a route of more than average diversity from her accustomed ones.',\n",
       " 'Having noticed these particulars, and some others, I again turned my eyes upon the glorious prospect below, and soon became absorbed in contemplation.',\n",
       " 'Many of the vessels fired signal guns; and in all we were saluted with loud cheers which we heard with surprising distinctness and the waving of caps and handkerchiefs.',\n",
       " 'The party spread themselves and hurried from room to room.',\n",
       " 'He made a vow against love and its train of struggles, disappointment and remorse, and sought in mere sensual enjoyment, a remedy for the injurious inroads of passion.',\n",
       " 'After that Johansen only brooded over the idol in the cabin and attended to a few matters of food for himself and the laughing maniac by his side.',\n",
       " 'The latter examined it carefully and deposited it in his pocket book; then, unlocking an escritoire, took thence a letter and gave it to the Prefect.',\n",
       " 'I retired early and full of dread, and for a long time could not sleep in the uncanny silence of the tower.',\n",
       " 'I provided myself with a sum of money, together with a few jewels which had belonged to my mother, and departed.',\n",
       " 'I rushed towards the window, and drawing a pistol from my bosom, fired; but he eluded me, leaped from his station, and running with the swiftness of lightning, plunged into the lake.',\n",
       " \"Xh, pxh, pxh, Jxhn, dxn't dx sx Yxu've gxt tx gx, yxu knxw, sx gx at xnce, and dxn't gx slxw; fxr nxbxdy xwns yxu here, yxu knxw.\",\n",
       " 'You would have sworn that the writer had been born and brought up in a coffin.',\n",
       " '\"There are a prodigious number of stately palaces.\"',\n",
       " \"She might have heard of my return from London, and my visit to Bolter's Lock, which, connected with my continued absence, might tend greatly to alarm her.\",\n",
       " 'This man, whose name was Beaufort, was of a proud and unbending disposition and could not bear to live in poverty and oblivion in the same country where he had formerly been distinguished for his rank and magnificence.',\n",
       " 'We found, on each side of the humid pathway, \"dry land for the sole of the foot.\"',\n",
       " 'I dare not ask you to do what I think right, for I may still be misled by passion.',\n",
       " 'Refusing to flee, I watched it fade and as I watched I felt that it was in turn watching me greedily with eyes more imaginable than visible.',\n",
       " '\"Then up with you as soon as possible, for it will soon be too dark to see what we are about.\"',\n",
       " 'Since then I must be an object of indifference or contempt to her, better, far better avoid her, nor expose myself before her and the scornful world to the chance of playing the mad game of a fond, foolish Icarus.',\n",
       " 'I shewed her the dangers which her children incurred during her absence; and she at length agreed not to go beyond the inclosure of the forest.',\n",
       " 'The entire surface of this metallic enclosure was rudely daubed in all the hideous and repulsive devices to which the charnel superstition of the monks has given rise.',\n",
       " 'That scene itself must have corresponded to the sealed loft overhead, which had begun to attack his imagination so violently, but later impressions were faint and hazy.',\n",
       " '\"Mille tonnerres\" ejaculated the Prince de Grenouille.',\n",
       " 'The remains of the half finished creature, whom I had destroyed, lay scattered on the floor, and I almost felt as if I had mangled the living flesh of a human being.',\n",
       " 'It was plain that the owner had come home; but he had not come from the land, nor from any balloon or airship that could be imagined.',\n",
       " \"Others thought and still think he'd found an old pirate cache out on Devil Reef.\",\n",
       " 'This is what I saw in the glass: A thin, dark man of medium stature attired in the clerical garb of the Anglican church, apparently about thirty, and with rimless, steel bowed glasses glistening beneath a sallow, olive forehead of abnormal height.',\n",
       " 'Then again the kindly influence ceased to act I found myself fettered again to grief and indulging in all the misery of reflection.',\n",
       " \"As the sailor looked in, the gigantic animal had seized Madame L'Espanaye by the hair, which was loose, as she had been combing it, and was flourishing the razor about her face, in imitation of the motions of a barber.\",\n",
       " 'His feelings are forever on the stretch; and when he begins to sink into repose, he finds himself obliged to quit that on which he rests in pleasure for something new, which again engages his attention, and which also he forsakes for other novelties.',\n",
       " '\"The father of Safie had been the cause of their ruin.',\n",
       " 'The matter was impossible.',\n",
       " '\"No\" said the Baron, turning abruptly toward the speaker, \"dead say you?\" \"It is indeed true, my lord; and, to a noble of your name, will be, I imagine, no unwelcome intelligence.\"',\n",
       " 'At length, one escaping through a sewer, gave freedom to all the rest.',\n",
       " '\"My children,\" she said, \"my firmest hopes of future happiness were placed on the prospect of your union.',\n",
       " 'I mean the line Perdidit antiquum litera sonum.',\n",
       " \"In establishing 'The Tea Pot' he expected to have the field all to himself.\",\n",
       " 'They would have left nothing behind them; for their number would have enabled them to carry all at once.',\n",
       " 'Time, place, and circumstances rendered it a matter beyond question.',\n",
       " 'He developed strange caprices, acquiring a fondness for exotic spices and Egyptian incense till his room smelled like the vault of a sepulchred Pharaoh in the Valley of Kings.',\n",
       " 'They made the special effects, indeed, wrought in the fluid by special impulses, the subject of exact calculation so that it became easy to determine in what precise period an impulse of given extent would engirdle the orb, and impress for ever every atom of the atmosphere circumambient.',\n",
       " '\"O yes; and for this reason I did not despair.',\n",
       " \"Haow'd ye like to hear what comes from that awful reef every May Eve an' Hallowmass?\",\n",
       " 'The alienists listened with keen attention to his words, since their curiosity had been aroused to a high pitch by the suggestive yet mostly conflicting and incoherent stories of his family and neighbours.',\n",
       " 'It must have been midnight at least when Birch decided he could get through the transom.',\n",
       " 'I will win him to me; he shall not deny his grief to me and when I know his secret then will I pour a balm into his soul and again I shall enjoy the ravishing delight of beholding his smile, and of again seeing his eyes beam if not with pleasure at least with gentle love and thankfulness.',\n",
       " 'You must be careful and give the thing with a downright improviso air.',\n",
       " 'As my uncle began slowly and grudgingly to unwrap the things he urged me not to be shocked by the strangeness and frequent hideousness of the designs.',\n",
       " 'As I looked, a subtle, curious sense of beckoning seemed superadded to the grim repulsion; and oddly enough, I found this overtone more disturbing than the primary impression.',\n",
       " 'It is curious that although he differed so widely from the mass of Hispanicised and tribal Indians, Romero gave not the least impression of Caucasian blood.',\n",
       " 'There was Ferdinand Fitz Fossillus Feltspar.',\n",
       " 'At the termination of this sentence I started, and for a moment, paused; for it appeared to me although I at once concluded that my excited fancy had deceived me it appeared to me that, from some very remote portion of the mansion, there came, indistinctly, to my ears, what might have been, in its exact similarity of character, the echo but a stifled and dull one certainly of the very cracking and ripping sound which Sir Launcelot had so particularly described.',\n",
       " 'From indications afforded by the barometer, we find that, in ascensions from the surface of the earth we have, at the height of , feet, left below us about one thirtieth of the entire mass of atmospheric air, that at , we have ascended through nearly one third; and that at ,, which is not far from the elevation of Cotopaxi, we have surmounted one half the material, or, at all events, one half the ponderable, body of air incumbent upon our globe.',\n",
       " 'The task seemed interminable, and I raged almost as violently as the hermit when I saw the hours slipping by in a breathless, foodless round of vain telephoning, and a hectic quest from place to place, hither and thither by subway and surface car.',\n",
       " 'I soon arrived at the hut: the door was ajar.',\n",
       " 'Who or what then, was my great great grandmother?',\n",
       " 'For a moment I was almost paralized by fear; but my energy returned and I demanded a guide to accompany me in following his steps.',\n",
       " 'I could with pleasure have destroyed the cottage and its inhabitants and have glutted myself with their shrieks and misery.',\n",
       " 'I breathed no longer.',\n",
       " 'existing about the moon.',\n",
       " 'she of the diminutive head and the gilded hair?',\n",
       " 'Nor was any child to be born alive in that house for a century and a half.',\n",
       " 'Then, as September approached, the clouds began to clear.',\n",
       " 'I remembered in one of her harshest moments a quotation of mine had roused her to anger and disdain.',\n",
       " '\"Its adaptation to the eyes which were to behold it upon earth.\"',\n",
       " \"At times her screams became insupportable, and for long periods she would utter shrieking horrors which necessitated her son's temporary residence with his cousin, Peleg Harris, in Presbyterian Lane near the new college building.\",\n",
       " 'There had been nothing like order or arrangement.',\n",
       " 'It was the pictorial carving, however, that did most to hold me spellbound.',\n",
       " 'The grave was not very deep, but fully as good as that of the previous specimen the thing which had risen of itself and uttered a sound.',\n",
       " 'About two hours after this occurrence we heard the ground sea, and before night the ice broke and freed our ship.',\n",
       " 'Accordingly, I was no sooner seated at the card table, with my pretty hostess for a vis à vis, than I propounded those questions the solution of which had become a matter so essential to my peace.',\n",
       " 'The company followed our example without stint.',\n",
       " 'I will not pursue these guesses for I have no right to call them more since the shades of reflection upon which they are based are scarcely of sufficient depth to be appreciable by my own intellect, and since I could not pretend to make them intelligible to the understanding of another.',\n",
       " 'The daughter lay prostrate and motionless; she had swooned.',\n",
       " 'The abysses were by no means vacant, being crowded with indescribably angled masses of alien hued substance, some of which appeared to be organic while others seemed inorganic.',\n",
       " \"Past the churchyard, where there were no houses, I could see over the hill's summit and watch the glimmer of stars on the harbour, though the town was invisible in the dark.\",\n",
       " 'Whenever it fell upon me, my blood ran cold; and so by degrees very gradually I made up my mind to take the life of the old man, and thus rid myself of the eye forever.',\n",
       " 'Upon this occasion we should have been driven out to sea in spite of everything, for the whirlpools threw us round and round so violently, that, at length, we fouled our anchor and dragged it if it had not been that we drifted into one of the innumerable cross currents here to day and gone to morrow which drove us under the lee of Flimen, where, by good luck, we brought up.',\n",
       " 'Disappointment and sickness have hitherto held dominion over me; twin born with me, my would, was for ever enchained by the shall not, of these my tyrants.',\n",
       " 'The perfume in my nostrils died away.',\n",
       " 'Adrian led the troops.',\n",
       " 'The tension on our part became very great.',\n",
       " 'Yet she smiled on and still on, uncomplainingly, because she saw that the painter who had high renown took a fervid and burning pleasure in his task, and wrought day and night to depict her who so loved him, yet who grew daily more dispirited and weak.',\n",
       " 'You on earth have unwittingly felt its distant presence you who without knowing idly gave to its blinking beacon the name of Algol, the Daemon Star.',\n",
       " 'why string my nerves and renew my wearied efforts ah, why?',\n",
       " 'Again a furtive trying of a bolted connecting door, and again a receding creaking.',\n",
       " 'The sun arose with a sickly yellow lustre, and clambered a very few degrees above the horizon emitting no decisive light.',\n",
       " 'The weather was cold; and, upon quitting my own room, I had thrown a cloak over my dressing wrapper, putting it off upon reaching the scene of play.',\n",
       " '\"How much was the reward offered, did you say?\" asked Dupin.',\n",
       " 'I was still alone, for as much as I feared the unknown horror I sought, there was more fear in the thought of telling anybody.',\n",
       " 'I do not weep or sigh; but I must reason with myself, and force myself to feel sorrow and despair.',\n",
       " 'Our conversation was now long, earnest, uninterrupted, and totally unreserved.',\n",
       " \"He knew things he didn't dare put into that stupid Magnalia or that puerile Wonders of the Invisible World.\",\n",
       " 'Briden looked back and went mad, laughing shrilly as he kept on laughing at intervals till death found him one night in the cabin whilst Johansen was wandering deliriously.',\n",
       " 'Moreover, my occupations have been always made to chime in with the ordinary habitudes of my fellowmen.',\n",
       " 'To this man Iranon spoke, as to so many others: \"Canst thou tell me where I may find Aira, the city of marble and beryl, where flows the hyaline Nithra and where the falls of the tiny Kra sing to verdant valleys and hills forested with yath trees?\"',\n",
       " '\"Were I misanthropic,\" he said, \"such a locale would suit me.',\n",
       " 'In my childhood the shunned house was vacant, with barren, gnarled, and terrible old trees, long, queerly pale grass, and nightmarishly misshapen weeds in the high terraced yard where birds never lingered.',\n",
       " 'He found my name a good passport to preferment, and he had procured for me the situation of private secretary to the Ambassador at Vienna, where I should enter on my career under the best auspices.',\n",
       " \"There were reasons why I would have been glad to let the war separate us; reasons why I found the practice of medicine and the companionship of West more and more irritating; but when he had gone to Ottawa and through a colleague's influence secured a medical commission as Major, I could not resist the imperious persuasion of one determined that I should accompany him in my usual capacity.\",\n",
       " 'But on you only had I any claim for pity and redress, and from you I determined to seek that justice which I vainly attempted to gain from any other being that wore the human form.',\n",
       " 'I strove to think that all this grandeur was but more glaring infamy, and that, by planting his gold enwoven flag beside my tarnished and tattered banner, he proclaimed not his superiority, but his debasement.',\n",
       " 'I will not dwell longer than I need on these disastrous circumstances.',\n",
       " 'Geographically it lay about two miles northwest of the base of Tempest Mountain, and three miles from the oak girt mansion.',\n",
       " '\"D ,\" replied Dupin, \"is a desperate man, and a man of nerve.',\n",
       " '\"Upon honor,\" said I. \"Nose and all?\" she asked.',\n",
       " 'I heard the next morning from the steward that upon his arrival he had been in a most terrible state of mind: he had passed the first night in the garden lying on the damp grass; he did not sleep but groaned perpetually.',\n",
       " 'Then the lock of the connecting door to my room was softly tried.',\n",
       " 'This had probably been done with the view of arousing me from sleep.',\n",
       " 'It was at this moment that his eyes, and mine also, fell upon the scrap of parchment, which I then supposed to be paper.',\n",
       " 'On his throat were the marks of murderous hands, and on his left ankle was a distressing rat bite.',\n",
       " 'Everything is related in them which bears reference to my accursed origin; the whole detail of that series of disgusting circumstances which produced it is set in view; the minutest description of my odious and loathsome person is given, in language which painted your own horrors and rendered mine indelible.',\n",
       " 'When we reached this tree, Legrand turned to Jupiter, and asked him if he thought he could climb it.',\n",
       " 'I gave him pretty nearly the same account of my former pursuits as I had given to his fellow professor.',\n",
       " 'Thus was I left to ponder on myself as the only human creature within the great fortress, and in my utter solitude my mind began to cease its vain protest against the impending doom, to become almost reconciled to the fate which so many of my ancestors had met.',\n",
       " 'As the music went on, my ideas seemed to quit their mortal dwelling house; they shook their pinions and began a flight, sailing on the placid current of thought, filling the creation with new glory, and rousing sublime imagery that else had slept voiceless.',\n",
       " 'I waited for my letters with feverish impatience; if they were delayed I was miserable and overcome by a thousand fears; and when they arrived and I saw the superscription of Elizabeth or my father, I hardly dared to read and ascertain my fate.',\n",
       " 'It is now madness or hypocrisy to doubt.',\n",
       " 'But even in this acute moment my chief horror was something apart from the immediate weakness of my defences.',\n",
       " \"Trade fallin' off, mills losin' business even the new ones an' the best of our menfolks kilt a privateerin' in the War of or lost with the Elizy brig an' the Ranger snow both of 'em Gilman venters.\",\n",
       " 'One fine February day, when the sun had reassumed some of its genial power, I walked in the forest with my family.',\n",
       " 'Ingenuity: Your diddler is ingenious.',\n",
       " \"all over the reef an' swimmin' up the harbour into the Manuxet. . . .\",\n",
       " 'At this time Lord Raymond returned from Greece.',\n",
       " 'Bread and water did not tame my blood, nor solitary confinement inspire me with gentle thoughts.',\n",
       " \"The moon's distance from the earth is, in round numbers, , miles.\",\n",
       " 'I carried pistols and a dagger constantly about me and was ever on the watch to prevent artifice, and by these means gained a greater degree of tranquillity.',\n",
       " 'This accident, with the loss of my insurance, and with the more serious loss of my hair, the whole of which had been singed off by the fire, predisposed me to serious impressions, so that, finally, I made up my mind to take a wife.',\n",
       " 'As these crossed the direct line of my vision they affected me as forms; but upon passing to my side their images impressed me with the idea of shrieks, groans, and other dismal expressions of terror, of horror, or of wo.',\n",
       " 'So entirely secluded, and in fact inaccessible, except through a series of accidents, is the entrance of the ravine, that it is by no means impossible that I was indeed the first adventurer the very first and sole adventurer who had ever penetrated its recesses.',\n",
       " 'In ceasing, he departed at once, and as abruptly as he had entered.',\n",
       " \"and one, who led the way, was clad in a ghoulishly humped black coat and striped trousers, and had a man's felt hat perched on the shapeless thing that answered for a head. . . .\",\n",
       " 'We could not understand, that is to say, we could not have understood, had the notion of this primum mobile ever obtruded itself; we could not have understood in what manner it might be made to further the objects of humanity, either temporal or eternal.',\n",
       " 'The event, under the circumstances, was tremendous; for in the existence of a subterranean space here, my mad theories had terrible confirmation.',\n",
       " 'The gentle words of Agatha and the animated smiles of the charming Arabian were not for me.',\n",
       " 'Alas Life is obstinate and clings closest where it is most hated.',\n",
       " 'The voice, however, still puzzled me no little; but even this apparent mystery was speedily cleared up.',\n",
       " \"Gilman's dreams consisted largely in plunges through limitless abysses of inexplicably coloured twilight and bafflingly disordered sound; abysses whose material and gravitational properties, and whose relation to his own entity, he could not even begin to explain.\",\n",
       " 'I was struck by the improvement that appeared in the health of Adrian.',\n",
       " '\"Are you better now, sir?\" said she.',\n",
       " 'Another woman confirmed the account of the fishermen having brought the body into her house; it was not cold.',\n",
       " 'I could now find room to doubt the evidence of my senses; and seldom called up the subject at all but with wonder at extent of human credulity, and a smile at the vivid force of the imagination which I hereditarily possessed.',\n",
       " 'His appearance, different from any I had ever before seen, and his flight somewhat surprised me.',\n",
       " 'I am thy creature, and I will be even mild and docile to my natural lord and king if thou wilt also perform thy part, the which thou owest me.',\n",
       " 'The insane yarn I had heard from the aged drunkard did not promise very pleasant dreams, and I felt I must keep the image of his wild, watery eyes as far as possible from my imagination.',\n",
       " 'Here, divesting myself of my clothes, for there is no reason why we cannot die as we were born, I threw myself headlong into the current; the sole witness of my fate being a solitary crow that had been seduced into the eating of brandy saturated corn, and so had staggered away from his fellows.',\n",
       " 'At a wave of my hand my deliverers hurried tumultuously away.',\n",
       " 'You should have seen me you should.',\n",
       " 'And, in the midst of all this, the continuous braying of a donkey arose over all.',\n",
       " 'There was none of the exotic technique you see in Sidney Sime, none of the trans Saturnian landscapes and lunar fungi that Clark Ashton Smith uses to freeze the blood.',\n",
       " 'For Arthur Munroe was dead.',\n",
       " 'Nor did I doubt, that in the tranquillity of our family circle at Windsor, she would recover some degree of composure, and in the end, of happiness.',\n",
       " 'These Great Old Ones, Castro continued, were not composed altogether of flesh and blood.',\n",
       " 'Having thus fathomed, to his satisfaction, the intentions of Jehovah, out of these intentions he built his innumerable systems of mind.',\n",
       " 'No man could crush a \"butterfly on the wheel\" with better effect; no man better cover a speedy retreat from a powerful adversary.',\n",
       " 'In fact, to write upon such a theme it is necessary to have been hanged.',\n",
       " 'Their still apparent union permitted her to do much; but no woman could, in the end, present a remedy to the encreasing negligence of the Protector; who, as if seized with a paroxysm of insanity, trampled on all ceremony, all order, all duty, and gave himself up to license.',\n",
       " \"When the old woman began to turn toward him he fled precipitately off the bridge and into the shelter of the town's labyrinthine waterfront alleys.\",\n",
       " 'The rooks cawed loudly in the trees above; mixed with their hoarse cries I heard a lively strain of music.',\n",
       " 'I took it because of the queer old brick well in the cellar one of the sort I told you about.',\n",
       " 'No sympathy may I ever find.',\n",
       " 'Steeped in misery as I am misery, alas only too real I shall be pardoned for seeking relief, however slight and temporary, in the weakness of a few rambling details.',\n",
       " 'I suppose some astonishment was exhibited in my countenance, for Mr. Kirwin hastened to say, \"Immediately upon your being taken ill, all the papers that were on your person were brought me, and I examined them that I might discover some trace by which I could send to your relations an account of your misfortune and illness.',\n",
       " 'He knew deeper vices through books, and he now longed to know them at first hand.',\n",
       " 'As soon as morning dawned I crept from my kennel, that I might view the adjacent cottage and discover if I could remain in the habitation I had found.',\n",
       " '\"Ass\" said the fourth.',\n",
       " 'Elinor die This is frenzy and the most miserable despair: you cannot die while I am near.\"',\n",
       " \"Then too, we had spoken to him in advance of our quest; and I felt after my uncle's going that he would understand and assist me in some vitally necessary public explanations.\",\n",
       " \"Our talk was on subjects, unconnected with the emotions that evidently occupied each; but we each divined the other's thought, and as our voices spoke of indifferent matters, our eyes, in mute language, told a thousand things no tongue could have uttered.\",\n",
       " 'I was very sorry for him, for I dislike to see a German suffer; but he was not a good man to die with.',\n",
       " \"An' the smell was awful, like what it is araound Wizard Whateley's ol' haouse. . .\",\n",
       " 'Nor did Adrian instruct me only in the cold truths of history and philosophy.',\n",
       " 'This relieves us of all doubt upon the question whether the old lady could have first destroyed the daughter and afterward have committed suicide.',\n",
       " 'On a certain rainy afternoon when this illusion seemed phenomenally strong, and when, in addition, I had fancied I glimpsed a kind of thin, yellowish, shimmering exhalation rising from the nitrous pattern toward the yawning fireplace, I spoke to my uncle about the matter.',\n",
       " \"'Let me go,' he cried; 'monster Ugly wretch You wish to eat me and tear me to pieces.\",\n",
       " \"In the open air alone I found relief; among nature's beauteous works, her God reassumed his attribute of benevolence, and again I could trust that he who built up the mountains, planted the forests, and poured out the rivers, would erect another state for lost humanity, where we might awaken again to our affections, our happiness, and our faith.\",\n",
       " 'Accordingly I kept north along Main to Martin, then turning inland, crossing Federal Street safely north of the Green, and entering the decayed patrician neighbourhood of northern Broad, Washington, Lafayette, and Adams Streets.',\n",
       " 'In Bolton the prevailing spirit of Puritanism had outlawed the sport of boxing with the usual result.',\n",
       " 'I went down to open it with a light heart, for what had I now to fear?',\n",
       " 'I reason a priori, and a diddle would be no diddle without a grin.',\n",
       " '\"Vase am I,\" she thought, \"vase brimful of despair\\'s direst essence.',\n",
       " 'He alluded to Adrian, and spoke of him with that disparagement that the worldly wise always attach to enthusiasm.',\n",
       " 'I recollected my threat and resolved that it should be accomplished.',\n",
       " \"Raymond had evidently vacillated during his journey, and irresolution was marked in every gesture as we entered Perdita's cottage.\",\n",
       " 'She spoke no word; and I not for worlds could I have uttered a syllable.',\n",
       " 'This is somewhat thick, and so are her ankles, but she has a fine pair of green stockings to cover them.',\n",
       " 'Thus Mark Antony composed a treatise upon getting drunk.',\n",
       " 'Yet where had the fellow got such an odd notion?',\n",
       " 'At night he would not be alone, nor would the company of a few persons calm him.',\n",
       " 'P. I do not comprehend.',\n",
       " 'When my father had arrived the storm had already begun, but he had refused to stop and leaving his horse there he walked on towards the sea.',\n",
       " 'Its persistence among a simple people was quite natural in view of the sudden and permanent return of abundantly fine fishing, and it soon came to be the greatest influence on the town, replacing Freemasonry altogether and taking up headquarters in the old Masonic Hall on New Church Green.',\n",
       " 'We both inserted the whole unopened wooden box, closed the door, and started the electricity.',\n",
       " 'The islands were no longer visible; whether they had passed down the horizon to the southeast, or whether my increasing elevation had left them out of sight, it is impossible to say.',\n",
       " 'His dreams were meanwhile increasing in vividness, and though shewing him none of the strange cities and incredible gardens of the old days, were assuming a definite cast whose purpose could not be mistaken.',\n",
       " 'Alas, what will become of us?',\n",
       " '\"The relatives of the Earl of Windsor,\" said she haughtily, \"doubtless think that I injured him; perhaps the Earl himself would be the first to acquit me, but probably I do not deserve acquittal.',\n",
       " 'Now, as the baying of that dead, fleshless monstrosity grows louder and louder, and the stealthy whirring and flapping of those accursed web wings circles closer and closer, I shall seek with my revolver the oblivion which is my only refuge from the unnamed and unnamable.',\n",
       " \"If we discover repetitions of such letters, so arranged, they will most probably represent the word 'the.' Upon inspection, we find no less than seven such arrangements, the characters being;.\",\n",
       " 'We careered round and round for perhaps an hour, flying rather than floating, getting gradually more and more into the middle of the surge, and then nearer and nearer to its horrible inner edge.',\n",
       " 'His demeanour was sad; for a moment he appeared glad to see me and then he checked himself as if unwilling to betray his feelings.',\n",
       " 'The wound, and consequent inability of Argyropylo, caused Raymond to be the first in command.',\n",
       " 'At length we pulled away.',\n",
       " 'But it is not that the corpse was found to have the garters of the missing girl, or found to have her shoes, or her bonnet, or the flowers of her bonnet, or her feet, or a peculiar mark upon the arm, or her general size and appearance it is that the corpse had each, and all collectively.',\n",
       " \"Dr. West's reanimated specimens were not meant for long existence or a large audience.\",\n",
       " 'I often wished that I had permitted her to take her own course, and engage herself in such labours for the welfare of others as might have distracted her thoughts.',\n",
       " 'We lowered it without difficulty, although it was only by a miracle that we prevented it from swamping as it touched the water.',\n",
       " 'Did not proceed up stairs.',\n",
       " 'The old woman always appeared out of thin air near the corner where the downward slant met the inward slant.',\n",
       " 'But it was not in these vortices of complete alienage that he saw Brown Jenkin.',\n",
       " 'Now, beware Be silent Do not urge me to your destruction.',\n",
       " 'The open book lay flat between us, with the picture staring repulsively upward.',\n",
       " 'I motioned to him to continue, which he did with renewed signs of reluctance.',\n",
       " 'We went out with the resolution of disputing with our foe.',\n",
       " \", it will be seen at pp. and , that this illustrious chemist had not only conceived the idea now in question, but had actually made no inconsiderable progress, experimentally, in the very identical analysis now so triumphantly brought to an issue by Von Kempelen, who although he makes not the slightest allusion to it, is, without doubt I say it unhesitatingly, and can prove it, if required, indebted to the 'Diary' for at least the first hint of his own undertaking.\",\n",
       " 'He, Valence, knew Marie, and could not be mistaken in her identity.',\n",
       " 'We will fight the enemy to the last.',\n",
       " '\"I repeat, then, that I only half felt, and never intellectually believed.',\n",
       " 'He was merely crass of fibre and function thoughtless, careless, and liquorish, as his easily avoidable accident proves, and without that modicum of imagination which holds the average citizen within certain limits fixed by taste.',\n",
       " 'Will nobody contrive a more expeditious mode of progress?',\n",
       " 'I spoke without much heed, and the very conclusion of what I said brought with it other thoughts.',\n",
       " 'This exception was found in the person of a scholar, who, although no relation, bore the same Christian and surname as myself; a circumstance, in fact, little remarkable; for, notwithstanding a noble descent, mine was one of those everyday appellations which seem, by prescriptive right, to have been, time out of mind, the common property of the mob.',\n",
       " 'She reposed beside her beloved, and the tomb above was inscribed with the united names of Raymond and Perdita.',\n",
       " 'What this meant, no one could quite be certain till later.',\n",
       " 'Her story was plain to him, plain and distinct as the remorse and horror that darted their fangs into him.',\n",
       " 'I was also sorry that I had no one with whom to converse.',\n",
       " 'What I saw unnerved me most surprisingly, considering its relative triviality.',\n",
       " 'SIR, Through our common friend, Mr. P., I have received your note of this evening.',\n",
       " 'If I wept he would gaze on me in silence but he was no longer harsh and although he repulsed every caress yet it was with gentleness.',\n",
       " 'It is indeed early,\" he continued, musingly, as a cherub with a heavy golden hammer made the apartment ring with the first hour after sunrise: \"It is indeed early but what matters it?',\n",
       " \"These sounds were mingled with the roaring of the sea, the splash of the chafed billows round the vessel's sides, and the gurgling up of the water in the hold.\",\n",
       " 'I had entered the brush grown cut and was struggling along at a very slow pace when that damnable fishy odour again waxed dominant.',\n",
       " 'But I could discover, amidst all her repinings, deep resentment towards Raymond, and an unfading sense of injury, that plucked from me my hope, when I appeared nearest to its fulfilment.',\n",
       " 'After all, what is it?',\n",
       " 'He rode through the town, visiting the wounded, and giving such orders as were necessary for the siege he meditated.',\n",
       " 'This box was three feet and a half long, three feet broad, and two and a half feet deep.',\n",
       " 'My every motion was undoubtedly watched.',\n",
       " 'After that experience West had dropped his researches for some time; but as the zeal of the born scientist slowly returned, he again became importunate with the college faculty, pleading for the use of the dissecting room and of fresh human specimens for the work he regarded as so overwhelmingly important.',\n",
       " 'Eternal night continued to envelop us, all unrelieved by the phosphoric sea brilliancy to which we had been accustomed in the tropics.',\n",
       " '\"Shocking\" said the youth, calmly, and turned quietly into the chateau.',\n",
       " 'This was not altogether the fact: but predominant self will assumed the arms and masque of callous feeling; and the haughty lady disdained to exhibit any token of the struggle she endured; while the slave of pride, she fancied that she sacrificed her happiness to immutable principle.',\n",
       " 'The police have laid bare the floors, the ceilings, and the masonry of the walls, in every direction.',\n",
       " 'Uprearing themselves in tall slender lines of light, they thus remained burning all pallid and motionless; and in the mirror which their lustre formed upon the round table of ebony at which we sat, each of us there assembled beheld the pallor of his own countenance, and the unquiet glare in the downcast eyes of his companions.',\n",
       " 'Evidently the ticket agent had not exaggerated the dislike which local people bore toward Innsmouth and its denizens.',\n",
       " 'I was now in Holborn, and passed by a public house filled with uproarious companions, whose songs, laughter, and shouts were more sorrowful than the pale looks and silence of the mourner.',\n",
       " 'If I were awake I should like to die, but now it is no matter.',\n",
       " 'I rambled on, oppressed, distracted by painful emotions suddenly I found myself before Drury Lane Theatre.',\n",
       " 'He supposes that, had this been the case, it might have appeared at the surface on the Wednesday, and thinks that only under such circumstances it could so have appeared.',\n",
       " 'Then came the frenzied tones again: \"Carter, it\\'s terrible monstrous unbelievable\" This time my voice did not fail me, and I poured into the transmitter a flood of excited questions.',\n",
       " 'Excellent friend how sincerely you did love me, and endeavour to elevate my mind until it was on a level with your own.',\n",
       " 'While in London these and many other dreadful thoughts too harrowing for words were my portion: I lost all this suffering when I was free; when I saw the wild heath around me, and the evening star in the west, then I could weep, gently weep, and be at peace.',\n",
       " \"And yet, as the members severally shook their heads and confessed defeat at the Inspector's problem, there was one man in that gathering who suspected a touch of bizarre familiarity in the monstrous shape and writing, and who presently told with some diffidence of the odd trifle he knew.\",\n",
       " '\"What can I do?\" she cried, \"I am lost we are both for ever lost But come come with me, Lionel; here I must not stay, we can get a chaise at the nearest post house; yet perhaps we have time come, O come with me to save and protect me\" When I heard her piteous demands, while with disordered dress, dishevelled hair, and aghast looks, she wrung her hands the idea shot across me is she also mad? \"Sweet one,\" and I folded her to my heart, \"better repose than wander further; rest my beloved, I will make a fire you are chill.\"',\n",
       " 'My productions however were sufficiently unpretending; they were confined to the biography of favourite historical characters, especially those whom I believed to have been traduced, or about whom clung obscurity and doubt.',\n",
       " 'But I was enchanted by the appearance of the hut; here the snow and rain could not penetrate; the ground was dry; and it presented to me then as exquisite and divine a retreat as Pandemonium appeared to the demons of hell after their sufferings in the lake of fire.',\n",
       " 'And it was under a horned waning moon that I saw the city for the first time.',\n",
       " 'I determined to follow my nose.',\n",
       " 'She received these tokens of returning love with gentleness; she did not shun his company; but she endeavoured to place a barrier in the way of familiar intercourse or painful discussion, which mingled pride and shame prevented Raymond from surmounting.',\n",
       " 'Within the wall thus exposed by the displacing of the bones, we perceived a still interior recess, in depth about four feet, in width three, in height six or seven.',\n",
       " 'Here were the future governors of England; the men, who, when our ardour was cold, and our projects completed or destroyed for ever, when, our drama acted, we doffed the garb of the hour, and assumed the uniform of age, or of more equalizing death; here were the beings who were to carry on the vast machine of society; here were the lovers, husbands, fathers; here the landlord, the politician, the soldier; some fancied that they were even now ready to appear on the stage, eager to make one among the dramatis personae of active life.',\n",
       " 'Perhaps it is madness that is overtaking me yet perhaps a greater horror or a greater marvel is reaching out.',\n",
       " 'This extended but little below the elbow.',\n",
       " 'Here, truly, was the apotheosis of the unnamable.',\n",
       " 'He had been saying to himself \"It is nothing but the wind in the chimney it is only a mouse crossing the floor,\" or \"It is merely a cricket which has made a single chirp.\"',\n",
       " 'Thus it seemed to me evident that my rate of ascent was not only on the increase, but that the progression would have been apparent in a slight degree even had I not discharged the ballast which I did.',\n",
       " 'A low, continuous murmur, like that arising from a full, but gently flowing river, came to my ears, intermingled with the peculiar hum of multitudinous human voices.',\n",
       " 'I repeat that the principle here expressed, is incontrovertible; but there may be something even beyond it.',\n",
       " \"Evadne, once the idol of Adrian's affections; and who, for the sake of her present visitor, had disdained the noble youth, and then, neglected by him she loved, with crushed hopes and a stinging sense of misery, had returned to her native Greece.\",\n",
       " 'By observing, as I say, the strictest system in all my dealings, and keeping a well regulated set of books, I was enabled to get over many serious difficulties, and, in the end, to establish myself very decently in the profession.',\n",
       " 'But I was bewildered, perplexed, and unable to arrange my ideas sufficiently to understand the full extent of his proposition.',\n",
       " 'But this thought, which supported me in the commencement of my career, now serves only to plunge me lower in the dust.',\n",
       " 'Great God If for one instant I had thought what might be the hellish intention of my fiendish adversary, I would rather have banished myself forever from my native country and wandered a friendless outcast over the earth than have consented to this miserable marriage.',\n",
       " 'Those who have watched the tall, lean, Terrible Old Man in these peculiar conversations, do not watch him again.',\n",
       " 'This idea, having once seized upon my fancy, greatly excited it, and I lost myself forthwith in revery.',\n",
       " 'Holding a lighted candle at this door, and shifting the position of the whole machine repeatedly at the same time, a bright light is thrown entirely through the cupboard, which is now clearly seen to be full, completely full, of machinery.',\n",
       " 'The apartments of the students were converted into so many pot houses, and there was no pot house of them all more famous or more frequented than that of the Baron.',\n",
       " 'West, young despite his marvellous scientific acquirements, had scant patience with good Dr. Halsey and his erudite colleagues; and nursed an increasing resentment, coupled with a desire to prove his theories to these obtuse worthies in some striking and dramatic fashion.',\n",
       " 'Valdemar, do you still sleep?\"',\n",
       " 'Some time before noon his physician, Dr. Hartwell, called to see him and insisted that he cease work.',\n",
       " 'In this manner I distributed my occupations when I first arrived, but as I proceeded in my labour, it became every day more horrible and irksome to me.',\n",
       " 'Such a monster has, then, really existence I cannot doubt it, yet I am lost in surprise and admiration.',\n",
       " 'By the operation of this spring, the screw is made to revolve with great rapidity, communicating a progressive motion to the whole.',\n",
       " 'The scent had never for an instant been lost.',\n",
       " 'Throwing the links about his waist, it was but the work of a few seconds to secure it.',\n",
       " 'It was open wide, wide open and I grew furious as I gazed upon it.',\n",
       " 'Gilman could not be very clear about his reasons for this last assumption, but his haziness here was more than overbalanced by his clearness on other complex points.',\n",
       " 'You should have seen how wisely I proceeded with what caution with what foresight with what dissimulation I went to work I was never kinder to the old man than during the whole week before I killed him.',\n",
       " 'It is hard for one so young who was once so happy as I was; sic voluntarily to divest themselves of all sensation and to go alone to the dreary grave; I dare not.',\n",
       " 'The aspect of that ruin I cannot describe I must have been mad, for it seemed to rise majestic and undecayed, splendid and column cinctured, the flame reflecting marble of its entablature piercing the sky like the apex of a temple on a mountain top.',\n",
       " 'And when did the radiant Una ask anything of her Monos in vain?',\n",
       " 'In her resentful mood, these expressions had been remembered with acrimony and disdain; they visited her in her softened hour, taking sleep from her eyes, all hope of rest from her uneasy mind.',\n",
       " 'God raises my weakness and gives me courage to endure the worst.',\n",
       " 'Windows there were none.',\n",
       " 'His own face was in shadow, and he wore a wide brimmed hat which somehow blended perfectly with the out of date cloak he affected; but I was subtly disquieted even before he addressed me.',\n",
       " 'What other possible reason could there have been for her so blushing?',\n",
       " 'I could not have been more surprised at the sound of the trump of the Archangel.',\n",
       " 'And here how singularly sounds that word which of old was wont to bring terror to all hearts throwing a mildew upon all pleasures Una.',\n",
       " 'Thinking earnestly upon these points, I remained, for an hour perhaps, half sitting, half reclining, with my vision riveted upon the portrait.',\n",
       " 'Upon my word of honor, this was not an unreasonable price for that dickey.',\n",
       " 'Give me the name of friend; I will fulfill its duties; and if for a moment complaint and sorrow would shape themselves into words let me be near to speak peace to your vext soul.\"',\n",
       " 'The glare from the enkindled roof illumined its inmost recesses.',\n",
       " 'The king has ordered some novel spectacle some gladiatorial exhibition at the hippodrome or perhaps the massacre of the Scythian prisoners or the conflagration of his new palace or the tearing down of a handsome temple or, indeed, a bonfire of a few Jews.',\n",
       " 'I might as well have attempted to arrest an avalanche Down still unceasingly still inevitably down I gasped and struggled at each vibration.',\n",
       " 'They who dream by day are cognizant of many things which escape those who dream only by night.',\n",
       " 'Long and earnestly did I continue the investigation: but the contemptible reward of my industry and perseverance proved to be only a set of false teeth, two pair of hips, an eye, and a bundle of billets doux from Mr. Windenough to my wife.',\n",
       " 'After great trouble, occasioned by the intractable ferocity of his captive during the home voyage, he at length succeeded in lodging it safely at his own residence in Paris, where, not to attract toward himself the unpleasant curiosity of his neighbors, he kept it carefully secluded, until such time as it should recover from a wound in the foot, received from a splinter on board ship.',\n",
       " 'It was an odd scene, and because I was strange to New England I had never known its like before.',\n",
       " 'It was a key a guide to certain gateways and transitions of which mystics have dreamed and whispered since the race was young, and which lead to freedoms and discoveries beyond the three dimensions and realms of life and matter that we know.',\n",
       " 'As the hour for its arrival drew near I noticed a general drift of the loungers to other places up the street, or to the Ideal Lunch across the square.',\n",
       " 'It seems to me rather merciful that I do not, for they were terrible studies, which I pursued more through reluctant fascination than through actual inclination.',\n",
       " 'Her manners were cold and repulsive.',\n",
       " \"all made o' squirmin' ropes . . .\",\n",
       " 'She is very clever and gentle, and extremely pretty; as I mentioned before, her mien and her expression continually remind me of my dear aunt.',\n",
       " 'Soon after we heard that the poor victim had expressed a desire to see my cousin.',\n",
       " 'Looking about, I saw that the ceiling was wet and dripping; the soaking apparently proceeding from a corner on the side toward the street.',\n",
       " 'Nitrogen, on the contrary, was incapable of supporting either animal life or flame.',\n",
       " 'We read of centre and wing in Greek and Roman history; we fancy a spot, plain as a table, and soldiers small as chessmen; and drawn forth, so that the most ignorant of the game can discover science and order in the disposition of the forces.',\n",
       " 'Engaged in researches which absorbed our whole attention, it had been nearly a month since either of us had gone abroad, or received a visiter, or more than glanced at the leading political articles in one of the daily papers.',\n",
       " 'Whisper it not, let the demons hear and rejoice The choice is with us; let us will it, and our habitation becomes a paradise.',\n",
       " 'Her lower tones were absolutely miraculous.',\n",
       " '\"On Monday, one of the bargemen connected with the revenue service, saw a empty boat floating down the Seine.',\n",
       " 'I am a farce and play to him, but to me this is all dreary reality: he takes all the profit and I bear all the burthen.',\n",
       " 'We have already reached a very high latitude; but it is the height of summer, and although not so warm as in England, the southern gales, which blow us speedily towards those shores which I so ardently desire to attain, breathe a degree of renovating warmth which I had not expected.',\n",
       " 'He was nearly killed with kindness.',\n",
       " 'One afternoon there was a discussion of possible freakish curvatures in space, and of theoretical points of approach or even contact between our part of the cosmos and various other regions as distant as the farthest stars or the trans galactic gulfs themselves or even as fabulously remote as the tentatively conceivable cosmic units beyond the whole Einsteinian space time continuum.',\n",
       " 'I listened to his statement, which was delivered without any presumption or affectation, and then added that his lecture had removed my prejudices against modern chemists; I expressed myself in measured terms, with the modesty and deference due from a youth to his instructor, without letting escape inexperience in life would have made me ashamed any of the enthusiasm which stimulated my intended labours.',\n",
       " 'For example, I bought pen, ink and paper, and put them into furious activity.',\n",
       " 'Who, indeed, among my most abandoned associates, would not rather have disputed the clearest evidence of his senses, than have suspected of such courses, the gay, the frank, the generous William Wilson the noblest and most liberal commoner at Oxford him whose follies said his parasites were but the follies of youth and unbridled fancy whose errors but inimitable whim whose darkest vice but a careless and dashing extravagance?',\n",
       " 'I have consorted long with grief, entered the gloomy labyrinth of madness, and emerged, but half alive.',\n",
       " 'Hereupon I bethought me of looking immediately before my nose, and there, sure enough, confronting me at the table sat a personage nondescript, although not altogether indescribable.',\n",
       " 'I dared not make the effort which was to satisfy me of my fate and yet there was something at my heart which whispered me it was sure.',\n",
       " 'Certainly it sounds absurd to hear that a woman educated only in the rudiments of French often shouted for hours in a coarse and idiomatic form of that language, or that the same person, alone and guarded, complained wildly of a staring thing which bit and chewed at her.',\n",
       " 'My life might have been passed in ease and luxury, but I preferred glory to every enticement that wealth placed in my path.',\n",
       " 'I remember still more distinctly, that while he was pronounced by all parties at first sight \"the most remarkable man in the world,\" no person made any attempt at accounting for his opinion.',\n",
       " 'Men have felt the tears of the gods on white capped Thurai, though they have thought it rain; and have heard the sighs of the gods in the plaintive dawn winds of Lerion.',\n",
       " 'Some reflection seemed to sting him, and the spasm of pain that for a moment convulsed his countenance, checked my indignation.',\n",
       " 'No trees of any magnitude are to be seen.',\n",
       " 'The sweep of the pendulum had increased in extent by nearly a yard.',\n",
       " 'Besides, the body would not be even approximately fresh the next night.',\n",
       " 'The chamber was full but there was no Protector; and there was an austere discontent manifest on the countenances of the leaders, and a whispering and busy tattle among the underlings, not less ominous.',\n",
       " 'After marriage, however, this gentleman neglected, and, perhaps, even more positively ill treated her.',\n",
       " 'Gilman mechanically attended classes that morning, but was wholly unable to fix his mind on his studies.',\n",
       " 'I went so far as to say that I felt assured of her love; while I offered this assurance, and my own intensity of devotion, as two excuses for my otherwise unpardonable conduct.',\n",
       " 'I had just consummated an unusually hearty dinner, of which the dyspeptic truffe formed not the least important item, and was sitting alone in the dining room, with my feet upon the fender, and at my elbow a small table which I had rolled up to the fire, and upon which were some apologies for dessert, with some miscellaneous bottles of wine, spirit and liqueur.',\n",
       " 'One Survivor and Dead Man Found Aboard.',\n",
       " 'Not from each other did Kalos and Musides conceal their work, but the sight was for them alone.',\n",
       " 'Justine assumed an air of cheerfulness, while she with difficulty repressed her bitter tears.',\n",
       " 'They were sensations, yet within them lay unbelievable elements of time and space things which at bottom possess no distinct and definite existence.',\n",
       " 'When Carter left, he had said he was going to visit his old ancestral country around Arkham.',\n",
       " 'The landlady met her in the passage; the poor creature asked, \"Is my husband here?',\n",
       " 'But now his oversensitive ears caught something behind him, and he looked back across the level terrace.',\n",
       " 'By and by these are taught to carry parcels of some weight and this weight is gradually increased.',\n",
       " 'Then hoary Nodens reached forth a wizened hand and helped Olney and his host into the vast shell, whereat the conches and the gongs set up a wild and awesome clamour.',\n",
       " 'He said little, and that moodily, and with evident effort.',\n",
       " 'A paralysis of fear stifled all attempts to cry out.',\n",
       " 'I say that he will never be bodiless.',\n",
       " 'False was all this false all but the affections of our nature, and the links of sympathy with pleasure or pain.',\n",
       " 'In the most rugged of wildernesses in the most savage of the scenes of pure nature there is apparent the art of a creator; yet this art is apparent to reflection only; in no respect has it the obvious force of a feeling.',\n",
       " 'I took him up at last, and threw him to about half a dozen yards from the balloon.',\n",
       " 'And the question to be solved proceeds, or should proceed, to its final determination, by a succession of unerring steps liable to no change, and subject to no modification.',\n",
       " 'What said he? some broken sentences I heard.',\n",
       " 'The bandage lay heavily about the mouth but then might it not be the mouth of the breathing Lady of Tremaine?',\n",
       " 'Then one night when the moon was full the travellers came to a mountain crest and looked down upon the myriad lights of Oonai.',\n",
       " 'The sophists of the negative school, who, through inability to create, have scoffed at creation, are now found the loudest in applause.',\n",
       " 'We expelled the bodies through the double hatches and were alone in the U .',\n",
       " \"Oft when I have listened with gasping attention for the sound of the ocean mingled with my father's groans; and then wept untill my strength was gone and I was calm and faint, when I have recollected all this I have asked myself if this were not madness.\",\n",
       " \"C Fletcher's comedy of the Captain.\",\n",
       " 'I heard many things in hell.',\n",
       " '\"Then there was \\'The Involuntary Experimentalist,\\' all about a gentleman who got baked in an oven, and came out alive and well, although certainly done to a turn.',\n",
       " 'She paused, weeping, and then continued, \"I thought with horror, my sweet lady, that you should believe your Justine, whom your blessed aunt had so highly honoured, and whom you loved, was a creature capable of a crime which none but the devil himself could have perpetrated.',\n",
       " 'I shall do nothing rashly: you know me sufficiently to confide in my prudence and considerateness whenever the safety of others is committed to my care.',\n",
       " \"Often with maternal affection she had figured their merits and talents exerted on life's wide stage.\",\n",
       " '\"Gentlemen,\" I said at last, as the party ascended the steps, \"I delight to have allayed your suspicions.',\n",
       " \"As the last echo ceased, I stepped into B 's and inquired for Talbot.\",\n",
       " '\"Why it did not seem altogether right to leave the interior blank that would have been insulting.',\n",
       " 'Nothing in human shape could have destroyed the fair child.',\n",
       " 'I alighted at Perth; and, though much fatigued by a constant exposure to the air for many hours, I would not rest, but merely altering my mode of conveyance, I went by land instead of air, to Dunkeld.',\n",
       " 'When, to agree with him, I said I was distrustful of the Authenticity of Ossian\\'s ms, Mr. Johnson said: \"That, Sir, does not do your Understanding particular Credit; for what all the Town is sensible of, is no great Discovery for a Grub Street Critick to make.',\n",
       " 'Safie nursed her with the most devoted affection, but the poor girl died, and the Arabian was left alone, unacquainted with the language of the country and utterly ignorant of the customs of the world.',\n",
       " 'I looked towards its completion with a tremulous and eager hope, which I dared not trust myself to question but which was intermixed with obscure forebodings of evil that made my heart sicken in my bosom.',\n",
       " 'The first manifestations, although marked, are unequivocal.',\n",
       " \"Back Bay isn't Boston it isn't anything yet, because it's had no time to pick up memories and attract local spirits.\",\n",
       " 'But I am detailing a chain of facts and wish not to leave even a possible link imperfect.',\n",
       " 'I traversed the streets without any clear conception of where I was or what I was doing.',\n",
       " 'In the present instance, had the gold been gone, the fact of its delivery three days before would have formed something more than a coincidence.',\n",
       " '\"C\\'est à vous à faire,\" said his Majesty, cutting.',\n",
       " 'I was weary with watching and for some time I had combated with the heavy sleep that weighed down my eyelids: but now, no longer fearful, I threw myself on my bed.',\n",
       " 'Afterwards, succession runs thus: a o i d h n r s t u y c f g l m w b k p q x z.',\n",
       " 'But in this existence, I dreamed that I should be at once cognizant of all things, and thus at once be happy in being cognizant of all.',\n",
       " 'The inhabitants of our side of the moon have, evidently, no darkness at all, so there can be nothing of the \"extremes\" mentioned.',\n",
       " 'I took a circuitous path, principally for the sake of going to the top of the mount before mentioned, which commanded a view of the city.',\n",
       " 'When once disease was introduced into the rural districts, its effects appeared more horrible, more exigent, and more difficult to cure, than in towns.',\n",
       " 'Especially was he afraid to be out of doors alone when the stars were shining, and if forced to this condition he would often glance furtively at the sky as if hunted by some monstrous thing therein.',\n",
       " '\"This day was passed in the same routine as that which preceded it.',\n",
       " 'As the afternoon advanced, it became increasingly difficult to see; and we heard the rumble of a thunderstorm gathering over Tempest Mountain.',\n",
       " 'In the manner of my friend I was at once struck with an incoherence an inconsistency; and I soon found this to arise from a series of feeble and futile struggles to overcome an habitual trepidancy an excessive nervous agitation.',\n",
       " 'In this manner many appalling hours passed; several of my dogs died, and I myself was about to sink under the accumulation of distress when I saw your vessel riding at anchor and holding forth to me hopes of succour and life.',\n",
       " 'My preference would be to avoid Paine, since the fire station there might be open all night.',\n",
       " 'Chords, vibrations, and harmonic ecstasies echoed passionately on every hand; while on my ravished sight burst the stupendous spectacle of ultimate beauty.',\n",
       " 'And the roof is of pure gold, set upon tall pillars of ruby and azure, and having such carven figures of gods and heroes that he who looks up to those heights seems to gaze upon the living Olympus.',\n",
       " 'No one ventured on board the vessel, and strange sights were averred to be seen at night, walking the deck, and hanging on the masts and shrouds.',\n",
       " 'I must not forget one incident that occurred during this visit to London.',\n",
       " 'We have forgotten what we did when she was not.',\n",
       " 'Not a speck on their surface not a shade on their enamel not an indenture in their edges but what that period of her smile had sufficed to brand in upon my memory.',\n",
       " 'The place was avoided with doubled assiduousness, and invested with every whispered myth tradition could supply.',\n",
       " 'Above all was the sense of hearing acute.',\n",
       " \"It seems that on that last hideous night Joe had stooped to look at the crimson rat tracks which led from Gilman's couch to the nearby hole.\",\n",
       " \"We may be instructed to build an Odyssey, but it is in vain that we are told how to conceive a 'Tempest,' an 'Inferno,' a 'Prometheus Bound,' a 'Nightingale,' such as that of Keats, or the 'Sensitive Plant' of .\",\n",
       " \"'Oppodeldoc,' whoever he is, is entirely devoid of imagination and imagination, in our humble opinion, is not only the soul of sy, but also its very heart.\",\n",
       " 'He will tell me \" \"Luchesi cannot tell Amontillado from Sherry.\" \"And yet some fools will have it that his taste is a match for your own.\" \"Come, let us go.\" \"Whither?\"',\n",
       " 'I collected bones from charnel houses and disturbed, with profane fingers, the tremendous secrets of the human frame.',\n",
       " 'This burst of passionate feeling over, with calmed thoughts we sat together, talking of the past and present.',\n",
       " 'Dropping of its own accord upon his exit or perhaps purposely closed, it had become fastened by the spring; and it was the retention of this spring which had been mistaken by the police for that of the nail, farther inquiry being thus considered unnecessary.',\n",
       " '\"Well, if you must have it so I will take a small reward just to satisfy your scruples.',\n",
       " 'I did; but the fragile spirit clung to its tenement of clay for many days, for many weeks and irksome months, until my tortured nerves obtained the mastery over my mind, and I grew furious through delay, and, with the heart of a fiend, cursed the days and the hours and the bitter moments, which seemed to lengthen and lengthen as her gentle life declined, like shadows in the dying of the day.',\n",
       " 'Here it is at first difficult to perceive the intention of the reasoner.',\n",
       " 'To carry out his views, he solicited and obtained the patronage of Sir Everard Bringhurst and Mr. Osborne, two gentlemen well known for scientific acquirement, and especially for the interest they have exhibited in the progress of ærostation.',\n",
       " 'For without warning, in one of the small hours beyond midnight, all the ravages of the years and the storms and the worms came to a tremendous climax; and after the crash there was nothing left standing in The Street save two ancient chimneys and part of a stout brick wall.',\n",
       " 'I have little to record, except the fact to me quite a surprising one that, at an elevation equal to that of Cotopaxi, I experienced neither very intense cold, nor headache, nor difficulty of breathing; neither, I find, did Mr. Mason, nor Mr. Holland, nor Sir Everard.',\n",
       " 'It was nearly dead calm when the voyagers first came in view of the coast, which was immediately recognized by both the seamen, and by Mr. Osborne.',\n",
       " 'My steps were sure, and could afford but a single result.',\n",
       " 'What was it I paused to think what was it that so unnerved me in the contemplation of the House of Usher?',\n",
       " 'The whole house, with its wings, was constructed of the old fashioned Dutch shingles broad, and with unrounded corners.',\n",
       " 'A change fell upon all things.',\n",
       " 'And then, like David, I would try music to win the evil spirit from him; and once while singing I lifted my eyes towards him and saw his fixed on me and filled with tears; all his muscles seemed relaxed to softness.',\n",
       " 'It was evident that my considerate friend, il fanatico, had quite forgotten his appointment with myself had forgotten it as soon as it was made.',\n",
       " 'Parliament was divided by three factions, aristocrats, democrats, and royalists.',\n",
       " 'But if the sentiment on which the fabric of her existence was founded, became common place through participation, the endless succession of attentions and graceful action snapt by transfer, his universe of love wrested from her, happiness must depart, and then be exchanged for its opposite.',\n",
       " 'It was, the Belgian averred, a most extraordinary object; an object quite beyond the power of a layman to classify.',\n",
       " 'I did not like the way he looked at healthy living bodies; and then there came a nightmarish session in the cellar laboratory when I learned that a certain specimen had been a living body when he secured it.',\n",
       " 'I said it at first and I say it still, and I never swerved an inch, either, when he shewed that \"Ghoul Feeding\".',\n",
       " 'Their minister at Constantinople was urged to make the necessary perquisitions, and should his existence be ascertained, to demand his release.',\n",
       " 'I therefore undid only a few of these loops at one time, leaving the car suspended by the remainder.',\n",
       " 'Whilst they strove to strip from life its embroidered robes of myth, and to shew in naked ugliness the foul thing that is reality, Kuranes sought for beauty alone.',\n",
       " 'Unwholesome recollections of things in the Necronomicon and the Black Book welled up, and he found himself swaying to infandous rhythms said to pertain to the blackest ceremonies of the Sabbat and to have an origin outside the time and space we comprehend.',\n",
       " 'Idris was too much taken up by her own dreadful fears, to be angry, hardly grieved; for she judged that insensibility must be the source of this continued rancour.',\n",
       " 'The boundaries which divide Life from Death are at best shadowy and vague.',\n",
       " 'All denied a part in the ritual murders, and averred that the killing had been done by Black Winged Ones which had come to them from their immemorial meeting place in the haunted wood.',\n",
       " 'No woman could have inflicted the blows with any weapon.',\n",
       " 'They were that kind the old lattice windows that went out of use before .',\n",
       " 'Their happiness was not decreased by the absence of summer.',\n",
       " 'The light curling waves bore us onward, and old ocean smiled at the freight of love and hope committed to his charge; it stroked gently its tempestuous plains, and the path was smoothed for us.',\n",
       " 'The Countess had failed in this design with regard to her children; perhaps she hoped to find the next remove in birth more tractable.',\n",
       " 'The bones of the tiny paws, it is rumoured, imply prehensile characteristics more typical of a diminutive monkey than of a rat; while the small skull with its savage yellow fangs is of the utmost anomalousness, appearing from certain angles like a miniature, monstrously degraded parody of a human skull.',\n",
       " 'His intellect found sufficient field for exercise in his domestic circle, whose members, all adorned by refinement and literature, were many of them, like himself, distinguished by genius.',\n",
       " 'It was, indeed, a tempestuous yet sternly beautiful night, and one wildly singular in its terror and its beauty.',\n",
       " 'He often left us, and wandered by himself in the woods, or sailed in his little skiff, his books his only companions.',\n",
       " \"Morbid art doesn't shock me, and when a man has the genius Pickman had I feel it an honour to know him, no matter what direction his work takes.\",\n",
       " 'Return; dearest one, you promised me this boon, that I should bring you health.',\n",
       " 'I then took opportunities of conveying by night, to a retired situation east of Rotterdam, five iron bound casks, to contain about fifty gallons each, and one of a larger size; six tinned ware tubes, three inches in diameter, properly shaped, and ten feet in length; a quantity of a particular metallic substance, or semi metal, which I shall not name, and a dozen demijohns of a very common acid.',\n",
       " 'Down this new opening the eye cannot penetrate very far; for the stream, accompanied by the wall, still bends to the left, until both are swallowed up by the leaves.',\n",
       " 'Ye gods and what do I behold is that the departed spirit, the shade, the ghost, of my beloved puppy, which I perceive sitting with a grace so melancholy, in the corner?',\n",
       " 'From those blurred and fragmentary memories we may infer much, yet prove little.',\n",
       " \"Then again she sadly lamented her hard fate; that a woman, with a woman's heart and sensibility, should be driven by hopeless love and vacant hopes to take up the trade of arms, and suffer beyond the endurance of man privation, labour, and pain the while her dry, hot hand pressed mine, and her brow and lips burned with consuming fire.\",\n",
       " 'She had gone to hide her weakness; escaping from the castle, she had descended to the little park, and sought solitude, that she might there indulge her tears; I found her clinging round an old oak, pressing its rough trunk with her roseate lips, as her tears fell plenteously, and her sobs and broken exclamations could not be suppressed; with surpassing grief I beheld this loved one of my heart thus lost in sorrow I drew her towards me; and, as she felt my kisses on her eyelids, as she felt my arms press her, she revived to the knowledge of what remained to her. \"You are very kind not to reproach me,\" she said: \"I weep, and a bitter pang of intolerable sorrow tears my heart.',\n",
       " 'Perdita looked at him like one amazed; her expressive countenance shone for a moment with tenderness; to see him only was happiness.',\n",
       " 'While he spoke, so profound was the stillness that one might have heard a pin drop upon the floor.',\n",
       " 'Of my exact age, even down to days and hours, I kept a most careful record, for each movement of the pendulum of the massive clock in the library told off so much more of my doomed existence.',\n",
       " 'They were loud and quick unequal spoken apparently in fear as well as in anger.',\n",
       " 'What he said was unintelligible, but words were uttered; the syllabification was distinct.',\n",
       " '\"But when I saw you become the object of another\\'s love; when I imagined that you might be loved otherwise than as a sacred type and image of loveliness and excellence; or that you might love another with a more ardent affection than that which you bore to me, then the fiend awoke within me; I dismissed your lover; and from that moment I have known no peace.',\n",
       " 'Shakspeare, whose popularity was established by the approval of four centuries, had not lost his influence even at this dread period; but was still \"Ut magus,\" the wizard to rule our hearts and govern our imaginations.',\n",
       " 'For about half an hour the conversation ran upon ordinary topics, but at last, we contrived, quite naturally, to give it the following turn: CAPT.',\n",
       " 'In August, the plague had appeared in the country of England, and during September it made its ravages.',\n",
       " \"The writer professes to have translated his work from the English of one Mr. D'Avisson Davidson?\",\n",
       " 'He became an adventurer in the Greek wars.',\n",
       " 'But, if the contest have proceeded thus far, it is the shadow which prevails, we struggle in vain.',\n",
       " 'the, or, substituting the natural letters, where known, it reads thus: the tree thr?h the.',\n",
       " 'Had the body been in any respect despoiled?',\n",
       " 'It had already buried its sharp edge a full inch in my flesh, and my sensations grew indistinct and confused.',\n",
       " 'No fancy may picture the sublimity which might have been exhibited by a similar phenomenon taking place amid the darkness of the night.',\n",
       " \"Looking around me during a pause in the Baron's discourse of which my readers may gather some faint idea when I say that it bore resemblance to the fervid, chanting, monotonous, yet musical sermonic manner of Coleridge, I perceived symptoms of even more than the general interest in the countenance of one of the party.\",\n",
       " '\"Wherefore do I feel thus?',\n",
       " 'I replied to the yells of him who clamored.',\n",
       " 'At first it told to me only the plain little tales of calm beaches and near ports, but with the years it grew more friendly and spoke of other things; of things more strange and more distant in space and in time.',\n",
       " '\"My days were spent in close attention, that I might more speedily master the language; and I may boast that I improved more rapidly than the Arabian, who understood very little and conversed in broken accents, whilst I comprehended and could imitate almost every word that was spoken.',\n",
       " '\"Here, then, we leave, in the very beginning, the groundwork for something more than a mere guess.',\n",
       " 'Now, he reflected, those nervous fears were being mirrored in his disordered dreams.',\n",
       " 'But perfect happiness is an attribute of angels; and those who possess it, appear angelic.',\n",
       " 'It was a good overcoat.',\n",
       " 'I adverted to what Adrian had already done I promised the same vigilance in furthering all his views.',\n",
       " \"It was demonstrated, that the density of the comet's nucleus was far less than that of our rarest gas; and the harmless passage of a similar visitor among the satellites of Jupiter was a point strongly insisted upon, and which served greatly to allay terror.\",\n",
       " 'The last beams of the nearly sunken sun shot up from behind the far summit of Mount Athos; the sea of Marmora still glittered beneath its rays, while the Asiatic coast beyond was half hid in a haze of low cloud.',\n",
       " '\"True,\" I observed; \"the paper is clearly then upon the premises.',\n",
       " '\"Twas dis eye, massa de lef eye jis as you tell me,\" and here it was his right eye that the negro indicated.',\n",
       " 'As long as their disunion remained a secret, he cherished an expectation of re awakening past tenderness in her bosom; now that we were all made acquainted with these occurrences, and that Perdita, by declaring her resolves to others, in a manner pledged herself to their accomplishment, he gave up the idea of re union as futile, and sought only, since he was unable to influence her to change, to reconcile himself to the present state of things.',\n",
       " 'Blew it, and tried again no go.',\n",
       " '\"How died he?\" \"In his rash exertions to rescue a favorite portion of his hunting stud, he has himself perished miserably in the flames.\"',\n",
       " \"'The things had all evidently been there,' he says, 'at least, three or four weeks, and there can be no doubt that the spot of this appalling outrage has been discovered.'\",\n",
       " 'The diddler approaches the bar of a tavern, and demands a couple of twists of tobacco.',\n",
       " \"Open up the gates to Yog Sothoth with the long chant that ye'll find on page of the complete edition, an' then put a match to the prison.\",\n",
       " \"He said, I push'd every Aspirant off the Slopes of Parnassus.\",\n",
       " 'Has lived in Paris two years.',\n",
       " 'I did so, but to little purpose, not being able to gather the least particle of meaning.',\n",
       " \"We went up stairs into the chamber where the body of Mademoiselle L'Espanaye had been found, and where both the deceased still lay.\",\n",
       " \"A vulgar man that sometimes but he's deep.\",\n",
       " 'The squire who succeeded to it in studied sartain arts and made sartain discoveries, all connected with influences residing in this particular plot of ground, and eminently desarving of the strongest guarding.',\n",
       " 'During this period, I became aware, for the first time, of the origin of the sulphurous light which illumined the cell.',\n",
       " 'In relation to the second it is only necessary to repeat what we have before stated, that the machine is rolled about on castors, and will, at the request of a spectator, be moved to and fro to any portion of the room, even during the progress of a game.',\n",
       " 'My host now took my hand to draw me to one of the two windows on the long side of the malodorous room, and at the first touch of his ungloved fingers I turned cold.',\n",
       " 'I do not know how I came to live on such a street, but I was not myself when I moved there.',\n",
       " 'This idea pursued me and tormented me at every moment from which I might otherwise have snatched repose and peace.',\n",
       " 'Wonderful likewise were the gardens made by Zokkar the olden king.',\n",
       " 'No youthful congregation of gallant hearted boys thronged the portal of the college; sad silence pervaded the busy school room and noisy playground.',\n",
       " '\"I will soon explain to what these feelings tended, but allow me now to return to the cottagers, whose story excited in me such various feelings of indignation, delight, and wonder, but which all terminated in additional love and reverence for my protectors for so I loved, in an innocent, half painful self deceit, to call them.\"',\n",
       " 'But I had no bodily, no visible, audible, or palpable presence.',\n",
       " 'Yog Sothoth is the key and guardian of the gate.',\n",
       " 'When exceptions did occur, they were mostly persons with no trace of aberrancy, like the old clerk at the hotel.',\n",
       " 'How mutable are our feelings, and how strange is that clinging love we have of life even in the excess of misery I constructed another sail with a part of my dress and eagerly steered my course towards the land.',\n",
       " 'Fallen houses choked up the streets.',\n",
       " 'I was in the service of a farmer; and with crook in hand, my dog at my side, I shepherded a numerous flock on the near uplands.',\n",
       " 'After years he began to call the slow sailing stars by name, and to follow them in fancy when they glided regretfully out of sight; till at length his vision opened to many secret vistas whose existence no common eye suspects.',\n",
       " 'Her energy of character induced her still to combat with the ills of life; even those attendant on hopeless love presented themselves, rather in the shape of an adversary to be overcome, than of a victor to whom she must submit.',\n",
       " 'A line of Marston\\'s \"Malcontent\" Death\\'s a good fellow and keeps open house struck me at that moment as a palpable lie.',\n",
       " 'We occasioned the greatest excitement on board all an excitement greatly relished by ourselves, and especially by our two men, who, now under the influence of a dram of Geneva, seemed resolved to give all scruple, or fear, to the wind.',\n",
       " 'It was he who had given me all the information I had of Tillinghast after I was repulsed in rage.',\n",
       " '\"It was night, and the rain fell; and falling, it was rain, but, having fallen, it was blood.',\n",
       " 'When Gilman climbed up a ladder to the cobwebbed level loft above the rest of the attic he found vestiges of a bygone aperture tightly and heavily covered with ancient planking and secured by the stout wooden pegs common in colonial carpentry.',\n",
       " 'The maniac became composed; his person rose higher; authority beamed from his countenance.',\n",
       " 'The eyes roll unnaturally in the head, without any corresponding motions of the lids or brows.',\n",
       " 'Many were the waterfalls in their courses, and many were the lilied lakelets into which they expanded.',\n",
       " 'Pale as marble, clear and beaming as that, she heard my tale, and enquired concerning the spot where he had been deposited.',\n",
       " '\"Looking now, narrowly, through the cipher for combinations of known characters, we find, not very far from the beginning, this arrangement, , or egree, which, plainly, is the conclusion of the word \\'degree,\\' and gives us another letter, d, represented by .',\n",
       " 'Nor could I ever after see the world as I had known it.',\n",
       " 'All other matters and all different interests became absorbed in their single contemplation.',\n",
       " 'While I was awake I knew what you meant by \"spirit,\" but now it seems only a word such for instance as truth, beauty a quality, I mean.',\n",
       " 'In the deeper dreams everything was likewise more distinct, and Gilman felt that the twilight abysses around him were those of the fourth dimension.',\n",
       " 'The horse itself, in the foreground of the design, stood motionless and statue like while farther back, its discomfited rider perished by the dagger of a Metzengerstein.',\n",
       " 'When they had retired to rest, if there was any moon or the night was star light, I went into the woods and collected my own food and fuel for the cottage.',\n",
       " 'This did moderately well for a time; in fact, I was not avaricious, but my dog was.',\n",
       " 'This was all true; but it was not less agonizing to take the admonition home.',\n",
       " 'They talked of their illustrious Tyrant, and of the splendour of his capital; and exulted in the glory of the statue which Musides had wrought for him.',\n",
       " 'Cast off the only gift that I have bestowed upon you, your grief, and rise from under my blighting influence as no flower so sweet ever did rise from beneath so much evil.',\n",
       " 'But he was great once my fathair in Barcelona have hear of heem and only joost now he feex a arm of the plumber that get hurt of sudden.',\n",
       " 'The effect produced by the firing of a cannon is that of simple vibration.',\n",
       " 'Alas I knew not the desart it was about to reach; the rocks that would tear its waters, and the hideous scene that would be reflected in a more distorted manner in its waves.',\n",
       " 'My heart beat quick as I approached the palings; my hand was on one of them, a leap would take me to the other side, when two keepers sprang from an ambush upon me: one knocked me down, and proceeded to inflict a severe horse whipping.',\n",
       " \"The natives suspend it by a cord from the ceiling, and enjoy its fragrance for years.'\",\n",
       " 'My evil passions will have fled, for I shall meet with sympathy My life will flow quietly away, and in my dying moments I shall not curse my maker.\"',\n",
       " 'A gentle breeze, however, now arose, as the sun was about descending; and while I remained standing on the brow of the slope, the fog gradually became dissipated into wreaths, and so floated over the scene.',\n",
       " 'Soon after the departure of the couple, a gang of miscreants made their appearance, behaved boisterously, ate and drank without making payment, followed in the route of the young man and girl, returned to the inn about dusk, and re crossed the river as if in great haste.',\n",
       " 'The position of the candelabrum displeased me, and outreaching my hand with difficulty, rather than disturb my slumbering valet, I placed it so as to throw its rays more fully upon the book.',\n",
       " '\"Elizabeth Lavenza \"Geneva, May th, \" This letter revived in my memory what I had before forgotten, the threat of the fiend \"I WILL BE WITH YOU ON YOUR WEDDING NIGHT\" Such was my sentence, and on that night would the daemon employ every art to destroy me and tear me from the glimpse of happiness which promised partly to console my sufferings.',\n",
       " 'He might have spoken, but I did not hear; one hand was stretched out, seemingly to detain me, but I escaped and rushed downstairs.',\n",
       " 'Her face was exceedingly round, red, and full; and the same peculiarity, or rather want of peculiarity, attached itself to her countenance, which I before mentioned in the case of the president that is to say, only one feature of her face was sufficiently distinguished to need a separate characterization: indeed the acute Tarpaulin immediately observed that the same remark might have applied to each individual person of the party; every one of whom seemed to possess a monopoly of some particular portion of physiognomy.',\n",
       " 'And the bright eyes of Eleonora grew brighter at my words; and she sighed as if a deadly burthen had been taken from her breast; and she trembled and very bitterly wept; but she made acceptance of the vow, for what was she but a child?',\n",
       " 'I turned author myself.',\n",
       " 'Bennett was asleep, having apparently felt the same anomalous drowsiness which affected me, so I designated Tobey for the next watch although even he was nodding.',\n",
       " 'I contrived, however, to pacify them by promises of payment of all scores in full, as soon as I could bring the present business to a termination.',\n",
       " 'Some who knew him do not admit that he ever existed.',\n",
       " 'It was closer to Maple Hill than to Cone Mountain, some of the crude abodes indeed being dugouts on the side of the former eminence.',\n",
       " 'The external world could take care of itself.',\n",
       " 'The manipulations of Pompey had made, I must confess, a very striking difference in the appearance of the personal man.',\n",
       " 'Then for a moment did Iranon believe he had found those who thought and felt even as he, though the town was not an hundredth as fair as Aira.',\n",
       " 'Then, in endeavouring to do violence to my own disposition, I made all worse than before.',\n",
       " 'His graceful elocution enchained the senses of his hearers.',\n",
       " 'The small, weather worn telephone poles carried only two wires.',\n",
       " 'Posterity is no more; fame, and ambition, and love, are words void of meaning; even as the cattle that grazes in the field, do thou, O deserted one, lie down at evening tide, unknowing of the past, careless of the future, for from such fond ignorance alone canst thou hope for ease Joy paints with its own colours every act and thought.',\n",
       " 'Mr. B. merely cuts out and intersperses.',\n",
       " 'But, in fact, this is a point of minor importance.',\n",
       " 'One disgusting canvas seemed to depict a vast cross section of Beacon Hill, with ant like armies of the mephitic monsters squeezing themselves through burrows that honeycombed the ground.',\n",
       " 'The theatre was tolerably well filled.',\n",
       " 'I neither knew nor cared whether my experience was insanity, dreaming, or magic; but was determined to gaze on brilliance and gaiety at any cost.',\n",
       " 'They are familiar to the world.',\n",
       " 'She was nearly fifteen years older than he, and was the offspring of a former marriage of his father.',\n",
       " 'I grew frantically mad, and struggled to force myself upward against the sweep of the fearful scimitar.',\n",
       " \"M. St. Eustache, the lover and intended husband of Marie, who boarded in her mother's house, deposes that he did not hear of the discovery of the body of his intended until the next morning, when M. Beauvais came into his chamber and told him of it.\",\n",
       " 'I stopped automatically, though lacking the brain to retreat.',\n",
       " 'When his gambols were over, I looked at the paper, and, to speak the truth, found myself not a little puzzled at what my friend had depicted.',\n",
       " 'While such discussions were going on, their subject gradually approached, growing larger in apparent diameter, and of a more brilliant lustre.',\n",
       " 'They stole off at first by ones and twos, then in larger companies, until, unimpeded by the officers, whole battalions sought the road that led to Macedonia.',\n",
       " 'The scenery, judged by any ordinary aesthetic canon, is more than commonly beautiful; yet there is no influx of artists or summer tourists.',\n",
       " 'I am glad that I have loved, and have experienced sympathetic joy and sorrow with my fellow creatures.',\n",
       " 'The trees were lithe, mirthful, erect bright, slender, and graceful, of eastern figure and foliage, with bark smooth, glossy, and parti colored.',\n",
       " 'Scarcely less savage was the \"Lollipop,\" which thus discoursed: \"Some individual, who rejoices in the appellation \\'Oppodeldoc,\\' to what low uses are the names of the illustrious dead too often applied has enclosed us some fifty or sixty verses commencing after this fashion: Achilles\\' wrath, to Greece the direful spring Of woes unnumbered, c., c., c., c. \"\\'Oppodeldoc,\\' whoever he is, is respectfully informed that there is not a printer\\'s devil in our office who is not in the daily habit of composing better lines.',\n",
       " 'He was wholly alone, and his first act was to walk to the balustrade and look dizzily down at the endless, Cyclopean city almost two thousand feet below.',\n",
       " 'I went up to her and offered my services.',\n",
       " 'Those who had lacked something lacked it no longer, yet did fear and hatred and ignorance still brood over The Street; for many had stayed behind, and many strangers had come from distant places to the ancient houses.',\n",
       " 'This I perceived with unhealthy sharpness despite the fact that two of my other senses were violently assailed.',\n",
       " 'He admitted that the principles that I laid down were the best; but he denied that they were the only ones.',\n",
       " 'They were fearfully they were inconceivably hideous; but out of Evil proceeded Good; for their very excess wrought in my spirit an inevitable revulsion.',\n",
       " 'And when time shall have softened your despair, new and dear objects of care will be born to replace those of whom we have been so cruelly deprived.\"',\n",
       " 'How could I have suspected the thing I was to behold?',\n",
       " 'One of these fragile mirrors, that ever doted on thine image, is about to be broken, crumbled to dust.',\n",
       " 'I recall that I did not regard it as a common flashlight indeed, I had a common flashlight in another pocket.',\n",
       " '\"One of the most popular pieces of mechanism which we have seen, Is the Magician constructed by M. Maillardet, for the purpose of answering certain given questions.',\n",
       " 'He was a strange, furtive creature who constantly looked over his shoulder as if afraid of something, and when sober could not be persuaded to talk at all with strangers.',\n",
       " 'Calderon de la Barca.',\n",
       " 'I did not expect it, either, for I thought I was thoroughly forewarned regarding what the jewellery would turn out to be.',\n",
       " 'He was detained three days longer and then he hastened to her.',\n",
       " 'And why should I describe a sorrow which all have felt, and must feel?',\n",
       " 'But I paused when I reflected on the story that I had to tell.',\n",
       " 'Ruined castles hanging on the precipices of piny mountains, the impetuous Arve, and cottages every here and there peeping forth from among the trees formed a scene of singular beauty.',\n",
       " 'I did not weep, but I wiped the perspiration from my brow, and tried to still my brain and heart beating almost to madness.',\n",
       " 'The steps were many, and led to a narrow stone flagged passage which I knew must be far underground.',\n",
       " 'I had already decided not to abandon the quest for the lurking fear, for in my rash ignorance it seemed to me that uncertainty was worse than enlightenment, however terrible the latter might prove to be.',\n",
       " 'It had lost, in a great measure, the deep tint of blue it had hitherto worn, being now of a grayish white, and of a lustre dazzling to the eye.',\n",
       " 'But now I went to it in cold blood, and my heart often sickened at the work of my hands.',\n",
       " 'The door marked I, it will be remembered, is still open.',\n",
       " 'We hired a chaise here, and with four horses drove with speed through the storm.',\n",
       " \"Remember we're dealing with a hideous world in which we are practically helpless. . . .\",\n",
       " 'Of the various tales that of aged Soames, the family butler, is most ample and coherent.',\n",
       " 'It was at Rome, during the Carnival of , that I attended a masquerade in the palazzo of the Neapolitan Duke Di Broglio.',\n",
       " 'Thus, we talked of them, and moralized, as with diminished numbers we returned to Windsor Castle.',\n",
       " 'And it was the mournful influence of the unperceived shadow that caused him to feel although he neither saw nor heard to feel the presence of my head within the room.',\n",
       " 'A bright light then pervades the cupboard, and the body of the man would be discovered if it were there.',\n",
       " 'Through Asia, from the banks of the Nile to the shores of the Caspian, from the Hellespont even to the sea of Oman, a sudden panic was driven.',\n",
       " 'It was not a wholesome landscape after dark, and I believe I would have noticed its morbidity even had I been ignorant of the terror that stalked there.',\n",
       " 'I always knew you were no scientist Trembling, eh? Trembling with anxiety to see the ultimate things I have discovered?',\n",
       " 'Should I yield to your entreaties and, I may add, to the pleadings of my own bosom would I not be entitled to demand of you a very a very little boon in return?\"',\n",
       " 'I did not wholly disagree with him theoretically, yet held vague instinctive remnants of the primitive faith of my forefathers; so that I could not help eyeing the corpse with a certain amount of awe and terrible expectation.',\n",
       " 'Idris, the most affectionate wife, sister and friend, was a tender and loving mother.',\n",
       " 'Then all motion, of whatever nature, creates?',\n",
       " 'The next night, without daring to ask for the rudder, he removes it.',\n",
       " 'But, my dear Frankenstein,\" continued he, stopping short and gazing full in my face, \"I did not before remark how very ill you appear; so thin and pale; you look as if you had been watching for several nights.\"',\n",
       " 'He shrieked once once only.',\n",
       " 'She first assured him of her boundless confidence; of this he must be conscious, since but for that she would not seek to detain him.',\n",
       " 'Wild visions, opium engendered, flitted, shadow like, before me.',\n",
       " 'Upon entering, I thrust him furiously from me.',\n",
       " 'The tread was heavy, yet seemed to contain a curious quality of cautiousness; a quality which I disliked the more because the tread was heavy.',\n",
       " 'Besides, the estates, which were contiguous, had long exercised a rival influence in the affairs of a busy government.',\n",
       " 'She had been in his employ about a year, when her admirers were thrown info confusion by her sudden disappearance from the shop.',\n",
       " 'He had apparently been strangled, for there was no sign of any violence except the black mark of fingers on his neck.',\n",
       " 'Was that a rat I saw skulking into his hole?',\n",
       " '\"Abhorred monster Fiend that thou art The tortures of hell are too mild a vengeance for thy crimes.',\n",
       " 'Razor in hand, and fully lathered, it was sitting before a looking glass, attempting the operation of shaving, in which it had no doubt previously watched its master through the key hole of the closet.',\n",
       " '\"We will resume this question by mere allusion to the revolting details of the surgeon examined at the inquest.',\n",
       " 'Ah let me see Let me remember Yes; full easily do I call to mind the precise words of the dear promise you made to Eugenie last night.',\n",
       " 'They partook less of transport and more of calm enthusiasm of enthusiastic repose.',\n",
       " 'And now, too, hearing an incredible popping and fizzing of champagne, I discovered at length, that it proceeded from the person who performed the bottle of that delicate drink during dinner.',\n",
       " \"The topography throughout, even when professing to accord with Blunt's Lunar Chart, is entirely at variance with that or any other lunar chart, and even grossly at variance with itself.\",\n",
       " '\"Vell, Monsieur,\" said she, after surveying me, in great apparent astonishment, for some moments \"Vell, Monsieur?',\n",
       " 'No, all must be changed.',\n",
       " 'Agatha listened with respect, her eyes sometimes filled with tears, which she endeavoured to wipe away unperceived; but I generally found that her countenance and tone were more cheerful after having listened to the exhortations of her father.',\n",
       " 'Madness rides the star wind . . .',\n",
       " 'Nothing could be more magnificent.',\n",
       " 'It was a very capital system indeed simple neat no trouble at all in fact it was delicious it was.\"',\n",
       " 'Still she felt sure that he would come at last; and the wider the breach might appear at this crisis, the more secure she was of closing it for ever.',\n",
       " '\"Well, then, Bobby, my boy you\\'re a fine fellow, aren\\'t you?',\n",
       " 'This was the dream in which I saw a shoggoth for the first time, and the sight set me awake in a frenzy of screaming.',\n",
       " 'The oven, for instance, that was a good hit.',\n",
       " 'yet he was never in better health.',\n",
       " 'It was agreed to call the whole thing a chemical laboratory if discovery should occur.',\n",
       " 'I left at once the employment of Messrs. Cut Comeagain, and set up in the Eye Sore line by myself one of the most lucrative, respectable, and independent of the ordinary occupations.',\n",
       " 'I had imagined that the habitual endurance of the atmospheric pressure at the surface of the earth was the cause, or nearly so, of the pain attending animal existence at a distance above the surface.',\n",
       " 'I was beyond measure disturbed by this intelligence.',\n",
       " 'The patient, Mr. Edward Stapleton, had died, apparently of typhus fever, accompanied with some anomalous symptoms which had excited the curiosity of his medical attendants.',\n",
       " 'Waterfront scum was far too common for special mention; though there was vague talk about one inland trip these mongrels had made, during which faint drumming and red flame were noted on the distant hills.',\n",
       " \"On Frederick's lip arose a fiendish expression, as he became aware of the direction which his glance had, without his consciousness, assumed.\",\n",
       " 'This was, in fact, one of his hobbies.',\n",
       " 'The mountain upon whose top we sit is Helseggen, the Cloudy.',\n",
       " 'Matters of little moment are rarely consigned to parchment; since, for the mere ordinary purposes of drawing or writing, it is not nearly so well adapted as paper.',\n",
       " 'Here he knew strange things had happened once, and there was a faint suggestion behind the surface that everything of that monstrous past might not at least in the darkest, narrowest, and most intricately crooked alleys have utterly perished.',\n",
       " 'Nobody but my enemies ever calls me Suky Snobbs.',\n",
       " '\"Your arrival, my dear cousin,\" said she, \"fills me with hope.',\n",
       " 'What, if circumstance should lead Perdita to suspect, and suspecting to be resolved?',\n",
       " 'Of pain there was some little; of pleasure there was much; but of moral pain or pleasure none at all.',\n",
       " 'I felt I had known it before, in a past remote beyond all recollection; beyond even my tenancy of the body I now possess.',\n",
       " 'Three coffin heights, he reckoned, would permit him to reach the transom; but he could do better with four.',\n",
       " 'By this time Dombrowski, Choynski, Desrochers, Mazurewicz, and the top floor lodger were all crowding into the doorway, and the landlord had sent his wife back to telephone for Dr. Malkowski.',\n",
       " 'The wind, prince of air, raged through his kingdom, lashing the sea into fury, and subduing the rebel earth into some sort of obedience.',\n",
       " 'The season of the assizes approached.',\n",
       " 'None of the non natives ever stayed out late at night, there being a widespread impression that it was not wise to do so.',\n",
       " '\"But is it not possible,\" I suggested, \"that although the letter may be in possession of the minister, as it unquestionably is, he may have concealed it elsewhere than upon his own premises?\"',\n",
       " 'He had awaked to find himself standing bloody handed in the snow before his cabin, the mangled corpse of his neighbour Peter Slader at his feet.',\n",
       " 'The jumble of French changed to a cry in English, and the hoarse voice shouted excitedly, \"My breath, my breath\" Then the awakening became complete, and with a subsidence of facial expression to the normal state my uncle seized my hand and began to relate a dream whose nucleus of significance I could only surmise with a kind of awe.',\n",
       " 'And the queer part was, that Pickman got none of his power from the use of selectiveness or bizarrerie.',\n",
       " '\\'By your language, stranger, I suppose you are my countryman; are you French?\\' \"\\'No; but I was educated by a French family and understand that language only.',\n",
       " 'We rapidly drew near, so that at length the number and forms of those within could be discerned; its dark sides grew big, and the splash of its oars became audible: I could distinguish the languid form of my friend, as he half raised himself at our approach.',\n",
       " 'It was certainly nervous waiting, and the blasphemous book in my hands made it doubly so.',\n",
       " 'Perdita was still to a great degree uneducated.',\n",
       " 'It was the silent first comer who had burned his books.',\n",
       " '\"To dream,\" he continued, resuming the tone of his desultory conversation, as he held up to the rich light of a censer one of the magnificent vases \"to dream has been the business of my life.',\n",
       " 'It was owned by a curious group of half castes whose frequent meetings and night trips to the woods attracted no little curiosity; and it had set sail in great haste just after the storm and earth tremors of March st.',\n",
       " 'Is it any wonder, then, that I prize it?',\n",
       " 'All this time I had never let go of the ring bolt.',\n",
       " 'I feared to wander from the sight of my fellow creatures lest when alone he should come to claim his companion.',\n",
       " 'I have said that the sole effect of my somewhat childish experiment that of looking down within the tarn had been to deepen the first singular impression.',\n",
       " 'Olney does not recall many of the wonders he told, or even who he was; but says that he was strange and kindly, and filled with the magic of unfathomed voids of time and space.',\n",
       " 'After all we miscalculated.',\n",
       " 'His health was impaired beyond hope of cure; and it became his earnest wish, before he died, to preserve his daughter from the poverty which would be the portion of her orphan state.',\n",
       " 'So now I am to end it all, having written a full account for the information or the contemptuous amusement of my fellow men.',\n",
       " 'Young men should be diffident of themselves, you know, M. Clerval: I was myself when young; but that wears out in a very short time.\"',\n",
       " 'I reasoned, for example, thus: When I drew the scarabæus, there was no skull apparent upon the parchment.',\n",
       " 'Had I never quitted Windsor, these emotions would not have been so intense; but I had in Greece been the prey of fear and deplorable change; in Greece, after a period of anxiety and sorrow, I had seen depart two, whose very names were the symbol of greatness and virtue.',\n",
       " 'Although no two of the time pieces in the chamber struck the individual seconds accurately together, yet I had no difficulty in holding steadily in mind the tones, and the respective momentary errors of each.',\n",
       " \"That's capital That will do for the similes.\",\n",
       " 'Oh Not the ten thousandth portion of the anguish that was mine during the lingering detail of its execution.',\n",
       " 'Now and then, beneath the brown pall of leaves that rotted and festered in the antediluvian forest darkness, I could trace the sinister outlines of some of those low mounds which characterised the lightning pierced region.',\n",
       " '\"And do you dream?\" said the daemon.',\n",
       " 'I permitted it to do so; occasionally stooping and patting it as I proceeded.',\n",
       " 'I lived in a temple glorified by intensest sense of devotion and rapture; I walked, a consecrated being, contemplating only your power, your excellence; For O, you stood beside me, like my youth, Transformed for me the real to a dream, Cloathing the palpable and familiar With golden exhalations of the dawn.',\n",
       " 'Many went up as high as Belfast to ensure a shorter passage, and then journeying south through Scotland, they were joined by the poorer natives of that country, and all poured with one consent into England.',\n",
       " 'Induction, a posteriori, would have brought phrenology to admit, as an innate and primitive principle of human action, a paradoxical something, which we may call perverseness, for want of a more characteristic term.',\n",
       " 'But it made men dream, and so they knew enough to keep away.',\n",
       " 'In truth, much as the owners of cats hated these odd folk, they feared them more; and instead of berating them as brutal assassins, merely took care that no cherished pet or mouser should stray toward the remote hovel under the dark trees.',\n",
       " 'With the lady in question this portion proved to be the mouth.',\n",
       " 'But it was not so; thou didst seek my extinction, that I might not cause greater wretchedness; and if yet, in some mode unknown to me, thou hadst not ceased to think and feel, thou wouldst not desire against me a vengeance greater than that which I feel.',\n",
       " 'A bold diddle is this.',\n",
       " 'With sentiments of profound respect, Your most obedient servant, VON JUNG.',\n",
       " 'The obtuse instrument was clearly the stone pavement in the yard, upon which the victim had fallen from the window which looked in upon the bed.',\n",
       " 'In the architecture and embellishments of the chamber, the evident design had been to dazzle and astound.',\n",
       " 'Among these, and highly distinguished by her, was Prince Zaimi, ambassador to England from the free States of Greece; and his daughter, the young Princess Evadne, passed much of her time at Windsor Castle.',\n",
       " '\"Another circumstance strengthened and confirmed these feelings.',\n",
       " \"Secondly, having settled it to be God's will that man should continue his species, we discovered an organ of amativeness, forthwith.\",\n",
       " 'At first, I had spoken only to those nearest me; but the whole assembly gathered about me, and I found that I was listened to by all.',\n",
       " 'Of polished desert quarried marble were its walls, in height cubits and in breadth , so that chariots might pass each other as men drave them along the top.',\n",
       " '\"You have your fortune to make, Thingum,\" resumed Mr. Crab, \"and that governor of yours is a millstone about your neck.',\n",
       " 'His servants are by no means numerous.',\n",
       " 'Shame seemed to hold him back; yet he evidently wished to establish a renewal of confidence and affection.',\n",
       " 'I obtained from my father a respite of some weeks.',\n",
       " 'We were in the most imminent peril, but as we could only remain passive, my chief attention was occupied by my unfortunate guest whose illness increased in such a degree that he was entirely confined to his bed.',\n",
       " 'That object no larger than a good sized rat and quaintly called by the townspeople \"Brown Jenkin\" seemed to have been the fruit of a remarkable case of sympathetic herd delusion, for in no less than eleven persons had testified to glimpsing it.',\n",
       " 'This may not be; cease to argue the point, for I cannot consent.\"',\n",
       " 'He was perfectly self possessed; he accosted us both with courtesy, seemed immediately to enter into our feelings, and to make one with us.',\n",
       " 'He again took my arm, and we proceeded.',\n",
       " 'This slowly became merged in a sense of retirement this again in a consciousness of solitude.',\n",
       " 'The box did not go into the extra state room.',\n",
       " 'THE thousand injuries of Fortunato I had borne as I best could; but when he ventured upon insult, I vowed revenge.',\n",
       " 'This second sight is very efficient when properly managed.',\n",
       " 'For a moment my soul was elevated from its debasing and miserable fears to contemplate the divine ideas of liberty and self sacrifice of which these sights were the monuments and the remembrancers.',\n",
       " 'I now began to experience, at intervals, severe pain in the head, especially about the ears still, however, breathing with tolerable freedom.',\n",
       " 'Only the silent, sleepy, staring houses in the backwoods can tell all that has lain hidden since the early days; and they are not communicative, being loath to shake off the drowsiness which helps them forget.',\n",
       " 'In such case I should have commenced with a collation and analysis of the shorter words, and, had a word of a single letter occurred, as is most likely, a or I, for example, I should have considered the solution as assured.',\n",
       " 'Six years have passed since I resolved on my present undertaking.',\n",
       " 'In a very short time he was out of sight, and I have no doubt he reached home in safety.',\n",
       " 'The very boldness of his language gave him weight; each knew that he spoke truth a truth known, but not acknowledged.',\n",
       " 'At Bates Street I drew into a yawning vestibule while two shambling figures crossed in front of me, but was soon on my way again and approaching the open space where Eliot Street obliquely crosses Washington at the intersection of South.',\n",
       " 'We assembled again towards evening, and Perdita insisted on our having recourse to music.',\n",
       " 'Then suddenly all the stars were blotted from the sky even bright Deneb and Vega ahead, and the lone Altair and Fomalhaut behind us.',\n",
       " '\"I suppose you have called about the Ourang Outang.',\n",
       " 'You well know that on the whole earth there is no sacrifise that I would not make, no labour that I would not undergo with the mere hope that I might bring you ease.',\n",
       " 'It was formed of a single, broad and thick plank of the tulip wood.',\n",
       " 'Here the bank slopes upward from the stream in a very gentle ascent, forming a broad sward of grass of a texture resembling nothing so much as velvet, and of a brilliancy of green which would bear comparison with the tint of the purest emerald.',\n",
       " 'In the heart of one like me there are secret thoughts working, and secret tortures which you ought not to seek to discover.',\n",
       " 'Supporting her as I did, still she lagged: and at the distance of half a mile, after many stoppages, shivering fits, and half faintings, she slipt from my supporting arm on the snow, and with a torrent of tears averred that she must be taken, for that she could not proceed.',\n",
       " 'In the radical theory of reanimation they saw nothing but the immature vagaries of a youthful enthusiast whose slight form, yellow hair, spectacled blue eyes, and soft voice gave no hint of the supernormal almost diabolical power of the cold brain within.',\n",
       " 'He measures two points, and, with a grace inimitable, offers his Majesty the choice.',\n",
       " 'In especial, the slightest appearance of mystery of any point I cannot exactly comprehend puts me at once into a pitiable state of agitation.',\n",
       " 'Like many excellent people, he seemed possessed with a spirit of tantalization, which might easily, at a casual glance, have been mistaken for malevolence.',\n",
       " 'Upon the eighth night I was more than usually cautious in opening the door.',\n",
       " 'Mrs. Frye proposed telephoning the neighbours, and Elmer was about to agree when the noise of splintering wood burst in upon their deliberations.',\n",
       " 'I was faint, even fainter than the hateful modernity of that accursed city had made me.',\n",
       " 'Their farther intentions were not ascertained; but we can safely promise our readers some additional information either on Monday or in the course of the next day, at farthest.',\n",
       " 'In a few respects they are even unworthy of serious refutation.',\n",
       " 'Yet how could I find this?',\n",
       " 'Dr. Barnard, who had been watching the patient, thought he noticed in the pale blue eyes a certain gleam of peculiar quality; and in the flaccid lips an all but imperceptible tightening, as if of intelligent determination.',\n",
       " 'Leaning upon the arm of the gallant Pompey, and attended at a respectable distance by Diana, I proceeded down one of the populous and very pleasant streets of the now deserted Edina.',\n",
       " 'The writer spoke of acute bodily illness of a mental disorder which oppressed him and of an earnest desire to see me, as his best, and indeed his only personal friend, with a view of attempting, by the cheerfulness of my society, some alleviation of his malady.',\n",
       " 'Immediately upon detecting this motion, and before the arm itself begins to move, let him withdraw his piece, as if perceiving an error in his manoeuvre.',\n",
       " 'We kept track of all the deaths and their circumstances with systematic care.',\n",
       " 'After much toil I found it.',\n",
       " 'At length removing carefully his meerschaum from the right to the left corner of his mouth, he condescended to speak.',\n",
       " 'But hoax, with these sort of people, is, I believe, a general term for all matters above their comprehension.',\n",
       " 'She alone knew the weight which Raymond attached to his success.',\n",
       " 'The town was now a city, and one by one the cabins gave place to houses; simple, beautiful houses of brick and wood, with stone steps and iron railings and fanlights over the doors.',\n",
       " ...]"
      ]
     },
     "execution_count": 17,
     "metadata": {},
     "output_type": "execute_result"
    }
   ],
   "source": [
    "text = list(train.text.values)\n",
    "text"
   ]
  },
  {
   "cell_type": "code",
   "execution_count": 18,
   "metadata": {
    "_cell_guid": "d381b9c9-2324-4638-b7af-ced4271b15ee",
    "_uuid": "533b7ac1291392c9b23d401efed4e601cbec0670",
    "collapsed": true
   },
   "outputs": [],
   "source": [
    "tf_vectorizer = CountVectorizer(max_df=0.95, min_df=2,\n",
    "                                stop_words='english')\n",
    "tf = tf_vectorizer.fit_transform(text)"
   ]
  },
  {
   "cell_type": "code",
   "execution_count": 19,
   "metadata": {
    "_cell_guid": "3d179563-a71d-4e9f-bcb3-2837d65ee269",
    "_uuid": "de6242e5ee08fa318bef172b70d1a5b462263e94"
   },
   "outputs": [
    {
     "name": "stdout",
     "output_type": "stream",
     "text": [
      "['aback', 'abandon', 'abandoned', 'abandoning', 'abandonment', 'abaout', 'abate', 'abatement', 'abbey', 'abbreviation', 'abdication', 'abdul', 'abernethy', 'aberrant', 'aberrations', 'abeyance', 'abhor', 'abhorred', 'abhorrence', 'abhorrent', 'abigail', 'abilities', 'ability', 'abject', 'able', 'abnormal', 'abnormalities', 'abnormality', 'abnormally', 'aboard', 'abode', 'abodes', 'abominable', 'abomination', 'abominations', 'abortions', 'abortive', 'abounds', 'abreast', 'abroad', 'abrupt', 'abruptly', 'abruptness', 'absence', 'absences', 'absent', 'absolute', 'absolutely', 'absorbed', 'absorbing', 'abstract', 'abstracted', 'abstraction', 'abstruse', 'absurd', 'absurdities', 'absurdity', 'absurdly', 'abundance', 'abundant', 'abundantly', 'abuses', 'abutted', 'abutting', 'abysmal', 'abyss', 'abysses', 'academy', 'accelerated', 'accelerating', 'acceleration', 'accent', 'accents', 'accentuation', 'accept', 'acceptance', 'accepted', 'access', 'accessible', 'accession', 'accessory', 'accident', 'accidental', 'accidentally', 'accidents', 'accommodate', 'accommodated', 'accommodation', 'accompanied', 'accompanies', 'accompany', 'accompanying', 'accomplice', 'accomplish', 'accomplished', 'accomplishing', 'accomplishment', 'accomplishments', 'accord', 'accordance']\n"
     ]
    }
   ],
   "source": [
    "print(tf_vectorizer.get_feature_names()[0:100])"
   ]
  },
  {
   "cell_type": "code",
   "execution_count": 20,
   "metadata": {
    "_cell_guid": "7356dddb-9202-47a7-89ef-9a30d8330470",
    "_uuid": "cdddeb380af445d4c2da025ee4c4896b5bd9498b"
   },
   "outputs": [
    {
     "data": {
      "text/html": [
       "<div>\n",
       "<style scoped>\n",
       "    .dataframe tbody tr th:only-of-type {\n",
       "        vertical-align: middle;\n",
       "    }\n",
       "\n",
       "    .dataframe tbody tr th {\n",
       "        vertical-align: top;\n",
       "    }\n",
       "\n",
       "    .dataframe thead th {\n",
       "        text-align: right;\n",
       "    }\n",
       "</style>\n",
       "<table border=\"1\" class=\"dataframe\">\n",
       "  <thead>\n",
       "    <tr style=\"text-align: right;\">\n",
       "      <th></th>\n",
       "      <th>id</th>\n",
       "      <th>text</th>\n",
       "      <th>author</th>\n",
       "      <th>length</th>\n",
       "    </tr>\n",
       "  </thead>\n",
       "  <tbody>\n",
       "    <tr>\n",
       "      <th>0</th>\n",
       "      <td>id26305</td>\n",
       "      <td>This process, however, afforded me no means of...</td>\n",
       "      <td>EAP</td>\n",
       "      <td>40</td>\n",
       "    </tr>\n",
       "    <tr>\n",
       "      <th>1</th>\n",
       "      <td>id17569</td>\n",
       "      <td>It never once occurred to me that the fumbling...</td>\n",
       "      <td>HPL</td>\n",
       "      <td>13</td>\n",
       "    </tr>\n",
       "    <tr>\n",
       "      <th>2</th>\n",
       "      <td>id11008</td>\n",
       "      <td>In his left hand was a gold snuff box, from wh...</td>\n",
       "      <td>EAP</td>\n",
       "      <td>35</td>\n",
       "    </tr>\n",
       "    <tr>\n",
       "      <th>3</th>\n",
       "      <td>id27763</td>\n",
       "      <td>How lovely is spring As we looked from Windsor...</td>\n",
       "      <td>MWS</td>\n",
       "      <td>33</td>\n",
       "    </tr>\n",
       "    <tr>\n",
       "      <th>4</th>\n",
       "      <td>id12958</td>\n",
       "      <td>Finding nothing else, not even gold, the Super...</td>\n",
       "      <td>HPL</td>\n",
       "      <td>26</td>\n",
       "    </tr>\n",
       "  </tbody>\n",
       "</table>\n",
       "</div>"
      ],
      "text/plain": [
       "        id                                               text author  length\n",
       "0  id26305  This process, however, afforded me no means of...    EAP      40\n",
       "1  id17569  It never once occurred to me that the fumbling...    HPL      13\n",
       "2  id11008  In his left hand was a gold snuff box, from wh...    EAP      35\n",
       "3  id27763  How lovely is spring As we looked from Windsor...    MWS      33\n",
       "4  id12958  Finding nothing else, not even gold, the Super...    HPL      26"
      ]
     },
     "execution_count": 20,
     "metadata": {},
     "output_type": "execute_result"
    }
   ],
   "source": [
    "train.head()"
   ]
  },
  {
   "cell_type": "code",
   "execution_count": 21,
   "metadata": {
    "_cell_guid": "e11f6283-2537-47c7-bad7-cbf6e27806cb",
    "_uuid": "62ccda941b1d481523c6f982c83ebe299cbb699c"
   },
   "outputs": [
    {
     "data": {
      "text/html": [
       "<div>\n",
       "<style scoped>\n",
       "    .dataframe tbody tr th:only-of-type {\n",
       "        vertical-align: middle;\n",
       "    }\n",
       "\n",
       "    .dataframe tbody tr th {\n",
       "        vertical-align: top;\n",
       "    }\n",
       "\n",
       "    .dataframe thead th {\n",
       "        text-align: right;\n",
       "    }\n",
       "</style>\n",
       "<table border=\"1\" class=\"dataframe\">\n",
       "  <thead>\n",
       "    <tr style=\"text-align: right;\">\n",
       "      <th></th>\n",
       "      <th>id</th>\n",
       "      <th>text</th>\n",
       "      <th>author</th>\n",
       "      <th>length</th>\n",
       "    </tr>\n",
       "  </thead>\n",
       "  <tbody>\n",
       "    <tr>\n",
       "      <th>2468</th>\n",
       "      <td>id26200</td>\n",
       "      <td>I asked, it is true, for greater treasures tha...</td>\n",
       "      <td>MWS</td>\n",
       "      <td>28</td>\n",
       "    </tr>\n",
       "    <tr>\n",
       "      <th>431</th>\n",
       "      <td>id22547</td>\n",
       "      <td>Yet where had the fellow got such an odd notion?</td>\n",
       "      <td>HPL</td>\n",
       "      <td>9</td>\n",
       "    </tr>\n",
       "    <tr>\n",
       "      <th>12014</th>\n",
       "      <td>id01968</td>\n",
       "      <td>But keep in mind that I didn't drop Pickman fo...</td>\n",
       "      <td>HPL</td>\n",
       "      <td>12</td>\n",
       "    </tr>\n",
       "    <tr>\n",
       "      <th>19041</th>\n",
       "      <td>id03033</td>\n",
       "      <td>They said something about a \"psychosis\", and a...</td>\n",
       "      <td>HPL</td>\n",
       "      <td>17</td>\n",
       "    </tr>\n",
       "    <tr>\n",
       "      <th>11979</th>\n",
       "      <td>id07013</td>\n",
       "      <td>Many attempts had been made to set aside this ...</td>\n",
       "      <td>EAP</td>\n",
       "      <td>37</td>\n",
       "    </tr>\n",
       "  </tbody>\n",
       "</table>\n",
       "</div>"
      ],
      "text/plain": [
       "            id                                               text author  \\\n",
       "2468   id26200  I asked, it is true, for greater treasures tha...    MWS   \n",
       "431    id22547   Yet where had the fellow got such an odd notion?    HPL   \n",
       "12014  id01968  But keep in mind that I didn't drop Pickman fo...    HPL   \n",
       "19041  id03033  They said something about a \"psychosis\", and a...    HPL   \n",
       "11979  id07013  Many attempts had been made to set aside this ...    EAP   \n",
       "\n",
       "       length  \n",
       "2468       28  \n",
       "431         9  \n",
       "12014      12  \n",
       "19041      17  \n",
       "11979      37  "
      ]
     },
     "execution_count": 21,
     "metadata": {},
     "output_type": "execute_result"
    }
   ],
   "source": [
    "from sklearn.model_selection import train_test_split\n",
    "\n",
    "train1 ,test1 = train_test_split(train,test_size=0.2) \n",
    "np.random.seed(0)\n",
    "train1.head()"
   ]
  },
  {
   "cell_type": "code",
   "execution_count": 22,
   "metadata": {
    "_cell_guid": "b780b99d-f919-476f-9c26-f65c4ebbbe52",
    "_uuid": "7d00980f98d0a3c2fce8bfc57a3c13be7f317788",
    "collapsed": true
   },
   "outputs": [],
   "source": [
    "X_train = train1['text'].values\n",
    "X_test = test1['text'].values\n",
    "y_train = train1['author'].values\n",
    "y_test = test1['author'].values"
   ]
  },
  {
   "cell_type": "code",
   "execution_count": 23,
   "metadata": {
    "_cell_guid": "d5444cd7-5e3d-4882-9291-121b5578aba3",
    "_uuid": "1ea92bd92ba7d04c1cdc2b5a8b7a80e6d90f8f35"
   },
   "outputs": [
    {
     "data": {
      "text/plain": [
       "('Yet where had the fellow got such an odd notion?', 'MWS')"
      ]
     },
     "execution_count": 23,
     "metadata": {},
     "output_type": "execute_result"
    }
   ],
   "source": [
    "X_train[1],y_train[0]"
   ]
  },
  {
   "cell_type": "code",
   "execution_count": 24,
   "metadata": {
    "_cell_guid": "78c10248-f940-4fee-a33d-32eef7a4179a",
    "_uuid": "e20a008d2fba9d8c9eb36e64170eb9e8b1354de9"
   },
   "outputs": [
    {
     "data": {
      "text/plain": [
       "('We did every thing that rational humanity could suggest.', 'EAP')"
      ]
     },
     "execution_count": 24,
     "metadata": {},
     "output_type": "execute_result"
    }
   ],
   "source": [
    "X_test[0],y_test[0]"
   ]
  },
  {
   "cell_type": "code",
   "execution_count": 25,
   "metadata": {
    "_cell_guid": "69ab0a35-b8ba-409b-9aa3-0137c2d8e4cb",
    "_uuid": "60d555b08aab92d300789536e5cf3d0e5e5091ad",
    "collapsed": true
   },
   "outputs": [],
   "source": [
    "from sklearn.pipeline import Pipeline\n",
    "from sklearn.feature_extraction.text import CountVectorizer,TfidfVectorizer\n",
    "from sklearn.feature_extraction.text import TfidfTransformer\n",
    "from sklearn import svm"
   ]
  },
  {
   "cell_type": "markdown",
   "metadata": {
    "_cell_guid": "176fc254-2c04-487c-85a1-314f8c5484e1",
    "_uuid": "f2677df43768aacf737053f07928b0b068a6a8ca"
   },
   "source": [
    "**Here i used Countvectorizer only, you can try TfidfVectorizer also.**"
   ]
  },
  {
   "cell_type": "code",
   "execution_count": 26,
   "metadata": {
    "_cell_guid": "6f4e6ae9-6222-4986-89f4-c5effb7adac1",
    "_uuid": "51219d18f42090e284d013a324704ca359e7b56a"
   },
   "outputs": [
    {
     "data": {
      "text/plain": [
       "0.82992849846782435"
      ]
     },
     "execution_count": 26,
     "metadata": {},
     "output_type": "execute_result"
    }
   ],
   "source": [
    "text_clf = Pipeline([('vect', CountVectorizer()),\n",
    "                     ('tfidf', TfidfTransformer()),\n",
    "                     ('clf', svm.LinearSVC())\n",
    "                    ])\n",
    "text_clf = text_clf.fit(X_train,y_train)\n",
    "y_test_predicted = text_clf.predict(X_test)\n",
    "np.mean(y_test_predicted == y_test)"
   ]
  },
  {
   "cell_type": "code",
   "execution_count": 27,
   "metadata": {
    "_cell_guid": "7e40f310-0a7b-4932-a86d-668398fb482e",
    "_uuid": "acd48f1243fb8cb1c1eb1a72902c756248a0b6a8"
   },
   "outputs": [
    {
     "data": {
      "text/plain": [
       "0.83273748723186924"
      ]
     },
     "execution_count": 27,
     "metadata": {},
     "output_type": "execute_result"
    }
   ],
   "source": [
    "text_clf = Pipeline([('vect', TfidfVectorizer()),\n",
    "                     ('tfidf', TfidfTransformer()),\n",
    "                     ('clf', svm.LinearSVC())\n",
    "                    ])\n",
    "text_clf = text_clf.fit(X_train,y_train)\n",
    "y_test_predicted = text_clf.predict(X_test)\n",
    "np.mean(y_test_predicted == y_test)"
   ]
  },
  {
   "cell_type": "markdown",
   "metadata": {
    "_cell_guid": "03e78183-dbe3-4001-aabf-72199b0e7a22",
    "_uuid": "eb07fe396a2d670898a73dd76960a12318617c18"
   },
   "source": [
    "![try other](https://media1.tenor.com/images/35b9a8d480d756f6d31d2d59d56abb4a/tenor.gif?itemid=5139192)\n",
    "\n",
    "**Try with different classifier**"
   ]
  },
  {
   "cell_type": "code",
   "execution_count": 28,
   "metadata": {
    "_cell_guid": "fb1beb69-869a-40b6-8a57-5981d2411fc7",
    "_uuid": "b525d8183159d2f11d5a3d41420e0b5b5bdf4f3a",
    "collapsed": true
   },
   "outputs": [],
   "source": [
    "from sklearn.ensemble import RandomForestClassifier,ExtraTreesClassifier\n",
    "import xgboost as xgb\n",
    "import lightgbm as lgbm\n",
    "from sklearn.naive_bayes import MultinomialNB\n"
   ]
  },
  {
   "cell_type": "code",
   "execution_count": 29,
   "metadata": {
    "_cell_guid": "20dfb588-22f2-447d-9880-047faf4827b9",
    "_uuid": "b3b5226b65bd81dd1bf68dd5c6f7a0a28a9f1afe",
    "collapsed": true
   },
   "outputs": [],
   "source": [
    "rfc = RandomForestClassifier()\n",
    "etrc = ExtraTreesClassifier()\n",
    "xgbc = xgb.XGBClassifier()\n",
    "lgbmc = lgbm.LGBMClassifier()\n",
    "mnb = MultinomialNB()"
   ]
  },
  {
   "cell_type": "code",
   "execution_count": 30,
   "metadata": {
    "_cell_guid": "7afa286c-9b14-418c-a8c3-3fe54d544b56",
    "_uuid": "928a1f6dae63b6135cc130c828da31ac89883ff9"
   },
   "outputs": [
    {
     "data": {
      "text/plain": [
       "0.60725229826353422"
      ]
     },
     "execution_count": 30,
     "metadata": {},
     "output_type": "execute_result"
    }
   ],
   "source": [
    "text_clf = Pipeline([('vect', CountVectorizer()),\n",
    "                     ('tfidf', TfidfTransformer()),\n",
    "                     ('clf', rfc)\n",
    "                    ])\n",
    "text_clf = text_clf.fit(X_train,y_train)\n",
    "y_test_predicted = text_clf.predict(X_test)\n",
    "np.mean(y_test_predicted == y_test)"
   ]
  },
  {
   "cell_type": "code",
   "execution_count": 31,
   "metadata": {
    "_cell_guid": "13b07f0e-6b8e-4b2c-aa77-93fecadfe844",
    "_uuid": "d90897405a3d505358bba285a6aaae557d3e7410"
   },
   "outputs": [
    {
     "data": {
      "text/plain": [
       "0.64198161389172625"
      ]
     },
     "execution_count": 31,
     "metadata": {},
     "output_type": "execute_result"
    }
   ],
   "source": [
    "text_clf = Pipeline([('vect', CountVectorizer()),\n",
    "                     ('tfidf', TfidfTransformer()),\n",
    "                     ('clf', xgbc)\n",
    "                    ])\n",
    "text_clf = text_clf.fit(X_train,y_train)\n",
    "y_test_predicted = text_clf.predict(X_test)\n",
    "np.mean(y_test_predicted == y_test)"
   ]
  },
  {
   "cell_type": "code",
   "execution_count": 32,
   "metadata": {
    "_cell_guid": "5fce19a1-c93d-4d2f-818d-d0849ba0cef3",
    "_uuid": "5f17058b0846b616a48facf00439fdab06ae0a33"
   },
   "outputs": [
    {
     "data": {
      "text/plain": [
       "0.62691521961184882"
      ]
     },
     "execution_count": 32,
     "metadata": {},
     "output_type": "execute_result"
    }
   ],
   "source": [
    "text_clf = Pipeline([('vect', CountVectorizer()),\n",
    "                     ('tfidf', TfidfTransformer()),\n",
    "                     ('clf', lgbmc)\n",
    "                    ])\n",
    "text_clf = text_clf.fit(X_train,y_train)\n",
    "y_test_predicted = text_clf.predict(X_test)\n",
    "np.mean(y_test_predicted == y_test)"
   ]
  },
  {
   "cell_type": "code",
   "execution_count": 33,
   "metadata": {
    "_cell_guid": "c3016b1a-6b9b-4bea-8bac-b3ccddb4ee31",
    "_uuid": "3b66eb1f30310d97c9260319471ad7c2ac01f17d"
   },
   "outputs": [
    {
     "data": {
      "text/plain": [
       "0.81332992849846786"
      ]
     },
     "execution_count": 33,
     "metadata": {},
     "output_type": "execute_result"
    }
   ],
   "source": [
    "text_clf = Pipeline([('vect', CountVectorizer()),\n",
    "                     ('tfidf', TfidfTransformer()),\n",
    "                     ('clf', mnb)\n",
    "                    ])\n",
    "text_clf = text_clf.fit(X_train,y_train)\n",
    "y_test_predicted = text_clf.predict(X_test)\n",
    "np.mean(y_test_predicted == y_test)"
   ]
  },
  {
   "cell_type": "markdown",
   "metadata": {
    "_cell_guid": "d3d31425-13b1-4754-8ea1-1b710efa1b9d",
    "_uuid": "f30a51cd642c7dc66cfc08fcde7b34637d38a584",
    "collapsed": true
   },
   "source": [
    "**Here i'm trying to apply LSA and extraxt the top words of author EAP**"
   ]
  },
  {
   "cell_type": "code",
   "execution_count": 34,
   "metadata": {
    "_cell_guid": "9c2c5761-9641-4c0a-a715-c2d318df2a1d",
    "_uuid": "ec4666bacf30ff9fbd08127772f71fcaf9410ef3"
   },
   "outputs": [
    {
     "data": {
      "text/html": [
       "<div>\n",
       "<style scoped>\n",
       "    .dataframe tbody tr th:only-of-type {\n",
       "        vertical-align: middle;\n",
       "    }\n",
       "\n",
       "    .dataframe tbody tr th {\n",
       "        vertical-align: top;\n",
       "    }\n",
       "\n",
       "    .dataframe thead th {\n",
       "        text-align: right;\n",
       "    }\n",
       "</style>\n",
       "<table border=\"1\" class=\"dataframe\">\n",
       "  <thead>\n",
       "    <tr style=\"text-align: right;\">\n",
       "      <th></th>\n",
       "      <th>id</th>\n",
       "      <th>text</th>\n",
       "      <th>author</th>\n",
       "      <th>length</th>\n",
       "    </tr>\n",
       "  </thead>\n",
       "  <tbody>\n",
       "    <tr>\n",
       "      <th>0</th>\n",
       "      <td>id26305</td>\n",
       "      <td>This process, however, afforded me no means of...</td>\n",
       "      <td>EAP</td>\n",
       "      <td>40</td>\n",
       "    </tr>\n",
       "    <tr>\n",
       "      <th>1</th>\n",
       "      <td>id17569</td>\n",
       "      <td>It never once occurred to me that the fumbling...</td>\n",
       "      <td>HPL</td>\n",
       "      <td>13</td>\n",
       "    </tr>\n",
       "    <tr>\n",
       "      <th>2</th>\n",
       "      <td>id11008</td>\n",
       "      <td>In his left hand was a gold snuff box, from wh...</td>\n",
       "      <td>EAP</td>\n",
       "      <td>35</td>\n",
       "    </tr>\n",
       "    <tr>\n",
       "      <th>3</th>\n",
       "      <td>id27763</td>\n",
       "      <td>How lovely is spring As we looked from Windsor...</td>\n",
       "      <td>MWS</td>\n",
       "      <td>33</td>\n",
       "    </tr>\n",
       "    <tr>\n",
       "      <th>4</th>\n",
       "      <td>id12958</td>\n",
       "      <td>Finding nothing else, not even gold, the Super...</td>\n",
       "      <td>HPL</td>\n",
       "      <td>26</td>\n",
       "    </tr>\n",
       "  </tbody>\n",
       "</table>\n",
       "</div>"
      ],
      "text/plain": [
       "        id                                               text author  length\n",
       "0  id26305  This process, however, afforded me no means of...    EAP      40\n",
       "1  id17569  It never once occurred to me that the fumbling...    HPL      13\n",
       "2  id11008  In his left hand was a gold snuff box, from wh...    EAP      35\n",
       "3  id27763  How lovely is spring As we looked from Windsor...    MWS      33\n",
       "4  id12958  Finding nothing else, not even gold, the Super...    HPL      26"
      ]
     },
     "execution_count": 34,
     "metadata": {},
     "output_type": "execute_result"
    }
   ],
   "source": [
    "train.head()"
   ]
  },
  {
   "cell_type": "code",
   "execution_count": 35,
   "metadata": {
    "_cell_guid": "04c0b7ac-de17-4d1e-9a5c-f1f1329b2fd0",
    "_uuid": "5bb0e8681f127abd6498da120530e4ebf25f21b8",
    "collapsed": true
   },
   "outputs": [],
   "source": [
    "text = list(train[train['author']=='EAP'].text.values)\n"
   ]
  },
  {
   "cell_type": "code",
   "execution_count": 36,
   "metadata": {
    "_cell_guid": "2c4f7477-2f55-4db0-aa06-e56c74155329",
    "_uuid": "906056e1503ce1ed7b60b186545af957aa93fdc0",
    "collapsed": true
   },
   "outputs": [],
   "source": [
    "from sklearn.feature_extraction.text import TfidfVectorizer\n",
    "vectorizer = TfidfVectorizer(lowercase=True,stop_words='english')"
   ]
  },
  {
   "cell_type": "code",
   "execution_count": 37,
   "metadata": {
    "_cell_guid": "efc4a15e-9ea5-40b6-9164-90703904dd48",
    "_uuid": "dc9a1763ec03c218e6b66e6bcc43dce4ec73a105",
    "collapsed": true
   },
   "outputs": [],
   "source": [
    "X =vectorizer.fit_transform(text)\n"
   ]
  },
  {
   "cell_type": "code",
   "execution_count": 38,
   "metadata": {
    "_cell_guid": "d79985bf-3488-4c0c-9a65-f41121347c3a",
    "_uuid": "6319712c2f96d1308360c47d4a371d39c846338d",
    "collapsed": true
   },
   "outputs": [],
   "source": [
    "from sklearn.decomposition import TruncatedSVD\n",
    "lsa = TruncatedSVD(n_components=3,n_iter=500)"
   ]
  },
  {
   "cell_type": "code",
   "execution_count": 39,
   "metadata": {
    "_cell_guid": "f560cd44-6a29-4b89-9a3c-66bda369a9bc",
    "_uuid": "56c4a4c217f2436c32eb960f65cee6c9fa4df515"
   },
   "outputs": [
    {
     "data": {
      "text/plain": [
       "TruncatedSVD(algorithm='randomized', n_components=3, n_iter=500,\n",
       "       random_state=None, tol=0.0)"
      ]
     },
     "execution_count": 39,
     "metadata": {},
     "output_type": "execute_result"
    }
   ],
   "source": [
    "lsa.fit(X)"
   ]
  },
  {
   "cell_type": "code",
   "execution_count": 40,
   "metadata": {
    "_cell_guid": "e2063109-27d5-4dfb-8e82-f41641f9a52f",
    "_uuid": "b728c6ef2c34fd3081b8643a27387dd518e94fb6",
    "collapsed": true
   },
   "outputs": [],
   "source": [
    "terms = vectorizer.get_feature_names()\n"
   ]
  },
  {
   "cell_type": "code",
   "execution_count": 41,
   "metadata": {
    "_cell_guid": "c310199c-61c7-4796-96df-e66782702652",
    "_uuid": "41597d3e49035abc99629b75ba3b723ec16d8454"
   },
   "outputs": [
    {
     "name": "stdout",
     "output_type": "stream",
     "text": [
      "Concept 0:\n",
      "said\n",
      "say\n",
      "man\n",
      "little\n",
      "did\n",
      "time\n",
      "great\n",
      "thought\n",
      "dupin\n",
      "long\n",
      " \n",
      "Concept 1:\n",
      "said\n",
      "dupin\n",
      "yes\n",
      "pounds\n",
      "somebody\n",
      "proceed\n",
      "big\n",
      "bleu\n",
      "sir\n",
      "bas\n",
      " \n",
      "Concept 2:\n",
      "say\n",
      "shall\n",
      "thing\n",
      "did\n",
      "course\n",
      "needless\n",
      "mind\n",
      "thought\n",
      "mean\n",
      "impossible\n",
      " \n"
     ]
    }
   ],
   "source": [
    "for i,comp in enumerate(lsa.components_):\n",
    "    termsInComp = zip(terms,comp)\n",
    "    sortedterms = sorted(termsInComp, key=lambda x: x[1],reverse=True)[:10]\n",
    "    print(\"Concept %d:\" % i)\n",
    "    for term in sortedterms:\n",
    "        print(term[0])\n",
    "    print(\" \")"
   ]
  },
  {
   "cell_type": "markdown",
   "metadata": {
    "_cell_guid": "a45762f4-8e41-4cb9-a001-8399cca8fdf6",
    "_uuid": "071d39e2be3999512b946ee9b5c4d245a3b2cf37"
   },
   "source": [
    "Further :\n",
    "* tune the parameters of the model to get high accuracy\n",
    "* clean the data further if needed like removing common words and stop words\n",
    "* ensemble models\n",
    "* data visulazation\n",
    "* if needed feature engineering \n",
    "and many things to do ....\n",
    "\n"
   ]
  },
  {
   "cell_type": "markdown",
   "metadata": {
    "_cell_guid": "b7fcdac3-b1e2-4450-86ed-b0969c015dc5",
    "_uuid": "277555d330ba5567fb8561e7d47296fcd1c6348a"
   },
   "source": [
    "![please](https://media.giphy.com/media/cyoN6pC6kek2A/giphy.gif)"
   ]
  },
  {
   "cell_type": "markdown",
   "metadata": {
    "_cell_guid": "6914c4bf-ec70-43b5-8995-abbc10b949c5",
    "_uuid": "3b608e0d33401e03ee76343d8234cfaaf873ca96"
   },
   "source": [
    "**More to come...**\n",
    "\n",
    "**Please upvote to encourage me.**\n",
    "\n",
    "**Thank you :)** "
   ]
  },
  {
   "cell_type": "code",
   "execution_count": 42,
   "metadata": {
    "_cell_guid": "c531c37b-8ab2-4461-9aa2-a0674b965f13",
    "_uuid": "7975118285e352f61ceb456af24124878405ff84",
    "collapsed": true
   },
   "outputs": [],
   "source": []
  }
 ],
 "metadata": {
  "kernelspec": {
   "display_name": "Python 3",
   "language": "python",
   "name": "python3"
  },
  "language_info": {
   "codemirror_mode": {
    "name": "ipython",
    "version": 3
   },
   "file_extension": ".py",
   "mimetype": "text/x-python",
   "name": "python",
   "nbconvert_exporter": "python",
   "pygments_lexer": "ipython3",
   "version": "3.6.1"
  }
 },
 "nbformat": 4,
 "nbformat_minor": 1
}
