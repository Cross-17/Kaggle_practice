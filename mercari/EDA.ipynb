{
 "cells": [
  {
   "cell_type": "markdown",
   "metadata": {},
   "source": [
    "## Introduction \n",
    "\n",
    "In this competition, we are asked to predict the price that an item sold for given its description and some other data on category, brand name, and condition. There are a very limited number of features and so this competition will likely come down to modelling the unstructured description text. \n",
    "\n",
    "## Libraries\n",
    "\n",
    "Let's begin by loading the libraries that we will need. \n"
   ]
  },
  {
   "cell_type": "code",
   "execution_count": 1,
   "metadata": {},
   "outputs": [
    {
     "name": "stderr",
     "output_type": "stream",
     "text": [
      "quanteda version 1.0.0\n",
      "Using 3 of 4 threads for parallel computing\n",
      "\n",
      "Attaching package: 'quanteda'\n",
      "\n",
      "The following object is masked from 'jupyter:irkernel':\n",
      "\n",
      "    View\n",
      "\n",
      "The following object is masked from 'package:utils':\n",
      "\n",
      "    View\n",
      "\n"
     ]
    }
   ],
   "source": [
    "library(data.table)\n",
    "library(magrittr)\n",
    "library(ggplot2)\n",
    "library(scales)\n",
    "library(stringr)\n",
    "library(quanteda)\n",
    "library(gridExtra)"
   ]
  },
  {
   "cell_type": "code",
   "execution_count": 2,
   "metadata": {},
   "outputs": [
    {
     "data": {
      "text/html": [
       "<ol class=list-inline>\n",
       "\t<li>1482535</li>\n",
       "\t<li>8</li>\n",
       "</ol>\n"
      ],
      "text/latex": [
       "\\begin{enumerate*}\n",
       "\\item 1482535\n",
       "\\item 8\n",
       "\\end{enumerate*}\n"
      ],
      "text/markdown": [
       "1. 1482535\n",
       "2. 8\n",
       "\n",
       "\n"
      ],
      "text/plain": [
       "[1] 1482535       8"
      ]
     },
     "metadata": {},
     "output_type": "display_data"
    },
    {
     "name": "stdout",
     "output_type": "stream",
     "text": [
      "417.3 Mb\n"
     ]
    },
    {
     "data": {
      "text/html": [
       "<table>\n",
       "<thead><tr><th scope=col>train_id</th><th scope=col>name</th><th scope=col>item_condition_id</th><th scope=col>category_name</th><th scope=col>brand_name</th><th scope=col>price</th><th scope=col>shipping</th><th scope=col>item_description</th></tr></thead>\n",
       "<tbody>\n",
       "\t<tr><td>0                                                                                                                                                                                           </td><td>MLB Cincinnati Reds T Shirt Size XL                                                                                                                                                         </td><td>3                                                                                                                                                                                           </td><td>Men/Tops/T-shirts                                                                                                                                                                           </td><td>                                                                                                                                                                                            </td><td>10                                                                                                                                                                                          </td><td>1                                                                                                                                                                                           </td><td>No description yet                                                                                                                                                                          </td></tr>\n",
       "\t<tr><td>1                                                                                                                                                                                           </td><td><span style=white-space:pre-wrap>Razer BlackWidow Chroma Keyboard   </span>                                                                                                                 </td><td>3                                                                                                                                                                                           </td><td>Electronics/Computers &amp; Tablets/Components &amp; Parts                                                                                                                                  </td><td>Razer                                                                                                                                                                                       </td><td>52                                                                                                                                                                                          </td><td>0                                                                                                                                                                                           </td><td>This keyboard is in great condition and works like it came out of the box. All of the ports are tested and work perfectly. The lights are customizable via the Razer Synapse app on your PC.</td></tr>\n",
       "\t<tr><td>2                                                                                                                                                                                                                                   </td><td><span style=white-space:pre-wrap>AVA-VIV Blouse                     </span>                                                                                                                                                         </td><td>1                                                                                                                                                                                                                                   </td><td><span style=white-space:pre-wrap>Women/Tops &amp; Blouses/Blouse                       </span>                                                                                                                                      </td><td>Target                                                                                                                                                                                                                              </td><td>10                                                                                                                                                                                                                                  </td><td>1                                                                                                                                                                                                                                   </td><td><span style=white-space:pre-wrap>Adorable top with a hint of lace and a key hole in the back! The pale pink is a 1X, and I also have a 3X available in white!                                                                </span></td></tr>\n",
       "\t<tr><td>3                                                                                                                                                                                           </td><td>Leather Horse Statues                                                                                                                                                                       </td><td>1                                                                                                                                                                                           </td><td>Home/Home D茅cor/Home D茅cor Accents                                                                                                                                                        </td><td>                                                                                                                                                                                            </td><td>35                                                                                                                                                                                          </td><td>1                                                                                                                                                                                           </td><td>New with tags. Leather horses. Retail for [rm] each. Stand about a foot high. They are being sold as a pair. Any questions please ask. Free shipping. Just got out of storage               </td></tr>\n",
       "\t<tr><td>4                                                                                                                                                                                           </td><td>24K GOLD plated rose                                                                                                                                                                        </td><td>1                                                                                                                                                                                           </td><td>Women/Jewelry/Necklaces                                                                                                                                                                     </td><td>                                                                                                                                                                                            </td><td>44                                                                                                                                                                                          </td><td>0                                                                                                                                                                                           </td><td>Complete with certificate of authenticity                                                                                                                                                   </td></tr>\n",
       "\t<tr><td>5                                                                                                                                                                                           </td><td>Bundled items requested for Ruie                                                                                                                                                            </td><td>3                                                                                                                                                                                           </td><td>Women/Other/Other                                                                                                                                                                           </td><td>                                                                                                                                                                                            </td><td>59                                                                                                                                                                                          </td><td>0                                                                                                                                                                                           </td><td>Banana republic bottoms, Candies skirt with matching blazer,Amy Byers suit, Loft bottoms and cami top.                                                                                      </td></tr>\n",
       "</tbody>\n",
       "</table>\n"
      ],
      "text/latex": [
       "\\begin{tabular}{r|llllllll}\n",
       " train\\_id & name & item\\_condition\\_id & category\\_name & brand\\_name & price & shipping & item\\_description\\\\\n",
       "\\hline\n",
       "\t 0                                                                                                                                                                                            & MLB Cincinnati Reds T Shirt Size XL                                                                                                                                                          & 3                                                                                                                                                                                            & Men/Tops/T-shirts                                                                                                                                                                            &                                                                                                                                                                                              & 10                                                                                                                                                                                           & 1                                                                                                                                                                                            & No description yet                                                                                                                                                                          \\\\\n",
       "\t 1                                                                                                                                                                                            & Razer BlackWidow Chroma Keyboard                                                                                                                                                             & 3                                                                                                                                                                                            & Electronics/Computers \\& Tablets/Components \\& Parts                                                                                                                                       & Razer                                                                                                                                                                                        & 52                                                                                                                                                                                           & 0                                                                                                                                                                                            & This keyboard is in great condition and works like it came out of the box. All of the ports are tested and work perfectly. The lights are customizable via the Razer Synapse app on your PC.\\\\\n",
       "\t 2                                                                                                                                                                                            & AVA-VIV Blouse                                                                                                                                                                               & 1                                                                                                                                                                                            & Women/Tops \\& Blouses/Blouse                                                                                                                                                                & Target                                                                                                                                                                                       & 10                                                                                                                                                                                           & 1                                                                                                                                                                                            & Adorable top with a hint of lace and a key hole in the back! The pale pink is a 1X, and I also have a 3X available in white!                                                                \\\\\n",
       "\t 3                                                                                                                                                                                                & Leather Horse Statues                                                                                                                                                                            & 1                                                                                                                                                                                                & Home/Home D茅cor/Home D茅cor Accents                                                                                                                                                             &                                                                                                                                                                                                  & 35                                                                                                                                                                                               & 1                                                                                                                                                                                                & New with tags. Leather horses. Retail for {[}rm{]} each. Stand about a foot high. They are being sold as a pair. Any questions please ask. Free shipping. Just got out of storage               \\\\\n",
       "\t 4                                                                                                                                                                                            & 24K GOLD plated rose                                                                                                                                                                         & 1                                                                                                                                                                                            & Women/Jewelry/Necklaces                                                                                                                                                                      &                                                                                                                                                                                              & 44                                                                                                                                                                                           & 0                                                                                                                                                                                            & Complete with certificate of authenticity                                                                                                                                                   \\\\\n",
       "\t 5                                                                                                                                                                                            & Bundled items requested for Ruie                                                                                                                                                             & 3                                                                                                                                                                                            & Women/Other/Other                                                                                                                                                                            &                                                                                                                                                                                              & 59                                                                                                                                                                                           & 0                                                                                                                                                                                            & Banana republic bottoms, Candies skirt with matching blazer,Amy Byers suit, Loft bottoms and cami top.                                                                                      \\\\\n",
       "\\end{tabular}\n"
      ],
      "text/markdown": [
       "\n",
       "train_id | name | item_condition_id | category_name | brand_name | price | shipping | item_description | \n",
       "|---|---|---|---|---|---|\n",
       "| 0                                                                                                                                                                                            | MLB Cincinnati Reds T Shirt Size XL                                                                                                                                                          | 3                                                                                                                                                                                            | Men/Tops/T-shirts                                                                                                                                                                            |                                                                                                                                                                                              | 10                                                                                                                                                                                           | 1                                                                                                                                                                                            | No description yet                                                                                                                                                                           | \n",
       "| 1                                                                                                                                                                                            | Razer BlackWidow Chroma Keyboard                                                                                                                                                             | 3                                                                                                                                                                                            | Electronics/Computers & Tablets/Components & Parts                                                                                                                                           | Razer                                                                                                                                                                                        | 52                                                                                                                                                                                           | 0                                                                                                                                                                                            | This keyboard is in great condition and works like it came out of the box. All of the ports are tested and work perfectly. The lights are customizable via the Razer Synapse app on your PC. | \n",
       "| 2                                                                                                                                                                                            | AVA-VIV Blouse                                                                                                                                                                               | 1                                                                                                                                                                                            | Women/Tops & Blouses/Blouse                                                                                                                                                                  | Target                                                                                                                                                                                       | 10                                                                                                                                                                                           | 1                                                                                                                                                                                            | Adorable top with a hint of lace and a key hole in the back! The pale pink is a 1X, and I also have a 3X available in white!                                                                 | \n",
       "| 3                                                                                                                                                                                            | Leather Horse Statues                                                                                                                                                                        | 1                                                                                                                                                                                            | Home/Home D茅cor/Home D茅cor Accents                                                                                                                                                         |                                                                                                                                                                                              | 35                                                                                                                                                                                           | 1                                                                                                                                                                                            | New with tags. Leather horses. Retail for [rm] each. Stand about a foot high. They are being sold as a pair. Any questions please ask. Free shipping. Just got out of storage                | \n",
       "| 4                                                                                                                                                                                            | 24K GOLD plated rose                                                                                                                                                                         | 1                                                                                                                                                                                            | Women/Jewelry/Necklaces                                                                                                                                                                      |                                                                                                                                                                                              | 44                                                                                                                                                                                           | 0                                                                                                                                                                                            | Complete with certificate of authenticity                                                                                                                                                    | \n",
       "| 5                                                                                                                                                                                            | Bundled items requested for Ruie                                                                                                                                                             | 3                                                                                                                                                                                            | Women/Other/Other                                                                                                                                                                            |                                                                                                                                                                                              | 59                                                                                                                                                                                           | 0                                                                                                                                                                                            | Banana republic bottoms, Candies skirt with matching blazer,Amy Byers suit, Loft bottoms and cami top.                                                                                       | \n",
       "\n",
       "\n"
      ],
      "text/plain": [
       "  train_id name                                item_condition_id\n",
       "1 0        MLB Cincinnati Reds T Shirt Size XL 3                \n",
       "2 1        Razer BlackWidow Chroma Keyboard    3                \n",
       "3 2        AVA-VIV Blouse                      1                \n",
       "4 3        Leather Horse Statues               1                \n",
       "5 4        24K GOLD plated rose                1                \n",
       "6 5        Bundled items requested for Ruie    3                \n",
       "  category_name                                      brand_name price shipping\n",
       "1 Men/Tops/T-shirts                                             10    1       \n",
       "2 Electronics/Computers & Tablets/Components & Parts Razer      52    0       \n",
       "3 Women/Tops & Blouses/Blouse                        Target     10    1       \n",
       "4 Home/Home D茅cor/Home D茅cor Accents                          35    1       \n",
       "5 Women/Jewelry/Necklaces                                       44    0       \n",
       "6 Women/Other/Other                                             59    0       \n",
       "  item_description                                                                                                                                                                            \n",
       "1 No description yet                                                                                                                                                                          \n",
       "2 This keyboard is in great condition and works like it came out of the box. All of the ports are tested and work perfectly. The lights are customizable via the Razer Synapse app on your PC.\n",
       "3 Adorable top with a hint of lace and a key hole in the back! The pale pink is a 1X, and I also have a 3X available in white!                                                                \n",
       "4 New with tags. Leather horses. Retail for [rm] each. Stand about a foot high. They are being sold as a pair. Any questions please ask. Free shipping. Just got out of storage               \n",
       "5 Complete with certificate of authenticity                                                                                                                                                   \n",
       "6 Banana republic bottoms, Candies skirt with matching blazer,Amy Byers suit, Loft bottoms and cami top.                                                                                      "
      ]
     },
     "metadata": {},
     "output_type": "display_data"
    }
   ],
   "source": [
    "dtrain <- fread('input/train.tsv', showProgress = FALSE)\n",
    "\n",
    "dim(dtrain)\n",
    "\n",
    "print(object.size(dtrain), units = 'Mb')\n",
    "\n",
    "head(dtrain)"
   ]
  },
  {
   "cell_type": "markdown",
   "metadata": {},
   "source": [
    "## Target Variable Analysis (Price) \n",
    "Let's start with an analysis of the target variable: price. First, the range of item prices:"
   ]
  },
  {
   "cell_type": "code",
   "execution_count": 3,
   "metadata": {},
   "outputs": [
    {
     "data": {
      "text/html": [
       "<ol class=list-inline>\n",
       "\t<li>0</li>\n",
       "\t<li>2009</li>\n",
       "</ol>\n"
      ],
      "text/latex": [
       "\\begin{enumerate*}\n",
       "\\item 0\n",
       "\\item 2009\n",
       "\\end{enumerate*}\n"
      ],
      "text/markdown": [
       "1. 0\n",
       "2. 2009\n",
       "\n",
       "\n"
      ],
      "text/plain": [
       "[1]    0 2009"
      ]
     },
     "metadata": {},
     "output_type": "display_data"
    }
   ],
   "source": [
    "range(dtrain$price)"
   ]
  },
  {
   "cell_type": "markdown",
   "metadata": {
    "collapsed": true
   },
   "source": [
    "The item price ranges from 0 (I guess some items on Mercari are given away?) to $2009. Let's look at the histogram of prices. Because price is likely skewed and because there are some 0s, we'll plot the log of price + 1. "
   ]
  },
  {
   "cell_type": "code",
   "execution_count": 4,
   "metadata": {},
   "outputs": [
    {
     "name": "stderr",
     "output_type": "stream",
     "text": [
      "`stat_bin()` using `bins = 30`. Pick better value with `binwidth`.\n"
     ]
    },
    {
     "data": {},
     "metadata": {},
     "output_type": "display_data"
    },
    {
     "data": {
      "image/png": "[encoded data removed]",
      "text/plain": [
       "plot without title"
      ]
     },
     "metadata": {},
     "output_type": "display_data"
    }
   ],
   "source": [
    "ggplot(data = dtrain, aes(x = log(price+1))) + \n",
    "    geom_histogram(fill = 'orangered2') +\n",
    "    labs(title = 'Histogram of log item price + 1')"
   ]
  },
  {
   "cell_type": "code",
   "execution_count": null,
   "metadata": {
    "collapsed": true
   },
   "outputs": [],
   "source": []
  }
 ],
 "metadata": {
  "kernelspec": {
   "display_name": "R",
   "language": "R",
   "name": "ir"
  },
  "language_info": {
   "codemirror_mode": "r",
   "file_extension": ".r",
   "mimetype": "text/x-r-source",
   "name": "R",
   "pygments_lexer": "r",
   "version": "3.4.3"
  }
 },
 "nbformat": 4,
 "nbformat_minor": 2
}
