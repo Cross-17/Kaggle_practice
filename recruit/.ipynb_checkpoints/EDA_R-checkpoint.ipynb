{
 "cells": [
  {
   "cell_type": "markdown",
   "metadata": {},
   "source": [
    "# Introduction\n",
    "\n",
    "This is an initial Exploratory Data Analysis for the [Recruit Restaurant Visitor Forecasting](https://www.kaggle.com/c/recruit-restaurant-visitor-forecasting) competition with the powers of [tidy R](http://tidyverse.org/) and [ggplot2](http://ggplot2.tidyverse.org/).\n",
    "\n",
    "The aim of this challenge is to predict the future numbers of restaurant visitors. This makes it a Time Series Forecasting problem. The data was collected from Japanese restaurants. As we will see, the data set is small and easily accessible without requiring much memory or computing power. Therefore, this competition is particularly suited for beginners.\n",
    "\n",
    "The [data](https://www.kaggle.com/c/recruit-restaurant-visitor-forecasting/data) comes in the shape of 8 relational files which are derived from two separate Japanese websites that collect user information: \"Hot Pepper Gourmet (hpg): similar to Yelp\" (search and reserve) and \"AirREGI / Restaurant Board (air): similar to Square\" (reservation control and cash register). The training data is based on the time range of Jan 2016 - most of Apr 2017, while the test set includes the last week of Apr plus May 2017. The test data \"intentionally spans a holiday week in Japan called the 'Golden Week.' The [data description](https://www.kaggle.com/c/recruit-restaurant-visitor-forecasting/data) further notes that: \"There are days in the test set where the restaurant were closed and had no visitors. These are ignored in scoring. The training set omits days where the restaurants were closed.\"\n",
    "\n",
    "Those are the individual files:\n",
    "\n",
    "- **air_visit_data.csv**: historical visit data for the *air* restaurants. This is essentially the main training data set.\n",
    "\n",
    "- **air_reserve.csv** / **hpg_reserve.csv**: reservations made through the *air* / *hpg* systems.\n",
    "\n",
    "- **air_store_info.csv** / **hpg_store_info.csv**: details about the *air* / *hpg* restaurants including genre and location.\n",
    "\n",
    "- **store_id_relation.csv**: connects the *air* and *hpg* ids\n",
    "\n",
    "- **date_info.csv**: essentially flags the Japanese holidays.\n",
    "\n",
    "- **sample_submission.csv**: serves as the *test* set. The *id* is formed by combining the *air* id with the visit date.\n",
    "\n",
    "## Load libraries\n",
    "\n",
    "We load a range of libraries for general data wrangling and general visualisation together with more specialised tools.\n"
   ]
  },
  {
   "cell_type": "code",
   "execution_count": 12,
   "metadata": {},
   "outputs": [],
   "source": [
    "# general visualisation\n",
    "library('ggplot2') # visualisation\n",
    "library('scales') # visualisation\n",
    "library('grid') # visualisation\n",
    "library('gridExtra') # visualisation\n",
    "library('RColorBrewer') # visualisation\n",
    "library('corrplot') # visualisation\n",
    "\n",
    "# general data manipulation\n",
    "library('dplyr') # data manipulation\n",
    "library('readr') # input/output\n",
    "library('data.table') # data manipulation\n",
    "library('tibble') # data wrangling\n",
    "library('tidyr') # data wrangling\n",
    "library('stringr') # string manipulation\n",
    "library('forcats') # factor manipulation\n",
    "\n",
    "# specific visualisation\n",
    "library('ggfortify') # visualisation\n",
    "library('ggrepel') # visualisation\n",
    "library('ggridges') # visualisation\n",
    "library('ggExtra') # visualisation\n",
    "library('ggforce') # visualisation\n",
    "\n",
    "# specific data manipulation\n",
    "library('lazyeval') # data wrangling\n",
    "library('broom') # data wrangling\n",
    "library('purrr') # string manipulation\n",
    "\n",
    "# Date plus forecast\n",
    "library('lubridate') # date and time\n",
    "library('timeDate') # date and time\n",
    "library('tseries') # time series analysis\n",
    "library('forecast') # time series analysis\n",
    "library('prophet') # time series analysis\n",
    "\n",
    "# Maps / geospatial\n",
    "library('geosphere') # geospatial locations\n",
    "library('leaflet') # maps\n",
    "library('leaflet.extras') # maps\n",
    "library('maps') # maps"
   ]
  },
  {
   "cell_type": "markdown",
   "metadata": {
    "collapsed": true
   },
   "source": [
    "\n",
    "## Helper functions\n",
    "\n",
    "We use the *multiplot* function, courtesy of [R Cookbooks](http://www.cookbook-r.com/Graphs/Multiple_graphs_on_one_page_(ggplot2)/) to create multi-panel plots. We also make use of a brief helper function to compute binomial confidence intervals."
   ]
  },
  {
   "cell_type": "code",
   "execution_count": 13,
   "metadata": {
    "collapsed": true
   },
   "outputs": [],
   "source": [
    "# Define multiple plot function\n",
    "#\n",
    "# ggplot objects can be passed in ..., or to plotlist (as a list of ggplot objects)\n",
    "# - cols:   Number of columns in layout\n",
    "# - layout: A matrix specifying the layout. If present, 'cols' is ignored.\n",
    "#\n",
    "# If the layout is something like matrix(c(1,2,3,3), nrow=2, byrow=TRUE),\n",
    "# then plot 1 will go in the upper left, 2 will go in the upper right, and\n",
    "# 3 will go all the way across the bottom.\n",
    "#\n",
    "multiplot <- function(..., plotlist=NULL, file, cols=1, layout=NULL) {\n",
    "\n",
    "  # Make a list from the ... arguments and plotlist\n",
    "  plots <- c(list(...), plotlist)\n",
    "\n",
    "  numPlots = length(plots)\n",
    "\n",
    "  # If layout is NULL, then use 'cols' to determine layout\n",
    "  if (is.null(layout)) {\n",
    "    # Make the panel\n",
    "    # ncol: Number of columns of plots\n",
    "    # nrow: Number of rows needed, calculated from # of cols\n",
    "    layout <- matrix(seq(1, cols * ceiling(numPlots/cols)),\n",
    "                    ncol = cols, nrow = ceiling(numPlots/cols))\n",
    "  }\n",
    "\n",
    " if (numPlots==1) {\n",
    "    print(plots[[1]])\n",
    "\n",
    "  } else {\n",
    "    # Set up the page\n",
    "    grid.newpage()\n",
    "    pushViewport(viewport(layout = grid.layout(nrow(layout), ncol(layout))))\n",
    "\n",
    "    # Make each plot, in the correct location\n",
    "    for (i in 1:numPlots) {\n",
    "      # Get the i,j matrix positions of the regions that contain this subplot\n",
    "      matchidx <- as.data.frame(which(layout == i, arr.ind = TRUE))\n",
    "\n",
    "      print(plots[[i]], vp = viewport(layout.pos.row = matchidx$row,\n",
    "                                      layout.pos.col = matchidx$col))\n",
    "    }\n",
    "  }\n",
    "}"
   ]
  },
  {
   "cell_type": "code",
   "execution_count": null,
   "metadata": {
    "collapsed": true
   },
   "outputs": [],
   "source": []
  }
 ],
 "metadata": {
  "kernelspec": {
   "display_name": "R",
   "language": "R",
   "name": "ir"
  },
  "language_info": {
   "codemirror_mode": "r",
   "file_extension": ".r",
   "mimetype": "text/x-r-source",
   "name": "R",
   "pygments_lexer": "r",
   "version": "3.4.3"
  }
 },
 "nbformat": 4,
 "nbformat_minor": 2
}
