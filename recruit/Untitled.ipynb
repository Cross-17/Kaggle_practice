{
 "cells": [
  {
   "cell_type": "markdown",
   "metadata": {},
   "source": [
    "# Introduction\n",
    "\n",
    "This is an initial Exploratory Data Analysis for the [Recruit Restaurant Visitor Forecasting](https://www.kaggle.com/c/recruit-restaurant-visitor-forecasting) competition with the powers of [tidy R](http://tidyverse.org/) and [ggplot2](http://ggplot2.tidyverse.org/).\n",
    "\n",
    "The aim of this challenge is to predict the future numbers of restaurant visitors. This makes it a Time Series Forecasting problem. The data was collected from Japanese restaurants. As we will see, the data set is small and easily accessible without requiring much memory or computing power. Therefore, this competition is particularly suited for beginners.\n",
    "\n",
    "The [data](https://www.kaggle.com/c/recruit-restaurant-visitor-forecasting/data) comes in the shape of 8 relational files which are derived from two separate Japanese websites that collect user information: \"Hot Pepper Gourmet (hpg): similar to Yelp\" (search and reserve) and \"AirREGI / Restaurant Board (air): similar to Square\" (reservation control and cash register). The training data is based on the time range of Jan 2016 - most of Apr 2017, while the test set includes the last week of Apr plus May 2017. The test data \"intentionally spans a holiday week in Japan called the 'Golden Week.' The [data description](https://www.kaggle.com/c/recruit-restaurant-visitor-forecasting/data) further notes that: \"There are days in the test set where the restaurant were closed and had no visitors. These are ignored in scoring. The training set omits days where the restaurants were closed.\"\n",
    "\n",
    "Those are the individual files:\n",
    "\n",
    "- **air_visit_data.csv**: historical visit data for the *air* restaurants. This is essentially the main training data set.\n",
    "\n",
    "- **air_reserve.csv** / **hpg_reserve.csv**: reservations made through the *air* / *hpg* systems.\n",
    "\n",
    "- **air_store_info.csv** / **hpg_store_info.csv**: details about the *air* / *hpg* restaurants including genre and location.\n",
    "\n",
    "- **store_id_relation.csv**: connects the *air* and *hpg* ids\n",
    "\n",
    "- **date_info.csv**: essentially flags the Japanese holidays.\n",
    "\n",
    "- **sample_submission.csv**: serves as the *test* set. The *id* is formed by combining the *air* id with the visit date.\n",
    "\n",
    "## Load libraries\n",
    "\n",
    "We load a range of libraries for general data wrangling and general visualisation together with more specialised tools.\n"
   ]
  },
  {
   "cell_type": "code",
   "execution_count": 1,
   "metadata": {},
   "outputs": [
    {
     "name": "stderr",
     "output_type": "stream",
     "text": [
      "corrplot 0.84 loaded\n",
      "\n",
      "Attaching package: 'dplyr'\n",
      "\n",
      "The following object is masked from 'package:gridExtra':\n",
      "\n",
      "    combine\n",
      "\n",
      "The following objects are masked from 'package:stats':\n",
      "\n",
      "    filter, lag\n",
      "\n",
      "The following objects are masked from 'package:base':\n",
      "\n",
      "    intersect, setdiff, setequal, union\n",
      "\n",
      "\n",
      "Attaching package: 'readr'\n",
      "\n",
      "The following object is masked from 'package:scales':\n",
      "\n",
      "    col_factor\n",
      "\n",
      "\n",
      "Attaching package: 'data.table'\n",
      "\n",
      "The following objects are masked from 'package:dplyr':\n",
      "\n",
      "    between, first, last\n",
      "\n"
     ]
    },
    {
     "ename": "ERROR",
     "evalue": "Error in library(\"ggfortify\"): there is no package called 'ggfortify'\n",
     "output_type": "error",
     "traceback": [
      "Error in library(\"ggfortify\"): there is no package called 'ggfortify'\nTraceback:\n",
      "1. library(\"ggfortify\")",
      "2. stop(txt, domain = NA)"
     ]
    }
   ],
   "source": [
    "# general visualisation\n",
    "library('ggplot2') # visualisation\n",
    "library('scales') # visualisation\n",
    "library('grid') # visualisation\n",
    "library('gridExtra') # visualisation\n",
    "library('RColorBrewer') # visualisation\n",
    "library('corrplot') # visualisation\n",
    "\n",
    "# general data manipulation\n",
    "library('dplyr') # data manipulation\n",
    "library('readr') # input/output\n",
    "library('data.table') # data manipulation\n",
    "library('tibble') # data wrangling\n",
    "library('tidyr') # data wrangling\n",
    "library('stringr') # string manipulation\n",
    "library('forcats') # factor manipulation\n",
    "\n",
    "# specific visualisation\n",
    "library('ggfortify') # visualisation\n",
    "library('ggrepel') # visualisation\n",
    "library('ggridges') # visualisation\n",
    "library('ggExtra') # visualisation\n",
    "library('ggforce') # visualisation\n",
    "\n",
    "# specific data manipulation\n",
    "library('lazyeval') # data wrangling\n",
    "library('broom') # data wrangling\n",
    "library('purrr') # string manipulation\n",
    "\n",
    "# Date plus forecast\n",
    "library('lubridate') # date and time\n",
    "library('timeDate') # date and time\n",
    "library('tseries') # time series analysis\n",
    "library('forecast') # time series analysis\n",
    "library('prophet') # time series analysis\n",
    "\n",
    "# Maps / geospatial\n",
    "library('geosphere') # geospatial locations\n",
    "library('leaflet') # maps\n",
    "library('leaflet.extras') # maps\n",
    "library('maps') # maps"
   ]
  },
  {
   "cell_type": "code",
   "execution_count": null,
   "metadata": {
    "collapsed": true
   },
   "outputs": [],
   "source": []
  },
  {
   "cell_type": "code",
   "execution_count": null,
   "metadata": {
    "collapsed": true
   },
   "outputs": [],
   "source": []
  }
 ],
 "metadata": {
  "kernelspec": {
   "display_name": "R",
   "language": "R",
   "name": "ir"
  },
  "language_info": {
   "codemirror_mode": "r",
   "file_extension": ".r",
   "mimetype": "text/x-r-source",
   "name": "R",
   "pygments_lexer": "r",
   "version": "3.4.3"
  }
 },
 "nbformat": 4,
 "nbformat_minor": 2
}
