{
 "cells": [
  {
   "cell_type": "code",
   "execution_count": 1,
   "metadata": {
    "collapsed": true
   },
   "outputs": [],
   "source": [
    "import pandas as pd\n",
    "import numpy as np\n",
    "f1 =  pd.read_csv(\"sub7.csv\")\n",
    "f2 =  pd.read_csv(\"blend_it_all.csv\")\n",
    "\n",
    "b1 = f1.copy()\n",
    "col = f1.columns\n",
    "ble = f2.copy()\n",
    "col = col.tolist()\n",
    "col.remove('id')\n",
    "\n",
    "sub1 = b1[:]\n",
    "sub2 = ble[:]\n",
    "cols = [c for c in ble.columns if c not in ['id','comment_text']]\n",
    "sub2.columns = [x+'_' if x not in ['id'] else x for x in sub2.columns]\n",
    "blend = pd.merge(sub1, sub2, how='left', on='id')\n",
    "for c in cols:\n",
    "    blend[c] = np.sqrt(blend[c] * blend[c+'_'])\n",
    "    blend[c] = blend[c].clip(0+1e12, 1-1e12)\n",
    "blend = blend[sub1.columns]\n",
    "blend.to_csv('blend6.csv', index = False)"
   ]
  },
  {
   "cell_type": "code",
   "execution_count": null,
   "metadata": {
    "collapsed": true
   },
   "outputs": [],
   "source": []
  }
 ],
 "metadata": {
  "kernelspec": {
   "display_name": "Python 3",
   "language": "python",
   "name": "python3"
  },
  "language_info": {
   "codemirror_mode": {
    "name": "ipython",
    "version": 3
   },
   "file_extension": ".py",
   "mimetype": "text/x-python",
   "name": "python",
   "nbconvert_exporter": "python",
   "pygments_lexer": "ipython3",
   "version": "3.6.3"
  }
 },
 "nbformat": 4,
 "nbformat_minor": 2
}
