{
 "cells": [
  {
   "cell_type": "code",
   "execution_count": 4,
   "metadata": {},
   "outputs": [
    {
     "name": "stdout",
     "output_type": "stream",
     "text": [
      "\n",
      " Class: toxic\n",
      " Pearson's correlation score: 0.982878\n",
      " Kendall's correlation score: 0.842264\n",
      " Spearman's correlation score: 0.962044\n",
      " Kolmogorov-Smirnov test:    KS-stat = 0.376009    p-value = 0.000e+00\n",
      "\n",
      "\n",
      " Class: severe_toxic\n",
      " Pearson's correlation score: 0.952193\n",
      " Kendall's correlation score: 0.657666\n",
      " Spearman's correlation score: 0.826819\n",
      " Kolmogorov-Smirnov test:    KS-stat = 0.696482    p-value = 0.000e+00\n",
      "\n",
      "\n",
      " Class: obscene\n",
      " Pearson's correlation score: 0.984500\n",
      " Kendall's correlation score: 0.758562\n",
      " Spearman's correlation score: 0.907211\n",
      " Kolmogorov-Smirnov test:    KS-stat = 0.526697    p-value = 0.000e+00\n",
      "\n",
      "\n",
      " Class: threat\n",
      " Pearson's correlation score: 0.889461\n",
      " Kendall's correlation score: 0.620395\n",
      " Spearman's correlation score: 0.810607\n",
      " Kolmogorov-Smirnov test:    KS-stat = 0.595022    p-value = 0.000e+00\n",
      "\n",
      "\n",
      " Class: insult\n",
      " Pearson's correlation score: 0.980671\n",
      " Kendall's correlation score: 0.721364\n",
      " Spearman's correlation score: 0.881378\n",
      " Kolmogorov-Smirnov test:    KS-stat = 0.528310    p-value = 0.000e+00\n",
      "\n",
      "\n",
      " Class: identity_hate\n",
      " Pearson's correlation score: 0.952963\n",
      " Kendall's correlation score: 0.647645\n",
      " Spearman's correlation score: 0.826700\n",
      " Kolmogorov-Smirnov test:    KS-stat = 0.583381    p-value = 0.000e+00\n",
      "\n"
     ]
    }
   ],
   "source": [
    "import pandas as pd\n",
    "import sys\n",
    "from scipy.stats import ks_2samp\n",
    "\n",
    "first_file = sys.argv[1]\n",
    "second_file = sys.argv[2]\n",
    "\n",
    "def corr(first_file, second_file):\n",
    "    # assuming first column is `class_name_id`\n",
    "    first_df = pd.read_csv(first_file, index_col=0)\n",
    "    second_df = pd.read_csv(second_file, index_col=0)\n",
    "    class_names = ['toxic', 'severe_toxic', 'obscene', 'threat', 'insult', 'identity_hate']\n",
    "\n",
    "    for class_name in class_names:\n",
    "        # all correlations\n",
    "        print('\\n Class: %s' % class_name)\n",
    "        print(' Pearson\\'s correlation score: %0.6f' %\n",
    "              first_df[class_name].corr(\n",
    "                  second_df[class_name], method='pearson'))\n",
    "        print(' Kendall\\'s correlation score: %0.6f' %\n",
    "              first_df[class_name].corr(\n",
    "                  second_df[class_name], method='kendall'))\n",
    "        print(' Spearman\\'s correlation score: %0.6f' %\n",
    "              first_df[class_name].corr(\n",
    "                  second_df[class_name], method='spearman'))\n",
    "        ks_stat, p_value = ks_2samp(first_df[class_name].values,\n",
    "                                    second_df[class_name].values)\n",
    "        print(' Kolmogorov-Smirnov test:    KS-stat = %.6f    p-value = %.3e\\n'\n",
    "              % (ks_stat, p_value))\n",
    "\n",
    "corr(\"blend3.csv\", \"sub6.csv\")"
   ]
  },
  {
   "cell_type": "code",
   "execution_count": null,
   "metadata": {
    "collapsed": true
   },
   "outputs": [],
   "source": []
  }
 ],
 "metadata": {
  "kernelspec": {
   "display_name": "Python 3",
   "language": "python",
   "name": "python3"
  },
  "language_info": {
   "codemirror_mode": {
    "name": "ipython",
    "version": 3
   },
   "file_extension": ".py",
   "mimetype": "text/x-python",
   "name": "python",
   "nbconvert_exporter": "python",
   "pygments_lexer": "ipython3",
   "version": "3.6.3"
  }
 },
 "nbformat": 4,
 "nbformat_minor": 2
}
