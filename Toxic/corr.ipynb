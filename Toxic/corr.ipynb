{
 "cells": [
  {
   "cell_type": "code",
   "execution_count": 3,
   "metadata": {},
   "outputs": [
    {
     "name": "stdout",
     "output_type": "stream",
     "text": [
      "\n",
      " Class: toxic\n",
      " Pearson's correlation score: 0.999029\n",
      " Kendall's correlation score: 0.946073\n",
      " Spearman's correlation score: 0.994040\n",
      " Kolmogorov-Smirnov test:    KS-stat = 0.028806    p-value = 1.143e-55\n",
      "\n",
      "\n",
      " Class: severe_toxic\n",
      " Pearson's correlation score: 0.998216\n",
      " Kendall's correlation score: 0.944378\n",
      " Spearman's correlation score: 0.995236\n",
      " Kolmogorov-Smirnov test:    KS-stat = 0.044619    p-value = 5.734e-133\n",
      "\n",
      "\n",
      " Class: obscene\n",
      " Pearson's correlation score: 0.999122\n",
      " Kendall's correlation score: 0.958234\n",
      " Spearman's correlation score: 0.996242\n",
      " Kolmogorov-Smirnov test:    KS-stat = 0.013724    p-value = 5.778e-13\n",
      "\n",
      "\n",
      " Class: threat\n",
      " Pearson's correlation score: 0.998303\n",
      " Kendall's correlation score: 0.925928\n",
      " Spearman's correlation score: 0.992287\n",
      " Kolmogorov-Smirnov test:    KS-stat = 0.038501    p-value = 4.095e-99\n",
      "\n",
      "\n",
      " Class: insult\n",
      " Pearson's correlation score: 0.998798\n",
      " Kendall's correlation score: 0.961388\n",
      " Spearman's correlation score: 0.997019\n",
      " Kolmogorov-Smirnov test:    KS-stat = 0.022799    p-value = 4.953e-35\n",
      "\n",
      "\n",
      " Class: identity_hate\n",
      " Pearson's correlation score: 0.997503\n",
      " Kendall's correlation score: 0.941558\n",
      " Spearman's correlation score: 0.994755\n",
      " Kolmogorov-Smirnov test:    KS-stat = 0.027480    p-value = 1.059e-50\n",
      "\n"
     ]
    }
   ],
   "source": [
    "import pandas as pd\n",
    "import sys\n",
    "from scipy.stats import ks_2samp\n",
    "\n",
    "first_file = sys.argv[1]\n",
    "second_file = sys.argv[2]\n",
    "\n",
    "def corr(first_file, second_file):\n",
    "    # assuming first column is `class_name_id`\n",
    "    first_df = pd.read_csv(first_file, index_col=0)\n",
    "    second_df = pd.read_csv(second_file, index_col=0)\n",
    "    class_names = ['toxic', 'severe_toxic', 'obscene', 'threat', 'insult', 'identity_hate']\n",
    "\n",
    "    for class_name in class_names:\n",
    "        # all correlations\n",
    "        print('\\n Class: %s' % class_name)\n",
    "        print(' Pearson\\'s correlation score: %0.6f' %\n",
    "              first_df[class_name].corr(\n",
    "                  second_df[class_name], method='pearson'))\n",
    "        print(' Kendall\\'s correlation score: %0.6f' %\n",
    "              first_df[class_name].corr(\n",
    "                  second_df[class_name], method='kendall'))\n",
    "        print(' Spearman\\'s correlation score: %0.6f' %\n",
    "              first_df[class_name].corr(\n",
    "                  second_df[class_name], method='spearman'))\n",
    "        ks_stat, p_value = ks_2samp(first_df[class_name].values,\n",
    "                                    second_df[class_name].values)\n",
    "        print(' Kolmogorov-Smirnov test:    KS-stat = %.6f    p-value = %.3e\\n'\n",
    "              % (ks_stat, p_value))\n",
    "\n",
    "corr(\"blend2.csv\", \"blend3.csv\")"
   ]
  },
  {
   "cell_type": "code",
   "execution_count": null,
   "metadata": {
    "collapsed": true
   },
   "outputs": [],
   "source": []
  }
 ],
 "metadata": {
  "kernelspec": {
   "display_name": "Python 3",
   "language": "python",
   "name": "python3"
  },
  "language_info": {
   "codemirror_mode": {
    "name": "ipython",
    "version": 3
   },
   "file_extension": ".py",
   "mimetype": "text/x-python",
   "name": "python",
   "nbconvert_exporter": "python",
   "pygments_lexer": "ipython3",
   "version": "3.6.3"
  }
 },
 "nbformat": 4,
 "nbformat_minor": 2
}
