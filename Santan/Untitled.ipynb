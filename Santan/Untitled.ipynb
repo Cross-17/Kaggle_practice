{
 "cells": [
  {
   "cell_type": "code",
   "execution_count": 3,
   "metadata": {
    "collapsed": true
   },
   "outputs": [],
   "source": [
    "# coding: utf-8\n",
    "# forked from zfturbo's kernel - https://www.kaggle.com/zfturbo/greedy-children-baseline-0-8168\n",
    "\n",
    "import pandas as pd\n",
    "import numpy as np\n",
    "\n",
    "INPUT_PATH = 'input/'\n",
    "\n",
    "\n",
    "def avg_normalized_happiness(pred, child_pref, gift_pref):\n",
    "    n_children = 1000000  # n children to give\n",
    "    n_gift_type = 1000  # n types of gifts available\n",
    "    n_gift_quantity = 1000  # each type of gifts are limited to this quantity\n",
    "    n_gift_pref = 10  # number of gifts a child ranks\n",
    "    n_child_pref = 1000  # number of children a gift ranks\n",
    "    twins = int(0.004 * n_children)  # 0.4% of all population, rounded to the closest even number\n",
    "    ratio_gift_happiness = 2\n",
    "    ratio_child_happiness = 2\n",
    "\n",
    "    # check if twins have the same gift\n",
    "    for t1 in range(0, twins, 2):\n",
    "        twin1 = pred[t1]\n",
    "        twin2 = pred[t1 + 1]\n",
    "        assert twin1 == twin2\n",
    "\n",
    "    max_child_happiness = n_gift_pref * ratio_child_happiness\n",
    "    max_gift_happiness = n_child_pref * ratio_gift_happiness\n",
    "    total_child_happiness = 0\n",
    "    total_gift_happiness = np.zeros(n_gift_type)\n",
    "\n",
    "    for i in range(len(pred)):\n",
    "        child_id = i\n",
    "        gift_id = pred[i]\n",
    "\n",
    "        # check if child_id and gift_id exist\n",
    "        assert child_id < n_children\n",
    "        assert gift_id < n_gift_type\n",
    "        assert child_id >= 0\n",
    "        assert gift_id >= 0\n",
    "        child_happiness = (n_gift_pref - np.where(gift_pref[child_id] == gift_id)[0]) * ratio_child_happiness\n",
    "        if not child_happiness:\n",
    "            child_happiness = -1\n",
    "\n",
    "        gift_happiness = (n_child_pref - np.where(child_pref[gift_id] == child_id)[0]) * ratio_gift_happiness\n",
    "        if not gift_happiness:\n",
    "            gift_happiness = -1\n",
    "\n",
    "        total_child_happiness += child_happiness\n",
    "        total_gift_happiness[gift_id] += gift_happiness\n",
    "\n",
    "    # print(max_child_happiness, max_gift_happiness\n",
    "    print('Normalized child happiness: ', float(total_child_happiness) / (float(n_children) * float(max_child_happiness)))\n",
    "    print('Normalized santa happiness: ', np.mean(total_gift_happiness) / float(max_gift_happiness * n_gift_quantity))\n",
    "    return float(total_child_happiness) / (float(n_children) * float(max_child_happiness)) \\\n",
    "           + np.mean(total_gift_happiness) / float(max_gift_happiness * n_gift_quantity)"
   ]
  },
  {
   "cell_type": "code",
   "execution_count": 5,
   "metadata": {
    "collapsed": true
   },
   "outputs": [],
   "source": [
    "def solve():\n",
    "    wish = pd.read_csv(INPUT_PATH + 'child_wishlist.csv', header=None).as_matrix()[:, 1:]\n",
    "    gift = pd.read_csv(INPUT_PATH + 'gift_goodkids.csv', header=None).as_matrix()[:, 1:]\n",
    "    answ = np.zeros((len(wish)), dtype=np.int32)\n",
    "    answ[:] = -1\n",
    "    gift_count = np.zeros((len(gift)), dtype=np.int32)\n",
    "\n",
    "    print('twins')\n",
    "    for i in range(0, 4000, 2):\n",
    "        g = wish[i, 0]\n",
    "        answ[i] = g\n",
    "        answ[i+1] = g\n",
    "        gift_count[g] += 2\n",
    "\n",
    "    print('pass 1')\n",
    "    for k in range(10):\n",
    "        for i in range(4000, len(answ)):\n",
    "            g = wish[i, k]\n",
    "            if gift_count[g] < 1000 and answ[i] == -1:\n",
    "                answ[i] = g\n",
    "                gift_count[g] += 1\n",
    "    \n",
    "    print('pass 2')\n",
    "    for i in range(4000, len(answ)):\n",
    "        if answ[i] == -1:\n",
    "            g = np.argmin(gift_count)\n",
    "            answ[i] = g\n",
    "            gift_count[g] += 1\n",
    "\n",
    "\n",
    "    if gift_count.max() > 1000:\n",
    "        print('Some error in kernel: {}'.format(gift_count.max()))\n",
    "\n",
    "    print('eval')\n",
    "    score = avg_normalized_happiness(answ, gift, wish)\n",
    "    print('Predicted score: {:.8f}'.format(score))\n",
    "\n",
    "    out = open('subm.csv', 'w')\n",
    "    out.write('ChildId,GiftId\\n')\n",
    "    for i in range(len(answ)):\n",
    "        out.write(str(i) + ',' + str(answ[i]) + '\\n')\n",
    "    out.close()"
   ]
  },
  {
   "cell_type": "code",
   "execution_count": 4,
   "metadata": {},
   "outputs": [
    {
     "name": "stdout",
     "output_type": "stream",
     "text": [
      "twins\n",
      "pass 1\n",
      "pass 2\n",
      "eval\n",
      "('Normalized child happiness: ', 0.8391131)\n",
      "('Normalized santa happiness: ', -1.5183999999999999e-05)\n",
      "Predicted score: 0.83909792\n"
     ]
    }
   ],
   "source": [
    "solve()"
   ]
  },
  {
   "cell_type": "code",
   "execution_count": null,
   "metadata": {
    "collapsed": true
   },
   "outputs": [],
   "source": []
  }
 ],
 "metadata": {
  "kernelspec": {
   "display_name": "Python 3",
   "language": "python",
   "name": "python3"
  },
  "language_info": {
   "codemirror_mode": {
    "name": "ipython",
    "version": 3
   },
   "file_extension": ".py",
   "mimetype": "text/x-python",
   "name": "python",
   "nbconvert_exporter": "python",
   "pygments_lexer": "ipython3",
   "version": "3.6.1"
  }
 },
 "nbformat": 4,
 "nbformat_minor": 2
}
